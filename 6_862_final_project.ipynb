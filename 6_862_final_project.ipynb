{
  "nbformat": 4,
  "nbformat_minor": 0,
  "metadata": {
    "colab": {
      "name": "6.862_final_project.ipynb",
      "provenance": [],
      "collapsed_sections": [],
      "toc_visible": true,
      "machine_shape": "hm"
    },
    "kernelspec": {
      "name": "python3",
      "display_name": "Python 3"
    },
    "language_info": {
      "name": "python"
    },
    "accelerator": "GPU",
    "widgets": {
      "application/vnd.jupyter.widget-state+json": {
        "97d86a4eee7e48519c50bca5eb2b5bbc": {
          "model_module": "@jupyter-widgets/controls",
          "model_name": "HBoxModel",
          "state": {
            "_view_name": "HBoxView",
            "_dom_classes": [],
            "_model_name": "HBoxModel",
            "_view_module": "@jupyter-widgets/controls",
            "_model_module_version": "1.5.0",
            "_view_count": null,
            "_view_module_version": "1.5.0",
            "box_style": "",
            "layout": "IPY_MODEL_5c545c5e19ee46b3bb2f69d37423ed84",
            "_model_module": "@jupyter-widgets/controls",
            "children": [
              "IPY_MODEL_01c131f482ab4d828fa17a27a9ffbee0",
              "IPY_MODEL_99820bbeba6446fe91ffdbef8cc48031"
            ]
          }
        },
        "5c545c5e19ee46b3bb2f69d37423ed84": {
          "model_module": "@jupyter-widgets/base",
          "model_name": "LayoutModel",
          "state": {
            "_view_name": "LayoutView",
            "grid_template_rows": null,
            "right": null,
            "justify_content": null,
            "_view_module": "@jupyter-widgets/base",
            "overflow": null,
            "_model_module_version": "1.2.0",
            "_view_count": null,
            "flex_flow": null,
            "width": null,
            "min_width": null,
            "border": null,
            "align_items": null,
            "bottom": null,
            "_model_module": "@jupyter-widgets/base",
            "top": null,
            "grid_column": null,
            "overflow_y": null,
            "overflow_x": null,
            "grid_auto_flow": null,
            "grid_area": null,
            "grid_template_columns": null,
            "flex": null,
            "_model_name": "LayoutModel",
            "justify_items": null,
            "grid_row": null,
            "max_height": null,
            "align_content": null,
            "visibility": null,
            "align_self": null,
            "height": null,
            "min_height": null,
            "padding": null,
            "grid_auto_rows": null,
            "grid_gap": null,
            "max_width": null,
            "order": null,
            "_view_module_version": "1.2.0",
            "grid_template_areas": null,
            "object_position": null,
            "object_fit": null,
            "grid_auto_columns": null,
            "margin": null,
            "display": null,
            "left": null
          }
        },
        "01c131f482ab4d828fa17a27a9ffbee0": {
          "model_module": "@jupyter-widgets/controls",
          "model_name": "FloatProgressModel",
          "state": {
            "_view_name": "ProgressView",
            "style": "IPY_MODEL_45d021190ff7472a8cf765f4677ce0fd",
            "_dom_classes": [],
            "description": "Downloading: 100%",
            "_model_name": "FloatProgressModel",
            "bar_style": "success",
            "max": 213450,
            "_view_module": "@jupyter-widgets/controls",
            "_model_module_version": "1.5.0",
            "value": 213450,
            "_view_count": null,
            "_view_module_version": "1.5.0",
            "orientation": "horizontal",
            "min": 0,
            "description_tooltip": null,
            "_model_module": "@jupyter-widgets/controls",
            "layout": "IPY_MODEL_8f3c39e92f604ec988b6528d8f51a855"
          }
        },
        "99820bbeba6446fe91ffdbef8cc48031": {
          "model_module": "@jupyter-widgets/controls",
          "model_name": "HTMLModel",
          "state": {
            "_view_name": "HTMLView",
            "style": "IPY_MODEL_ace4430925704addb6e4a87bfa28a214",
            "_dom_classes": [],
            "description": "",
            "_model_name": "HTMLModel",
            "placeholder": "​",
            "_view_module": "@jupyter-widgets/controls",
            "_model_module_version": "1.5.0",
            "value": " 213k/213k [00:01&lt;00:00, 191kB/s]",
            "_view_count": null,
            "_view_module_version": "1.5.0",
            "description_tooltip": null,
            "_model_module": "@jupyter-widgets/controls",
            "layout": "IPY_MODEL_dbdbcebd3d104e57a40eb65b781f13c0"
          }
        },
        "45d021190ff7472a8cf765f4677ce0fd": {
          "model_module": "@jupyter-widgets/controls",
          "model_name": "ProgressStyleModel",
          "state": {
            "_view_name": "StyleView",
            "_model_name": "ProgressStyleModel",
            "description_width": "initial",
            "_view_module": "@jupyter-widgets/base",
            "_model_module_version": "1.5.0",
            "_view_count": null,
            "_view_module_version": "1.2.0",
            "bar_color": null,
            "_model_module": "@jupyter-widgets/controls"
          }
        },
        "8f3c39e92f604ec988b6528d8f51a855": {
          "model_module": "@jupyter-widgets/base",
          "model_name": "LayoutModel",
          "state": {
            "_view_name": "LayoutView",
            "grid_template_rows": null,
            "right": null,
            "justify_content": null,
            "_view_module": "@jupyter-widgets/base",
            "overflow": null,
            "_model_module_version": "1.2.0",
            "_view_count": null,
            "flex_flow": null,
            "width": null,
            "min_width": null,
            "border": null,
            "align_items": null,
            "bottom": null,
            "_model_module": "@jupyter-widgets/base",
            "top": null,
            "grid_column": null,
            "overflow_y": null,
            "overflow_x": null,
            "grid_auto_flow": null,
            "grid_area": null,
            "grid_template_columns": null,
            "flex": null,
            "_model_name": "LayoutModel",
            "justify_items": null,
            "grid_row": null,
            "max_height": null,
            "align_content": null,
            "visibility": null,
            "align_self": null,
            "height": null,
            "min_height": null,
            "padding": null,
            "grid_auto_rows": null,
            "grid_gap": null,
            "max_width": null,
            "order": null,
            "_view_module_version": "1.2.0",
            "grid_template_areas": null,
            "object_position": null,
            "object_fit": null,
            "grid_auto_columns": null,
            "margin": null,
            "display": null,
            "left": null
          }
        },
        "ace4430925704addb6e4a87bfa28a214": {
          "model_module": "@jupyter-widgets/controls",
          "model_name": "DescriptionStyleModel",
          "state": {
            "_view_name": "StyleView",
            "_model_name": "DescriptionStyleModel",
            "description_width": "",
            "_view_module": "@jupyter-widgets/base",
            "_model_module_version": "1.5.0",
            "_view_count": null,
            "_view_module_version": "1.2.0",
            "_model_module": "@jupyter-widgets/controls"
          }
        },
        "dbdbcebd3d104e57a40eb65b781f13c0": {
          "model_module": "@jupyter-widgets/base",
          "model_name": "LayoutModel",
          "state": {
            "_view_name": "LayoutView",
            "grid_template_rows": null,
            "right": null,
            "justify_content": null,
            "_view_module": "@jupyter-widgets/base",
            "overflow": null,
            "_model_module_version": "1.2.0",
            "_view_count": null,
            "flex_flow": null,
            "width": null,
            "min_width": null,
            "border": null,
            "align_items": null,
            "bottom": null,
            "_model_module": "@jupyter-widgets/base",
            "top": null,
            "grid_column": null,
            "overflow_y": null,
            "overflow_x": null,
            "grid_auto_flow": null,
            "grid_area": null,
            "grid_template_columns": null,
            "flex": null,
            "_model_name": "LayoutModel",
            "justify_items": null,
            "grid_row": null,
            "max_height": null,
            "align_content": null,
            "visibility": null,
            "align_self": null,
            "height": null,
            "min_height": null,
            "padding": null,
            "grid_auto_rows": null,
            "grid_gap": null,
            "max_width": null,
            "order": null,
            "_view_module_version": "1.2.0",
            "grid_template_areas": null,
            "object_position": null,
            "object_fit": null,
            "grid_auto_columns": null,
            "margin": null,
            "display": null,
            "left": null
          }
        },
        "892bee902d36458b85b9c789e9705e19": {
          "model_module": "@jupyter-widgets/controls",
          "model_name": "HBoxModel",
          "state": {
            "_view_name": "HBoxView",
            "_dom_classes": [],
            "_model_name": "HBoxModel",
            "_view_module": "@jupyter-widgets/controls",
            "_model_module_version": "1.5.0",
            "_view_count": null,
            "_view_module_version": "1.5.0",
            "box_style": "",
            "layout": "IPY_MODEL_8744fc2b6b5e45e291c6810d0c50ebd2",
            "_model_module": "@jupyter-widgets/controls",
            "children": [
              "IPY_MODEL_78d2dd5a7ca34d3386ca9d53d516593a",
              "IPY_MODEL_9a1f825cd5514bd091b9ea387c8825f8"
            ]
          }
        },
        "8744fc2b6b5e45e291c6810d0c50ebd2": {
          "model_module": "@jupyter-widgets/base",
          "model_name": "LayoutModel",
          "state": {
            "_view_name": "LayoutView",
            "grid_template_rows": null,
            "right": null,
            "justify_content": null,
            "_view_module": "@jupyter-widgets/base",
            "overflow": null,
            "_model_module_version": "1.2.0",
            "_view_count": null,
            "flex_flow": null,
            "width": null,
            "min_width": null,
            "border": null,
            "align_items": null,
            "bottom": null,
            "_model_module": "@jupyter-widgets/base",
            "top": null,
            "grid_column": null,
            "overflow_y": null,
            "overflow_x": null,
            "grid_auto_flow": null,
            "grid_area": null,
            "grid_template_columns": null,
            "flex": null,
            "_model_name": "LayoutModel",
            "justify_items": null,
            "grid_row": null,
            "max_height": null,
            "align_content": null,
            "visibility": null,
            "align_self": null,
            "height": null,
            "min_height": null,
            "padding": null,
            "grid_auto_rows": null,
            "grid_gap": null,
            "max_width": null,
            "order": null,
            "_view_module_version": "1.2.0",
            "grid_template_areas": null,
            "object_position": null,
            "object_fit": null,
            "grid_auto_columns": null,
            "margin": null,
            "display": null,
            "left": null
          }
        },
        "78d2dd5a7ca34d3386ca9d53d516593a": {
          "model_module": "@jupyter-widgets/controls",
          "model_name": "FloatProgressModel",
          "state": {
            "_view_name": "ProgressView",
            "style": "IPY_MODEL_8964c493ac444588b7dcdf15e8d7b1a6",
            "_dom_classes": [],
            "description": "Downloading: 100%",
            "_model_name": "FloatProgressModel",
            "bar_style": "success",
            "max": 29,
            "_view_module": "@jupyter-widgets/controls",
            "_model_module_version": "1.5.0",
            "value": 29,
            "_view_count": null,
            "_view_module_version": "1.5.0",
            "orientation": "horizontal",
            "min": 0,
            "description_tooltip": null,
            "_model_module": "@jupyter-widgets/controls",
            "layout": "IPY_MODEL_d716842acd0a4e09957b2d3acd11c2ad"
          }
        },
        "9a1f825cd5514bd091b9ea387c8825f8": {
          "model_module": "@jupyter-widgets/controls",
          "model_name": "HTMLModel",
          "state": {
            "_view_name": "HTMLView",
            "style": "IPY_MODEL_e9ad9cf57b314b3a9c6fa6facafbd6c9",
            "_dom_classes": [],
            "description": "",
            "_model_name": "HTMLModel",
            "placeholder": "​",
            "_view_module": "@jupyter-widgets/controls",
            "_model_module_version": "1.5.0",
            "value": " 29.0/29.0 [00:00&lt;00:00, 36.1B/s]",
            "_view_count": null,
            "_view_module_version": "1.5.0",
            "description_tooltip": null,
            "_model_module": "@jupyter-widgets/controls",
            "layout": "IPY_MODEL_5fdca51c1e9e4fadb49f050646ab34ad"
          }
        },
        "8964c493ac444588b7dcdf15e8d7b1a6": {
          "model_module": "@jupyter-widgets/controls",
          "model_name": "ProgressStyleModel",
          "state": {
            "_view_name": "StyleView",
            "_model_name": "ProgressStyleModel",
            "description_width": "initial",
            "_view_module": "@jupyter-widgets/base",
            "_model_module_version": "1.5.0",
            "_view_count": null,
            "_view_module_version": "1.2.0",
            "bar_color": null,
            "_model_module": "@jupyter-widgets/controls"
          }
        },
        "d716842acd0a4e09957b2d3acd11c2ad": {
          "model_module": "@jupyter-widgets/base",
          "model_name": "LayoutModel",
          "state": {
            "_view_name": "LayoutView",
            "grid_template_rows": null,
            "right": null,
            "justify_content": null,
            "_view_module": "@jupyter-widgets/base",
            "overflow": null,
            "_model_module_version": "1.2.0",
            "_view_count": null,
            "flex_flow": null,
            "width": null,
            "min_width": null,
            "border": null,
            "align_items": null,
            "bottom": null,
            "_model_module": "@jupyter-widgets/base",
            "top": null,
            "grid_column": null,
            "overflow_y": null,
            "overflow_x": null,
            "grid_auto_flow": null,
            "grid_area": null,
            "grid_template_columns": null,
            "flex": null,
            "_model_name": "LayoutModel",
            "justify_items": null,
            "grid_row": null,
            "max_height": null,
            "align_content": null,
            "visibility": null,
            "align_self": null,
            "height": null,
            "min_height": null,
            "padding": null,
            "grid_auto_rows": null,
            "grid_gap": null,
            "max_width": null,
            "order": null,
            "_view_module_version": "1.2.0",
            "grid_template_areas": null,
            "object_position": null,
            "object_fit": null,
            "grid_auto_columns": null,
            "margin": null,
            "display": null,
            "left": null
          }
        },
        "e9ad9cf57b314b3a9c6fa6facafbd6c9": {
          "model_module": "@jupyter-widgets/controls",
          "model_name": "DescriptionStyleModel",
          "state": {
            "_view_name": "StyleView",
            "_model_name": "DescriptionStyleModel",
            "description_width": "",
            "_view_module": "@jupyter-widgets/base",
            "_model_module_version": "1.5.0",
            "_view_count": null,
            "_view_module_version": "1.2.0",
            "_model_module": "@jupyter-widgets/controls"
          }
        },
        "5fdca51c1e9e4fadb49f050646ab34ad": {
          "model_module": "@jupyter-widgets/base",
          "model_name": "LayoutModel",
          "state": {
            "_view_name": "LayoutView",
            "grid_template_rows": null,
            "right": null,
            "justify_content": null,
            "_view_module": "@jupyter-widgets/base",
            "overflow": null,
            "_model_module_version": "1.2.0",
            "_view_count": null,
            "flex_flow": null,
            "width": null,
            "min_width": null,
            "border": null,
            "align_items": null,
            "bottom": null,
            "_model_module": "@jupyter-widgets/base",
            "top": null,
            "grid_column": null,
            "overflow_y": null,
            "overflow_x": null,
            "grid_auto_flow": null,
            "grid_area": null,
            "grid_template_columns": null,
            "flex": null,
            "_model_name": "LayoutModel",
            "justify_items": null,
            "grid_row": null,
            "max_height": null,
            "align_content": null,
            "visibility": null,
            "align_self": null,
            "height": null,
            "min_height": null,
            "padding": null,
            "grid_auto_rows": null,
            "grid_gap": null,
            "max_width": null,
            "order": null,
            "_view_module_version": "1.2.0",
            "grid_template_areas": null,
            "object_position": null,
            "object_fit": null,
            "grid_auto_columns": null,
            "margin": null,
            "display": null,
            "left": null
          }
        },
        "658f67dad1444cc7a3f6f0edfa4b37b4": {
          "model_module": "@jupyter-widgets/controls",
          "model_name": "HBoxModel",
          "state": {
            "_view_name": "HBoxView",
            "_dom_classes": [],
            "_model_name": "HBoxModel",
            "_view_module": "@jupyter-widgets/controls",
            "_model_module_version": "1.5.0",
            "_view_count": null,
            "_view_module_version": "1.5.0",
            "box_style": "",
            "layout": "IPY_MODEL_498af1fef32e4ef8987b5b9e223924d7",
            "_model_module": "@jupyter-widgets/controls",
            "children": [
              "IPY_MODEL_73135e013e8a461083e407db46ee5448",
              "IPY_MODEL_2d78a028e30e42a08cfb6da1815f6dfe"
            ]
          }
        },
        "498af1fef32e4ef8987b5b9e223924d7": {
          "model_module": "@jupyter-widgets/base",
          "model_name": "LayoutModel",
          "state": {
            "_view_name": "LayoutView",
            "grid_template_rows": null,
            "right": null,
            "justify_content": null,
            "_view_module": "@jupyter-widgets/base",
            "overflow": null,
            "_model_module_version": "1.2.0",
            "_view_count": null,
            "flex_flow": null,
            "width": null,
            "min_width": null,
            "border": null,
            "align_items": null,
            "bottom": null,
            "_model_module": "@jupyter-widgets/base",
            "top": null,
            "grid_column": null,
            "overflow_y": null,
            "overflow_x": null,
            "grid_auto_flow": null,
            "grid_area": null,
            "grid_template_columns": null,
            "flex": null,
            "_model_name": "LayoutModel",
            "justify_items": null,
            "grid_row": null,
            "max_height": null,
            "align_content": null,
            "visibility": null,
            "align_self": null,
            "height": null,
            "min_height": null,
            "padding": null,
            "grid_auto_rows": null,
            "grid_gap": null,
            "max_width": null,
            "order": null,
            "_view_module_version": "1.2.0",
            "grid_template_areas": null,
            "object_position": null,
            "object_fit": null,
            "grid_auto_columns": null,
            "margin": null,
            "display": null,
            "left": null
          }
        },
        "73135e013e8a461083e407db46ee5448": {
          "model_module": "@jupyter-widgets/controls",
          "model_name": "FloatProgressModel",
          "state": {
            "_view_name": "ProgressView",
            "style": "IPY_MODEL_6d87dba3729d404db3192a94cca3bda0",
            "_dom_classes": [],
            "description": "Downloading: 100%",
            "_model_name": "FloatProgressModel",
            "bar_style": "success",
            "max": 435797,
            "_view_module": "@jupyter-widgets/controls",
            "_model_module_version": "1.5.0",
            "value": 435797,
            "_view_count": null,
            "_view_module_version": "1.5.0",
            "orientation": "horizontal",
            "min": 0,
            "description_tooltip": null,
            "_model_module": "@jupyter-widgets/controls",
            "layout": "IPY_MODEL_be6a1ae433404ab8ac31c39d5e7b14f5"
          }
        },
        "2d78a028e30e42a08cfb6da1815f6dfe": {
          "model_module": "@jupyter-widgets/controls",
          "model_name": "HTMLModel",
          "state": {
            "_view_name": "HTMLView",
            "style": "IPY_MODEL_0b7827e9cbd84536a7c2832972d902cf",
            "_dom_classes": [],
            "description": "",
            "_model_name": "HTMLModel",
            "placeholder": "​",
            "_view_module": "@jupyter-widgets/controls",
            "_model_module_version": "1.5.0",
            "value": " 436k/436k [00:00&lt;00:00, 1.29MB/s]",
            "_view_count": null,
            "_view_module_version": "1.5.0",
            "description_tooltip": null,
            "_model_module": "@jupyter-widgets/controls",
            "layout": "IPY_MODEL_9bb6821245184cf186a3fd61fa528d44"
          }
        },
        "6d87dba3729d404db3192a94cca3bda0": {
          "model_module": "@jupyter-widgets/controls",
          "model_name": "ProgressStyleModel",
          "state": {
            "_view_name": "StyleView",
            "_model_name": "ProgressStyleModel",
            "description_width": "initial",
            "_view_module": "@jupyter-widgets/base",
            "_model_module_version": "1.5.0",
            "_view_count": null,
            "_view_module_version": "1.2.0",
            "bar_color": null,
            "_model_module": "@jupyter-widgets/controls"
          }
        },
        "be6a1ae433404ab8ac31c39d5e7b14f5": {
          "model_module": "@jupyter-widgets/base",
          "model_name": "LayoutModel",
          "state": {
            "_view_name": "LayoutView",
            "grid_template_rows": null,
            "right": null,
            "justify_content": null,
            "_view_module": "@jupyter-widgets/base",
            "overflow": null,
            "_model_module_version": "1.2.0",
            "_view_count": null,
            "flex_flow": null,
            "width": null,
            "min_width": null,
            "border": null,
            "align_items": null,
            "bottom": null,
            "_model_module": "@jupyter-widgets/base",
            "top": null,
            "grid_column": null,
            "overflow_y": null,
            "overflow_x": null,
            "grid_auto_flow": null,
            "grid_area": null,
            "grid_template_columns": null,
            "flex": null,
            "_model_name": "LayoutModel",
            "justify_items": null,
            "grid_row": null,
            "max_height": null,
            "align_content": null,
            "visibility": null,
            "align_self": null,
            "height": null,
            "min_height": null,
            "padding": null,
            "grid_auto_rows": null,
            "grid_gap": null,
            "max_width": null,
            "order": null,
            "_view_module_version": "1.2.0",
            "grid_template_areas": null,
            "object_position": null,
            "object_fit": null,
            "grid_auto_columns": null,
            "margin": null,
            "display": null,
            "left": null
          }
        },
        "0b7827e9cbd84536a7c2832972d902cf": {
          "model_module": "@jupyter-widgets/controls",
          "model_name": "DescriptionStyleModel",
          "state": {
            "_view_name": "StyleView",
            "_model_name": "DescriptionStyleModel",
            "description_width": "",
            "_view_module": "@jupyter-widgets/base",
            "_model_module_version": "1.5.0",
            "_view_count": null,
            "_view_module_version": "1.2.0",
            "_model_module": "@jupyter-widgets/controls"
          }
        },
        "9bb6821245184cf186a3fd61fa528d44": {
          "model_module": "@jupyter-widgets/base",
          "model_name": "LayoutModel",
          "state": {
            "_view_name": "LayoutView",
            "grid_template_rows": null,
            "right": null,
            "justify_content": null,
            "_view_module": "@jupyter-widgets/base",
            "overflow": null,
            "_model_module_version": "1.2.0",
            "_view_count": null,
            "flex_flow": null,
            "width": null,
            "min_width": null,
            "border": null,
            "align_items": null,
            "bottom": null,
            "_model_module": "@jupyter-widgets/base",
            "top": null,
            "grid_column": null,
            "overflow_y": null,
            "overflow_x": null,
            "grid_auto_flow": null,
            "grid_area": null,
            "grid_template_columns": null,
            "flex": null,
            "_model_name": "LayoutModel",
            "justify_items": null,
            "grid_row": null,
            "max_height": null,
            "align_content": null,
            "visibility": null,
            "align_self": null,
            "height": null,
            "min_height": null,
            "padding": null,
            "grid_auto_rows": null,
            "grid_gap": null,
            "max_width": null,
            "order": null,
            "_view_module_version": "1.2.0",
            "grid_template_areas": null,
            "object_position": null,
            "object_fit": null,
            "grid_auto_columns": null,
            "margin": null,
            "display": null,
            "left": null
          }
        },
        "65b0219dc7dd40eaaff8d9f7411cd858": {
          "model_module": "@jupyter-widgets/controls",
          "model_name": "HBoxModel",
          "state": {
            "_view_name": "HBoxView",
            "_dom_classes": [],
            "_model_name": "HBoxModel",
            "_view_module": "@jupyter-widgets/controls",
            "_model_module_version": "1.5.0",
            "_view_count": null,
            "_view_module_version": "1.5.0",
            "box_style": "",
            "layout": "IPY_MODEL_c03c7f3484204bad94db8fff7a0e1f3d",
            "_model_module": "@jupyter-widgets/controls",
            "children": [
              "IPY_MODEL_ca443b01b93a46c4bfe8d436395ce9ba",
              "IPY_MODEL_f7509cd91ebe4d66a24e5461d905b5de"
            ]
          }
        },
        "c03c7f3484204bad94db8fff7a0e1f3d": {
          "model_module": "@jupyter-widgets/base",
          "model_name": "LayoutModel",
          "state": {
            "_view_name": "LayoutView",
            "grid_template_rows": null,
            "right": null,
            "justify_content": null,
            "_view_module": "@jupyter-widgets/base",
            "overflow": null,
            "_model_module_version": "1.2.0",
            "_view_count": null,
            "flex_flow": null,
            "width": null,
            "min_width": null,
            "border": null,
            "align_items": null,
            "bottom": null,
            "_model_module": "@jupyter-widgets/base",
            "top": null,
            "grid_column": null,
            "overflow_y": null,
            "overflow_x": null,
            "grid_auto_flow": null,
            "grid_area": null,
            "grid_template_columns": null,
            "flex": null,
            "_model_name": "LayoutModel",
            "justify_items": null,
            "grid_row": null,
            "max_height": null,
            "align_content": null,
            "visibility": null,
            "align_self": null,
            "height": null,
            "min_height": null,
            "padding": null,
            "grid_auto_rows": null,
            "grid_gap": null,
            "max_width": null,
            "order": null,
            "_view_module_version": "1.2.0",
            "grid_template_areas": null,
            "object_position": null,
            "object_fit": null,
            "grid_auto_columns": null,
            "margin": null,
            "display": null,
            "left": null
          }
        },
        "ca443b01b93a46c4bfe8d436395ce9ba": {
          "model_module": "@jupyter-widgets/controls",
          "model_name": "FloatProgressModel",
          "state": {
            "_view_name": "ProgressView",
            "style": "IPY_MODEL_7117cba5602a4cee8bbfb9f90139ef9a",
            "_dom_classes": [],
            "description": "Downloading: 100%",
            "_model_name": "FloatProgressModel",
            "bar_style": "success",
            "max": 570,
            "_view_module": "@jupyter-widgets/controls",
            "_model_module_version": "1.5.0",
            "value": 570,
            "_view_count": null,
            "_view_module_version": "1.5.0",
            "orientation": "horizontal",
            "min": 0,
            "description_tooltip": null,
            "_model_module": "@jupyter-widgets/controls",
            "layout": "IPY_MODEL_ab4481bf45cf49c49887e6fed9504b6c"
          }
        },
        "f7509cd91ebe4d66a24e5461d905b5de": {
          "model_module": "@jupyter-widgets/controls",
          "model_name": "HTMLModel",
          "state": {
            "_view_name": "HTMLView",
            "style": "IPY_MODEL_3e6337aa4ebc40218d18a96e8a7af494",
            "_dom_classes": [],
            "description": "",
            "_model_name": "HTMLModel",
            "placeholder": "​",
            "_view_module": "@jupyter-widgets/controls",
            "_model_module_version": "1.5.0",
            "value": " 570/570 [00:09&lt;00:00, 63.1B/s]",
            "_view_count": null,
            "_view_module_version": "1.5.0",
            "description_tooltip": null,
            "_model_module": "@jupyter-widgets/controls",
            "layout": "IPY_MODEL_2d1217fc80ed403a9d039a59ea0371c7"
          }
        },
        "7117cba5602a4cee8bbfb9f90139ef9a": {
          "model_module": "@jupyter-widgets/controls",
          "model_name": "ProgressStyleModel",
          "state": {
            "_view_name": "StyleView",
            "_model_name": "ProgressStyleModel",
            "description_width": "initial",
            "_view_module": "@jupyter-widgets/base",
            "_model_module_version": "1.5.0",
            "_view_count": null,
            "_view_module_version": "1.2.0",
            "bar_color": null,
            "_model_module": "@jupyter-widgets/controls"
          }
        },
        "ab4481bf45cf49c49887e6fed9504b6c": {
          "model_module": "@jupyter-widgets/base",
          "model_name": "LayoutModel",
          "state": {
            "_view_name": "LayoutView",
            "grid_template_rows": null,
            "right": null,
            "justify_content": null,
            "_view_module": "@jupyter-widgets/base",
            "overflow": null,
            "_model_module_version": "1.2.0",
            "_view_count": null,
            "flex_flow": null,
            "width": null,
            "min_width": null,
            "border": null,
            "align_items": null,
            "bottom": null,
            "_model_module": "@jupyter-widgets/base",
            "top": null,
            "grid_column": null,
            "overflow_y": null,
            "overflow_x": null,
            "grid_auto_flow": null,
            "grid_area": null,
            "grid_template_columns": null,
            "flex": null,
            "_model_name": "LayoutModel",
            "justify_items": null,
            "grid_row": null,
            "max_height": null,
            "align_content": null,
            "visibility": null,
            "align_self": null,
            "height": null,
            "min_height": null,
            "padding": null,
            "grid_auto_rows": null,
            "grid_gap": null,
            "max_width": null,
            "order": null,
            "_view_module_version": "1.2.0",
            "grid_template_areas": null,
            "object_position": null,
            "object_fit": null,
            "grid_auto_columns": null,
            "margin": null,
            "display": null,
            "left": null
          }
        },
        "3e6337aa4ebc40218d18a96e8a7af494": {
          "model_module": "@jupyter-widgets/controls",
          "model_name": "DescriptionStyleModel",
          "state": {
            "_view_name": "StyleView",
            "_model_name": "DescriptionStyleModel",
            "description_width": "",
            "_view_module": "@jupyter-widgets/base",
            "_model_module_version": "1.5.0",
            "_view_count": null,
            "_view_module_version": "1.2.0",
            "_model_module": "@jupyter-widgets/controls"
          }
        },
        "2d1217fc80ed403a9d039a59ea0371c7": {
          "model_module": "@jupyter-widgets/base",
          "model_name": "LayoutModel",
          "state": {
            "_view_name": "LayoutView",
            "grid_template_rows": null,
            "right": null,
            "justify_content": null,
            "_view_module": "@jupyter-widgets/base",
            "overflow": null,
            "_model_module_version": "1.2.0",
            "_view_count": null,
            "flex_flow": null,
            "width": null,
            "min_width": null,
            "border": null,
            "align_items": null,
            "bottom": null,
            "_model_module": "@jupyter-widgets/base",
            "top": null,
            "grid_column": null,
            "overflow_y": null,
            "overflow_x": null,
            "grid_auto_flow": null,
            "grid_area": null,
            "grid_template_columns": null,
            "flex": null,
            "_model_name": "LayoutModel",
            "justify_items": null,
            "grid_row": null,
            "max_height": null,
            "align_content": null,
            "visibility": null,
            "align_self": null,
            "height": null,
            "min_height": null,
            "padding": null,
            "grid_auto_rows": null,
            "grid_gap": null,
            "max_width": null,
            "order": null,
            "_view_module_version": "1.2.0",
            "grid_template_areas": null,
            "object_position": null,
            "object_fit": null,
            "grid_auto_columns": null,
            "margin": null,
            "display": null,
            "left": null
          }
        },
        "ecc357cce9f44d9fa4400b2fa8924fb1": {
          "model_module": "@jupyter-widgets/controls",
          "model_name": "HBoxModel",
          "state": {
            "_view_name": "HBoxView",
            "_dom_classes": [],
            "_model_name": "HBoxModel",
            "_view_module": "@jupyter-widgets/controls",
            "_model_module_version": "1.5.0",
            "_view_count": null,
            "_view_module_version": "1.5.0",
            "box_style": "",
            "layout": "IPY_MODEL_b01c8e6732ba4f3c8504ba83d24d5e4a",
            "_model_module": "@jupyter-widgets/controls",
            "children": [
              "IPY_MODEL_3e1fb42757344edb95e3187163b1108e",
              "IPY_MODEL_b41f273f62ce46f4b00f7b24c272c49a"
            ]
          }
        },
        "b01c8e6732ba4f3c8504ba83d24d5e4a": {
          "model_module": "@jupyter-widgets/base",
          "model_name": "LayoutModel",
          "state": {
            "_view_name": "LayoutView",
            "grid_template_rows": null,
            "right": null,
            "justify_content": null,
            "_view_module": "@jupyter-widgets/base",
            "overflow": null,
            "_model_module_version": "1.2.0",
            "_view_count": null,
            "flex_flow": null,
            "width": null,
            "min_width": null,
            "border": null,
            "align_items": null,
            "bottom": null,
            "_model_module": "@jupyter-widgets/base",
            "top": null,
            "grid_column": null,
            "overflow_y": null,
            "overflow_x": null,
            "grid_auto_flow": null,
            "grid_area": null,
            "grid_template_columns": null,
            "flex": null,
            "_model_name": "LayoutModel",
            "justify_items": null,
            "grid_row": null,
            "max_height": null,
            "align_content": null,
            "visibility": null,
            "align_self": null,
            "height": null,
            "min_height": null,
            "padding": null,
            "grid_auto_rows": null,
            "grid_gap": null,
            "max_width": null,
            "order": null,
            "_view_module_version": "1.2.0",
            "grid_template_areas": null,
            "object_position": null,
            "object_fit": null,
            "grid_auto_columns": null,
            "margin": null,
            "display": null,
            "left": null
          }
        },
        "3e1fb42757344edb95e3187163b1108e": {
          "model_module": "@jupyter-widgets/controls",
          "model_name": "FloatProgressModel",
          "state": {
            "_view_name": "ProgressView",
            "style": "IPY_MODEL_57cd852869e24fe88eac32606c329f61",
            "_dom_classes": [],
            "description": "Downloading: 100%",
            "_model_name": "FloatProgressModel",
            "bar_style": "success",
            "max": 526681800,
            "_view_module": "@jupyter-widgets/controls",
            "_model_module_version": "1.5.0",
            "value": 526681800,
            "_view_count": null,
            "_view_module_version": "1.5.0",
            "orientation": "horizontal",
            "min": 0,
            "description_tooltip": null,
            "_model_module": "@jupyter-widgets/controls",
            "layout": "IPY_MODEL_f2e25cb184b84f4885f8ac97d4213d77"
          }
        },
        "b41f273f62ce46f4b00f7b24c272c49a": {
          "model_module": "@jupyter-widgets/controls",
          "model_name": "HTMLModel",
          "state": {
            "_view_name": "HTMLView",
            "style": "IPY_MODEL_a464f2d6677e416daa7ea9027aa7b085",
            "_dom_classes": [],
            "description": "",
            "_model_name": "HTMLModel",
            "placeholder": "​",
            "_view_module": "@jupyter-widgets/controls",
            "_model_module_version": "1.5.0",
            "value": " 527M/527M [00:08&lt;00:00, 61.9MB/s]",
            "_view_count": null,
            "_view_module_version": "1.5.0",
            "description_tooltip": null,
            "_model_module": "@jupyter-widgets/controls",
            "layout": "IPY_MODEL_f60654fe49bb4b8598c0913f1873d49c"
          }
        },
        "57cd852869e24fe88eac32606c329f61": {
          "model_module": "@jupyter-widgets/controls",
          "model_name": "ProgressStyleModel",
          "state": {
            "_view_name": "StyleView",
            "_model_name": "ProgressStyleModel",
            "description_width": "initial",
            "_view_module": "@jupyter-widgets/base",
            "_model_module_version": "1.5.0",
            "_view_count": null,
            "_view_module_version": "1.2.0",
            "bar_color": null,
            "_model_module": "@jupyter-widgets/controls"
          }
        },
        "f2e25cb184b84f4885f8ac97d4213d77": {
          "model_module": "@jupyter-widgets/base",
          "model_name": "LayoutModel",
          "state": {
            "_view_name": "LayoutView",
            "grid_template_rows": null,
            "right": null,
            "justify_content": null,
            "_view_module": "@jupyter-widgets/base",
            "overflow": null,
            "_model_module_version": "1.2.0",
            "_view_count": null,
            "flex_flow": null,
            "width": null,
            "min_width": null,
            "border": null,
            "align_items": null,
            "bottom": null,
            "_model_module": "@jupyter-widgets/base",
            "top": null,
            "grid_column": null,
            "overflow_y": null,
            "overflow_x": null,
            "grid_auto_flow": null,
            "grid_area": null,
            "grid_template_columns": null,
            "flex": null,
            "_model_name": "LayoutModel",
            "justify_items": null,
            "grid_row": null,
            "max_height": null,
            "align_content": null,
            "visibility": null,
            "align_self": null,
            "height": null,
            "min_height": null,
            "padding": null,
            "grid_auto_rows": null,
            "grid_gap": null,
            "max_width": null,
            "order": null,
            "_view_module_version": "1.2.0",
            "grid_template_areas": null,
            "object_position": null,
            "object_fit": null,
            "grid_auto_columns": null,
            "margin": null,
            "display": null,
            "left": null
          }
        },
        "a464f2d6677e416daa7ea9027aa7b085": {
          "model_module": "@jupyter-widgets/controls",
          "model_name": "DescriptionStyleModel",
          "state": {
            "_view_name": "StyleView",
            "_model_name": "DescriptionStyleModel",
            "description_width": "",
            "_view_module": "@jupyter-widgets/base",
            "_model_module_version": "1.5.0",
            "_view_count": null,
            "_view_module_version": "1.2.0",
            "_model_module": "@jupyter-widgets/controls"
          }
        },
        "f60654fe49bb4b8598c0913f1873d49c": {
          "model_module": "@jupyter-widgets/base",
          "model_name": "LayoutModel",
          "state": {
            "_view_name": "LayoutView",
            "grid_template_rows": null,
            "right": null,
            "justify_content": null,
            "_view_module": "@jupyter-widgets/base",
            "overflow": null,
            "_model_module_version": "1.2.0",
            "_view_count": null,
            "flex_flow": null,
            "width": null,
            "min_width": null,
            "border": null,
            "align_items": null,
            "bottom": null,
            "_model_module": "@jupyter-widgets/base",
            "top": null,
            "grid_column": null,
            "overflow_y": null,
            "overflow_x": null,
            "grid_auto_flow": null,
            "grid_area": null,
            "grid_template_columns": null,
            "flex": null,
            "_model_name": "LayoutModel",
            "justify_items": null,
            "grid_row": null,
            "max_height": null,
            "align_content": null,
            "visibility": null,
            "align_self": null,
            "height": null,
            "min_height": null,
            "padding": null,
            "grid_auto_rows": null,
            "grid_gap": null,
            "max_width": null,
            "order": null,
            "_view_module_version": "1.2.0",
            "grid_template_areas": null,
            "object_position": null,
            "object_fit": null,
            "grid_auto_columns": null,
            "margin": null,
            "display": null,
            "left": null
          }
        }
      }
    }
  },
  "cells": [
    {
      "cell_type": "markdown",
      "metadata": {
        "id": "M6UpxVZHbFwn"
      },
      "source": [
        "# Import Necessary Library"
      ]
    },
    {
      "cell_type": "code",
      "metadata": {
        "colab": {
          "base_uri": "https://localhost:8080/"
        },
        "id": "GKuQqyA61crG",
        "outputId": "50a48ec2-af16-4d43-ac0b-e2758d2e9106"
      },
      "source": [
        "! pip install transformers"
      ],
      "execution_count": null,
      "outputs": [
        {
          "output_type": "stream",
          "text": [
            "Collecting transformers\n",
            "\u001b[?25l  Downloading https://files.pythonhosted.org/packages/d8/b2/57495b5309f09fa501866e225c84532d1fd89536ea62406b2181933fb418/transformers-4.5.1-py3-none-any.whl (2.1MB)\n",
            "\u001b[K     |████████████████████████████████| 2.1MB 9.5MB/s \n",
            "\u001b[?25hRequirement already satisfied: packaging in /usr/local/lib/python3.7/dist-packages (from transformers) (20.9)\n",
            "Requirement already satisfied: filelock in /usr/local/lib/python3.7/dist-packages (from transformers) (3.0.12)\n",
            "Collecting tokenizers<0.11,>=0.10.1\n",
            "\u001b[?25l  Downloading https://files.pythonhosted.org/packages/ae/04/5b870f26a858552025a62f1649c20d29d2672c02ff3c3fb4c688ca46467a/tokenizers-0.10.2-cp37-cp37m-manylinux2010_x86_64.whl (3.3MB)\n",
            "\u001b[K     |████████████████████████████████| 3.3MB 58.8MB/s \n",
            "\u001b[?25hRequirement already satisfied: tqdm>=4.27 in /usr/local/lib/python3.7/dist-packages (from transformers) (4.41.1)\n",
            "Requirement already satisfied: importlib-metadata; python_version < \"3.8\" in /usr/local/lib/python3.7/dist-packages (from transformers) (3.10.1)\n",
            "Requirement already satisfied: regex!=2019.12.17 in /usr/local/lib/python3.7/dist-packages (from transformers) (2019.12.20)\n",
            "Requirement already satisfied: requests in /usr/local/lib/python3.7/dist-packages (from transformers) (2.23.0)\n",
            "Collecting sacremoses\n",
            "\u001b[?25l  Downloading https://files.pythonhosted.org/packages/75/ee/67241dc87f266093c533a2d4d3d69438e57d7a90abb216fa076e7d475d4a/sacremoses-0.0.45-py3-none-any.whl (895kB)\n",
            "\u001b[K     |████████████████████████████████| 901kB 56.5MB/s \n",
            "\u001b[?25hRequirement already satisfied: numpy>=1.17 in /usr/local/lib/python3.7/dist-packages (from transformers) (1.19.5)\n",
            "Requirement already satisfied: pyparsing>=2.0.2 in /usr/local/lib/python3.7/dist-packages (from packaging->transformers) (2.4.7)\n",
            "Requirement already satisfied: typing-extensions>=3.6.4; python_version < \"3.8\" in /usr/local/lib/python3.7/dist-packages (from importlib-metadata; python_version < \"3.8\"->transformers) (3.7.4.3)\n",
            "Requirement already satisfied: zipp>=0.5 in /usr/local/lib/python3.7/dist-packages (from importlib-metadata; python_version < \"3.8\"->transformers) (3.4.1)\n",
            "Requirement already satisfied: chardet<4,>=3.0.2 in /usr/local/lib/python3.7/dist-packages (from requests->transformers) (3.0.4)\n",
            "Requirement already satisfied: certifi>=2017.4.17 in /usr/local/lib/python3.7/dist-packages (from requests->transformers) (2020.12.5)\n",
            "Requirement already satisfied: urllib3!=1.25.0,!=1.25.1,<1.26,>=1.21.1 in /usr/local/lib/python3.7/dist-packages (from requests->transformers) (1.24.3)\n",
            "Requirement already satisfied: idna<3,>=2.5 in /usr/local/lib/python3.7/dist-packages (from requests->transformers) (2.10)\n",
            "Requirement already satisfied: six in /usr/local/lib/python3.7/dist-packages (from sacremoses->transformers) (1.15.0)\n",
            "Requirement already satisfied: joblib in /usr/local/lib/python3.7/dist-packages (from sacremoses->transformers) (1.0.1)\n",
            "Requirement already satisfied: click in /usr/local/lib/python3.7/dist-packages (from sacremoses->transformers) (7.1.2)\n",
            "Installing collected packages: tokenizers, sacremoses, transformers\n",
            "Successfully installed sacremoses-0.0.45 tokenizers-0.10.2 transformers-4.5.1\n"
          ],
          "name": "stdout"
        }
      ]
    },
    {
      "cell_type": "code",
      "metadata": {
        "id": "LNjEsPJ-UGtW"
      },
      "source": [
        "import json\n",
        "import os\n",
        "import pickle\n",
        "\n",
        "import matplotlib.pyplot as plt\n",
        "import numpy as np\n",
        "import pandas as pd\n",
        "from sklearn.model_selection import train_test_split\n",
        "from sklearn.metrics import f1_score, confusion_matrix\n",
        "from sklearn.utils.class_weight import compute_class_weight\n",
        "import tensorflow as tf\n",
        "from tensorflow.keras import Model, Sequential\n",
        "from tensorflow.keras.layers import Input, Embedding, Dense, \\\n",
        "                            TimeDistributed, LSTM, Dropout, Bidirectional, \\\n",
        "                            Conv1D, BatchNormalization\n",
        "from tensorflow.keras.models import model_from_json\n",
        "from tensorflow.keras.preprocessing.sequence import pad_sequences\n",
        "from tensorflow.keras.utils import to_categorical\n",
        "\n",
        "from transformers import BertTokenizer, BertConfig\n",
        "from transformers import TFBertForTokenClassification, AdamW\n",
        "\n",
        "plt.style.use(\"tableau-colorblind10\")"
      ],
      "execution_count": null,
      "outputs": []
    },
    {
      "cell_type": "code",
      "metadata": {
        "id": "OsmoQ3SrtVJ3",
        "colab": {
          "base_uri": "https://localhost:8080/"
        },
        "outputId": "816c27aa-2dcc-4bb9-8ae3-f121bafa74e3"
      },
      "source": [
        " from google.colab import drive\n",
        "drive.mount('/content/drive')"
      ],
      "execution_count": null,
      "outputs": [
        {
          "output_type": "stream",
          "text": [
            "Mounted at /content/drive\n"
          ],
          "name": "stdout"
        }
      ]
    },
    {
      "cell_type": "code",
      "metadata": {
        "id": "Y0d6SLrgtiDK"
      },
      "source": [
        "os.chdir('drive/MyDrive/MIT_6.862/')"
      ],
      "execution_count": null,
      "outputs": []
    },
    {
      "cell_type": "code",
      "metadata": {
        "id": "TEG3GPhJTI22"
      },
      "source": [
        "import sys\n",
        "sys.path.append('/content/drive/MyDrive/MIT_6.862/')"
      ],
      "execution_count": null,
      "outputs": []
    },
    {
      "cell_type": "code",
      "metadata": {
        "id": "4NlLWjRETIJ-"
      },
      "source": [
        "from metrics.ner_evaluation.ner_eval import collect_named_entities\n",
        "from metrics.ner_evaluation.ner_eval import compute_metrics"
      ],
      "execution_count": null,
      "outputs": []
    },
    {
      "cell_type": "markdown",
      "metadata": {
        "id": "5Tsr3goibUnD"
      },
      "source": [
        "# Load data and EDA"
      ]
    },
    {
      "cell_type": "code",
      "metadata": {
        "id": "74Ds_FwsZLA-"
      },
      "source": [
        "data = pd.read_csv('NER_data/ner_dataset.csv', encoding=\"latin1\")"
      ],
      "execution_count": null,
      "outputs": []
    },
    {
      "cell_type": "code",
      "metadata": {
        "colab": {
          "base_uri": "https://localhost:8080/",
          "height": 173
        },
        "id": "nNBZfyc0edT2",
        "outputId": "cf68248e-ca04-45a4-f144-0410daa36421"
      },
      "source": [
        "data.describe()"
      ],
      "execution_count": null,
      "outputs": [
        {
          "output_type": "execute_result",
          "data": {
            "text/html": [
              "<div>\n",
              "<style scoped>\n",
              "    .dataframe tbody tr th:only-of-type {\n",
              "        vertical-align: middle;\n",
              "    }\n",
              "\n",
              "    .dataframe tbody tr th {\n",
              "        vertical-align: top;\n",
              "    }\n",
              "\n",
              "    .dataframe thead th {\n",
              "        text-align: right;\n",
              "    }\n",
              "</style>\n",
              "<table border=\"1\" class=\"dataframe\">\n",
              "  <thead>\n",
              "    <tr style=\"text-align: right;\">\n",
              "      <th></th>\n",
              "      <th>Sentence #</th>\n",
              "      <th>Word</th>\n",
              "      <th>POS</th>\n",
              "      <th>Tag</th>\n",
              "    </tr>\n",
              "  </thead>\n",
              "  <tbody>\n",
              "    <tr>\n",
              "      <th>count</th>\n",
              "      <td>47959</td>\n",
              "      <td>1048575</td>\n",
              "      <td>1048575</td>\n",
              "      <td>1048575</td>\n",
              "    </tr>\n",
              "    <tr>\n",
              "      <th>unique</th>\n",
              "      <td>47959</td>\n",
              "      <td>35178</td>\n",
              "      <td>42</td>\n",
              "      <td>17</td>\n",
              "    </tr>\n",
              "    <tr>\n",
              "      <th>top</th>\n",
              "      <td>Sentence: 7244</td>\n",
              "      <td>the</td>\n",
              "      <td>NN</td>\n",
              "      <td>O</td>\n",
              "    </tr>\n",
              "    <tr>\n",
              "      <th>freq</th>\n",
              "      <td>1</td>\n",
              "      <td>52573</td>\n",
              "      <td>145807</td>\n",
              "      <td>887908</td>\n",
              "    </tr>\n",
              "  </tbody>\n",
              "</table>\n",
              "</div>"
            ],
            "text/plain": [
              "            Sentence #     Word      POS      Tag\n",
              "count            47959  1048575  1048575  1048575\n",
              "unique           47959    35178       42       17\n",
              "top     Sentence: 7244      the       NN        O\n",
              "freq                 1    52573   145807   887908"
            ]
          },
          "metadata": {
            "tags": []
          },
          "execution_count": 13
        }
      ]
    },
    {
      "cell_type": "code",
      "metadata": {
        "colab": {
          "base_uri": "https://localhost:8080/"
        },
        "id": "ATLmvXqJegHF",
        "outputId": "db4ba6a2-ae24-42df-c9f9-8d39a1d3abb4"
      },
      "source": [
        "data.dtypes"
      ],
      "execution_count": null,
      "outputs": [
        {
          "output_type": "execute_result",
          "data": {
            "text/plain": [
              "Sentence #    object\n",
              "Word          object\n",
              "POS           object\n",
              "Tag           object\n",
              "dtype: object"
            ]
          },
          "metadata": {
            "tags": []
          },
          "execution_count": 14
        }
      ]
    },
    {
      "cell_type": "code",
      "metadata": {
        "colab": {
          "base_uri": "https://localhost:8080/",
          "height": 204
        },
        "id": "avb-_5fiZCsb",
        "outputId": "816e143d-f10e-432b-a6d8-486c948f1690"
      },
      "source": [
        "data.head()"
      ],
      "execution_count": null,
      "outputs": [
        {
          "output_type": "execute_result",
          "data": {
            "text/html": [
              "<div>\n",
              "<style scoped>\n",
              "    .dataframe tbody tr th:only-of-type {\n",
              "        vertical-align: middle;\n",
              "    }\n",
              "\n",
              "    .dataframe tbody tr th {\n",
              "        vertical-align: top;\n",
              "    }\n",
              "\n",
              "    .dataframe thead th {\n",
              "        text-align: right;\n",
              "    }\n",
              "</style>\n",
              "<table border=\"1\" class=\"dataframe\">\n",
              "  <thead>\n",
              "    <tr style=\"text-align: right;\">\n",
              "      <th></th>\n",
              "      <th>Sentence #</th>\n",
              "      <th>Word</th>\n",
              "      <th>POS</th>\n",
              "      <th>Tag</th>\n",
              "    </tr>\n",
              "  </thead>\n",
              "  <tbody>\n",
              "    <tr>\n",
              "      <th>0</th>\n",
              "      <td>Sentence: 1</td>\n",
              "      <td>Thousands</td>\n",
              "      <td>NNS</td>\n",
              "      <td>O</td>\n",
              "    </tr>\n",
              "    <tr>\n",
              "      <th>1</th>\n",
              "      <td>NaN</td>\n",
              "      <td>of</td>\n",
              "      <td>IN</td>\n",
              "      <td>O</td>\n",
              "    </tr>\n",
              "    <tr>\n",
              "      <th>2</th>\n",
              "      <td>NaN</td>\n",
              "      <td>demonstrators</td>\n",
              "      <td>NNS</td>\n",
              "      <td>O</td>\n",
              "    </tr>\n",
              "    <tr>\n",
              "      <th>3</th>\n",
              "      <td>NaN</td>\n",
              "      <td>have</td>\n",
              "      <td>VBP</td>\n",
              "      <td>O</td>\n",
              "    </tr>\n",
              "    <tr>\n",
              "      <th>4</th>\n",
              "      <td>NaN</td>\n",
              "      <td>marched</td>\n",
              "      <td>VBN</td>\n",
              "      <td>O</td>\n",
              "    </tr>\n",
              "  </tbody>\n",
              "</table>\n",
              "</div>"
            ],
            "text/plain": [
              "    Sentence #           Word  POS Tag\n",
              "0  Sentence: 1      Thousands  NNS   O\n",
              "1          NaN             of   IN   O\n",
              "2          NaN  demonstrators  NNS   O\n",
              "3          NaN           have  VBP   O\n",
              "4          NaN        marched  VBN   O"
            ]
          },
          "metadata": {
            "tags": []
          },
          "execution_count": 9
        }
      ]
    },
    {
      "cell_type": "code",
      "metadata": {
        "colab": {
          "base_uri": "https://localhost:8080/"
        },
        "id": "Xd_uzapdnAN2",
        "outputId": "4b4726d0-b396-4377-b1ec-87bc06ced810"
      },
      "source": [
        "data['Tag'].value_counts()"
      ],
      "execution_count": null,
      "outputs": [
        {
          "output_type": "execute_result",
          "data": {
            "text/plain": [
              "O        887908\n",
              "B-geo     37644\n",
              "B-tim     20333\n",
              "B-org     20143\n",
              "I-per     17251\n",
              "B-per     16990\n",
              "I-org     16784\n",
              "B-gpe     15870\n",
              "I-geo      7414\n",
              "I-tim      6528\n",
              "B-art       402\n",
              "B-eve       308\n",
              "I-art       297\n",
              "I-eve       253\n",
              "B-nat       201\n",
              "I-gpe       198\n",
              "I-nat        51\n",
              "Name: Tag, dtype: int64"
            ]
          },
          "metadata": {
            "tags": []
          },
          "execution_count": 24
        }
      ]
    },
    {
      "cell_type": "code",
      "metadata": {
        "id": "7P1oLwIYn1-7"
      },
      "source": [
        ""
      ],
      "execution_count": null,
      "outputs": []
    },
    {
      "cell_type": "code",
      "metadata": {
        "colab": {
          "base_uri": "https://localhost:8080/",
          "height": 435
        },
        "id": "nJnEbEQmljk4",
        "outputId": "eb5a73d5-deca-460c-8047-d3761c9fc036"
      },
      "source": [
        "value_count = data['Tag'].value_counts()\n",
        "fig, axs = plt.subplots(figsize = (10, 6))\n",
        "axs.barh(value_count.index, value_count, height = 0.6, color = 'cornflowerblue')\n",
        "axs.set_ylabel('Tag', fontsize = 15)\n",
        "axs.set_xlabel('Count', fontsize = 15)\n",
        "axs.set_xscale('log')\n",
        "axs.set_title('Value Counts for Tags', fontsize = 20)"
      ],
      "execution_count": null,
      "outputs": [
        {
          "output_type": "execute_result",
          "data": {
            "text/plain": [
              "Text(0.5, 1.0, 'Value Counts for Tags')"
            ]
          },
          "metadata": {
            "tags": []
          },
          "execution_count": 39
        },
        {
          "output_type": "display_data",
          "data": {
            "image/png": "[encoded data removed]",
            "text/plain": [
              "<Figure size 720x432 with 1 Axes>"
            ]
          },
          "metadata": {
            "tags": [],
            "needs_background": "light"
          }
        }
      ]
    },
    {
      "cell_type": "code",
      "metadata": {
        "id": "Fo85NaYBaYiy"
      },
      "source": [
        "# fill in the empty positions in column Sentence #\n",
        "sentence_sep = data['Sentence #'].isna()\n",
        "for i in range(data.shape[0]):\n",
        "    if sentence_sep[i]:\n",
        "        data.iloc[i,0] = data.iloc[i-1,0]"
      ],
      "execution_count": null,
      "outputs": []
    },
    {
      "cell_type": "code",
      "metadata": {
        "id": "-98_0ltxhRNk"
      },
      "source": [
        "# save imputed dataset to csv\n",
        "data.to_csv('NER_data/ner_dataset_fill.csv', index=False)"
      ],
      "execution_count": null,
      "outputs": []
    },
    {
      "cell_type": "markdown",
      "metadata": {
        "id": "VkmZJe2Rlgkv"
      },
      "source": [
        "## Start to run from here!"
      ]
    },
    {
      "cell_type": "code",
      "metadata": {
        "id": "acMTy4pklXHW"
      },
      "source": [
        "# read in imputed dataset\n",
        "df = pd.read_csv('NER_data/ner_dataset_fill.csv', index_col=False, encoding=\"latin1\")"
      ],
      "execution_count": null,
      "outputs": []
    },
    {
      "cell_type": "code",
      "metadata": {
        "colab": {
          "base_uri": "https://localhost:8080/",
          "height": 204
        },
        "id": "lOz7WjktmGGh",
        "outputId": "1d0c8992-2b2a-466a-fd21-4edcdc6a36e1"
      },
      "source": [
        "df.head()"
      ],
      "execution_count": null,
      "outputs": [
        {
          "output_type": "execute_result",
          "data": {
            "text/html": [
              "<div>\n",
              "<style scoped>\n",
              "    .dataframe tbody tr th:only-of-type {\n",
              "        vertical-align: middle;\n",
              "    }\n",
              "\n",
              "    .dataframe tbody tr th {\n",
              "        vertical-align: top;\n",
              "    }\n",
              "\n",
              "    .dataframe thead th {\n",
              "        text-align: right;\n",
              "    }\n",
              "</style>\n",
              "<table border=\"1\" class=\"dataframe\">\n",
              "  <thead>\n",
              "    <tr style=\"text-align: right;\">\n",
              "      <th></th>\n",
              "      <th>Sentence #</th>\n",
              "      <th>Word</th>\n",
              "      <th>POS</th>\n",
              "      <th>Tag</th>\n",
              "    </tr>\n",
              "  </thead>\n",
              "  <tbody>\n",
              "    <tr>\n",
              "      <th>0</th>\n",
              "      <td>Sentence: 1</td>\n",
              "      <td>Thousands</td>\n",
              "      <td>NNS</td>\n",
              "      <td>O</td>\n",
              "    </tr>\n",
              "    <tr>\n",
              "      <th>1</th>\n",
              "      <td>Sentence: 1</td>\n",
              "      <td>of</td>\n",
              "      <td>IN</td>\n",
              "      <td>O</td>\n",
              "    </tr>\n",
              "    <tr>\n",
              "      <th>2</th>\n",
              "      <td>Sentence: 1</td>\n",
              "      <td>demonstrators</td>\n",
              "      <td>NNS</td>\n",
              "      <td>O</td>\n",
              "    </tr>\n",
              "    <tr>\n",
              "      <th>3</th>\n",
              "      <td>Sentence: 1</td>\n",
              "      <td>have</td>\n",
              "      <td>VBP</td>\n",
              "      <td>O</td>\n",
              "    </tr>\n",
              "    <tr>\n",
              "      <th>4</th>\n",
              "      <td>Sentence: 1</td>\n",
              "      <td>marched</td>\n",
              "      <td>VBN</td>\n",
              "      <td>O</td>\n",
              "    </tr>\n",
              "  </tbody>\n",
              "</table>\n",
              "</div>"
            ],
            "text/plain": [
              "    Sentence #           Word  POS Tag\n",
              "0  Sentence: 1      Thousands  NNS   O\n",
              "1  Sentence: 1             of   IN   O\n",
              "2  Sentence: 1  demonstrators  NNS   O\n",
              "3  Sentence: 1           have  VBP   O\n",
              "4  Sentence: 1        marched  VBN   O"
            ]
          },
          "metadata": {
            "tags": []
          },
          "execution_count": 8
        }
      ]
    },
    {
      "cell_type": "code",
      "metadata": {
        "colab": {
          "base_uri": "https://localhost:8080/"
        },
        "id": "l99hJuJ7m5j0",
        "outputId": "565c1aba-1ae6-4956-e834-69e4184eb6f5"
      },
      "source": [
        "# check if there are any NAs left\n",
        "df.isna().any()"
      ],
      "execution_count": null,
      "outputs": [
        {
          "output_type": "execute_result",
          "data": {
            "text/plain": [
              "Sentence #    False\n",
              "Word          False\n",
              "POS           False\n",
              "Tag           False\n",
              "dtype: bool"
            ]
          },
          "metadata": {
            "tags": []
          },
          "execution_count": 9
        }
      ]
    },
    {
      "cell_type": "code",
      "metadata": {
        "id": "vMdhLvsZlpPa"
      },
      "source": [
        "# Create unique word list, store the list and its length\n",
        "words = sorted(df['Word'].unique())\n",
        "words.append('ENDPAD')\n",
        "words_size = len(words)\n",
        "\n",
        "# Create unique tag list, store the list and its length\n",
        "tags = sorted(df['Tag'].unique())\n",
        "tags.append('PAD')\n",
        "tags_size = len(tags)\n",
        "\n",
        "# Create two dictionaries word:word_idx and word_idx:word\n",
        "word2idx = {value: count for count, value in enumerate(words)}\n",
        "idx2word = {count: value for value, count in word2idx.items()}\n",
        "\n",
        "# Create two dictionaries tag:tag_idx and tag_idx:tag\n",
        "tag2idx = {value: count for count, value in enumerate(tags)}\n",
        "idx2tag = {count: value for value, count in tag2idx.items()}"
      ],
      "execution_count": null,
      "outputs": []
    },
    {
      "cell_type": "code",
      "metadata": {
        "colab": {
          "base_uri": "https://localhost:8080/"
        },
        "id": "6KJ9JA6byRGL",
        "outputId": "d277aa1d-7da7-4aec-97c2-5275dd0b1b69"
      },
      "source": [
        "# create list of list where each inner list is the list of word for each sentences\n",
        "# create list of list where each inner list is the list of tag for each sentences\n",
        "sentence_group = df.groupby('Sentence #')\n",
        "sentence_list = []\n",
        "tag_list = []\n",
        "count = 1\n",
        "for sen in sentence_group.groups.keys():\n",
        "    if count % 5000 == 0:\n",
        "        print(f'iter: {count}')\n",
        "    count += 1\n",
        "    df_group = sentence_group.get_group(sen)\n",
        "    sentence_list.append(df_group['Word'].tolist())\n",
        "    tag_list.append(df_group['Tag'].tolist())"
      ],
      "execution_count": null,
      "outputs": [
        {
          "output_type": "stream",
          "text": [
            "iter: 5000\n",
            "iter: 10000\n",
            "iter: 15000\n",
            "iter: 20000\n",
            "iter: 25000\n",
            "iter: 30000\n",
            "iter: 35000\n",
            "iter: 40000\n",
            "iter: 45000\n"
          ],
          "name": "stdout"
        }
      ]
    },
    {
      "cell_type": "code",
      "metadata": {
        "colab": {
          "base_uri": "https://localhost:8080/"
        },
        "id": "8AwZfJD-06Ex",
        "outputId": "a03a1ae2-b180-43ce-d78d-4049e3197555"
      },
      "source": [
        "# pick the appropriate sentence length. Here we want to make sure that the majority of our sentences is shorter than our picked length.\n",
        "# evectually we land on the 99.75% percentile.\n",
        "max_length = int(np.percentile([len(sen) for sen in sentence_list], 99.75))\n",
        "num_long_length = len([sen for sen in sentence_list if len(sen) > 40])\n",
        "print(f'Picked max length for one sentence: {max_length}')\n",
        "print(f'Number of sentences being trimmed: {num_long_length}')"
      ],
      "execution_count": null,
      "outputs": [
        {
          "output_type": "stream",
          "text": [
            "Picked max length for one sentence: 50\n",
            "Number of sentences being trimmed: 772\n"
          ],
          "name": "stdout"
        }
      ]
    },
    {
      "cell_type": "code",
      "metadata": {
        "id": "A7OZLyfrMqsx"
      },
      "source": [
        "# set max_length\n",
        "max_length = 50"
      ],
      "execution_count": null,
      "outputs": []
    },
    {
      "cell_type": "markdown",
      "metadata": {
        "id": "AncWxAD3Of_5"
      },
      "source": [
        "## Train Test Split"
      ]
    },
    {
      "cell_type": "code",
      "metadata": {
        "id": "aJFliV0rKWoW"
      },
      "source": [
        "# split train-test with ratio 0.1\n",
        "sent_tr, sent_te, tag_tr, tag_te = train_test_split(sentence_list, tag_list, test_size=0.1, random_state=42)"
      ],
      "execution_count": null,
      "outputs": []
    },
    {
      "cell_type": "markdown",
      "metadata": {
        "id": "aq_YX1lVy-cn"
      },
      "source": [
        "# LSTM Model"
      ]
    },
    {
      "cell_type": "markdown",
      "metadata": {
        "id": "JAVBsU75PpgN"
      },
      "source": [
        "## LSTM Pre-Processing"
      ]
    },
    {
      "cell_type": "code",
      "metadata": {
        "id": "s0T1V_Dazm0u"
      },
      "source": [
        "# create list of list where each inner list is the list of word indices for each sentences\n",
        "# create list of list where each inner list is the list of tag indices for each sentences\n",
        "X_tr = []\n",
        "y_tr = []\n",
        "for i in range(len(sent_tr)):\n",
        "    X_tr.append(list(map(word2idx.get, sent_tr[i])))\n",
        "    y_tr.append(list(map(tag2idx.get, tag_tr[i])))\n",
        "\n",
        "X_te = []\n",
        "y_te = []\n",
        "for i in range(len(sent_te)):\n",
        "    X_te.append(list(map(word2idx.get, sent_te[i])))\n",
        "    y_te.append(list(map(tag2idx.get, tag_te[i])))"
      ],
      "execution_count": null,
      "outputs": []
    },
    {
      "cell_type": "code",
      "metadata": {
        "id": "Ahwtu2bE2-0U"
      },
      "source": [
        "# pad both our X and y \n",
        "X_tr_pad = pad_sequences(sequences = X_tr, maxlen = max_length, padding = 'post', value = word2idx['ENDPAD'])\n",
        "y_tr_pad = pad_sequences(sequences = y_tr, maxlen = max_length, padding = 'post', value = tag2idx[\"PAD\"])\n",
        "\n",
        "X_te_pad = pad_sequences(sequences = X_te, maxlen = max_length, padding = 'post', value = word2idx['ENDPAD'])\n",
        "y_te_pad = pad_sequences(sequences = y_te, maxlen = max_length, padding = 'post', value = tag2idx[\"PAD\"])"
      ],
      "execution_count": null,
      "outputs": []
    },
    {
      "cell_type": "code",
      "metadata": {
        "colab": {
          "base_uri": "https://localhost:8080/"
        },
        "id": "R1DAW16ArjSY",
        "outputId": "1a6874aa-0eac-4064-d7da-06c65066776a"
      },
      "source": [
        "# examine class imbalance in training data\n",
        "s, count = np.unique(list(np.concatenate(y_tr_pad).flat), return_counts=True)\n",
        "print(pd.DataFrame(count, index = tags, columns = ['Count']))"
      ],
      "execution_count": null,
      "outputs": [
        {
          "output_type": "stream",
          "text": [
            "         Count\n",
            "B-art      355\n",
            "B-eve      272\n",
            "B-geo    33836\n",
            "B-gpe    14267\n",
            "B-nat      179\n",
            "B-org    18075\n",
            "B-per    15311\n",
            "B-tim    18285\n",
            "I-art      257\n",
            "I-eve      213\n",
            "I-geo     6697\n",
            "I-gpe      182\n",
            "I-nat       42\n",
            "I-org    15075\n",
            "I-per    15584\n",
            "I-tim     5931\n",
            "O       798806\n",
            "PAD    1214783\n"
          ],
          "name": "stdout"
        }
      ]
    },
    {
      "cell_type": "code",
      "metadata": {
        "colab": {
          "base_uri": "https://localhost:8080/"
        },
        "id": "fJ5kixgmzRb-",
        "outputId": "a05c8634-78f7-430f-9d72-f1a3232d2a46"
      },
      "source": [
        "# calculate average count per class\n",
        "np.mean(count)"
      ],
      "execution_count": null,
      "outputs": [
        {
          "output_type": "execute_result",
          "data": {
            "text/plain": [
              "119897.22222222222"
            ]
          },
          "metadata": {
            "tags": []
          },
          "execution_count": 18
        }
      ]
    },
    {
      "cell_type": "code",
      "metadata": {
        "id": "TlBWO8yvqU7k"
      },
      "source": [
        "# one hot encode our target variable\n",
        "y_tr_pad = to_categorical(y_tr_pad, num_classes=tags_size)\n",
        "\n",
        "y_te_pad = to_categorical(y_te_pad, num_classes=tags_size)"
      ],
      "execution_count": null,
      "outputs": []
    },
    {
      "cell_type": "markdown",
      "metadata": {
        "id": "1MO8erkpHP9c"
      },
      "source": [
        "## Build Bidirectional LSTM Model"
      ]
    },
    {
      "cell_type": "code",
      "metadata": {
        "id": "DhRgrgS7IqY-"
      },
      "source": [
        "# set parameters for Bidirectional LSTM\n",
        "n_units = 100\n",
        "drop_rate = .1\n",
        "dim_embed = 50\n",
        "\n",
        "optimizer = \"rmsprop\"\n",
        "metrics = ['categorical_accuracy']\n",
        "\n",
        "batch_size = 32\n",
        "epochs = 20\n",
        "validation_split = 0.1\n",
        "verbose = 1"
      ],
      "execution_count": null,
      "outputs": []
    },
    {
      "cell_type": "code",
      "metadata": {
        "id": "tKyoVvS_gE2p"
      },
      "source": [
        "# calculate potential class weights for loss based on class imbalance\n",
        "# didn't use this part eventually\n",
        "y_tr_int = np.argmax(y_tr_pad, axis=2).flatten()\n",
        "class_weights = compute_class_weight('balanced', np.unique(y_tr_int), y_tr_int)\n",
        "class_weights = np.asarray(class_weights)"
      ],
      "execution_count": null,
      "outputs": []
    },
    {
      "cell_type": "code",
      "metadata": {
        "id": "VaATzl2Abdp2"
      },
      "source": [
        "# to calculate the standard categorical cross entropy, we set the class weight to all ones\n",
        "weights = [1,1,1,1,1,1,1,1,1,1,1,1,1,1,1,1,1,1]"
      ],
      "execution_count": null,
      "outputs": []
    },
    {
      "cell_type": "code",
      "metadata": {
        "id": "2W9FrAmqbWWv"
      },
      "source": [
        "# define a custom loss function that combines class weights with categorical cross entropy loss\n",
        "def custom_loss(y_true, y_pred):\n",
        "\n",
        "  # get the first two dimensions from y_pred\n",
        "  if y_pred.shape[0] is None:\n",
        "    x = 1\n",
        "  else:\n",
        "    x = int(y_pred.shape[0])\n",
        "  y = y_pred.shape[1]\n",
        "\n",
        "  # reshape weight for each batch\n",
        "  batch_weights = np.array([np.array(weights)] * (x*y))\n",
        "  batch_weights = batch_weights.reshape(x,y,18)\n",
        "  batch_weights = tf.cast(batch_weights, tf.float64)\n",
        "\n",
        "  # cast y_true and y_pred into tf.float64\n",
        "  y_true = tf.cast(y_true, tf.float64)\n",
        "  y_pred = tf.cast(y_pred, tf.float64)\n",
        "\n",
        "  # return weighted categorical cross entropy\n",
        "  return tf.math.reduce_sum(y_true * batch_weights, axis=-1) * tf.keras.losses.categorical_crossentropy(y_true, y_pred)"
      ],
      "execution_count": null,
      "outputs": []
    },
    {
      "cell_type": "code",
      "metadata": {
        "id": "vBSvIjC_3_K8"
      },
      "source": [
        "# Build BiLSTM model\n",
        "model_title = \"BiLSTM\"\n",
        "lstm = Sequential()\n",
        "lstm.add(\n",
        "    Embedding(\n",
        "        input_dim = words_size, output_dim = dim_embed, input_length = max_length\n",
        "    )\n",
        ")\n",
        "lstm.add(Dropout(drop_rate))\n",
        "lstm.add(Bidirectional(LSTM(n_units, return_sequences = True)))\n",
        "lstm.add(TimeDistributed(Dense(tags_size, activation = 'softmax')))\n",
        "\n",
        "# Compile model\n",
        "lstm.compile(optimizer=optimizer, loss=custom_loss, metrics=metrics)"
      ],
      "execution_count": null,
      "outputs": []
    },
    {
      "cell_type": "code",
      "metadata": {
        "id": "IyoIJgi4mUCB",
        "colab": {
          "base_uri": "https://localhost:8080/"
        },
        "outputId": "e944d639-a40b-402f-ea5b-daf3170bb071"
      },
      "source": [
        "print(lstm.summary())"
      ],
      "execution_count": null,
      "outputs": [
        {
          "output_type": "stream",
          "text": [
            "Model: \"sequential\"\n",
            "_________________________________________________________________\n",
            "Layer (type)                 Output Shape              Param #   \n",
            "=================================================================\n",
            "embedding (Embedding)        (None, 50, 50)            1758950   \n",
            "_________________________________________________________________\n",
            "dropout (Dropout)            (None, 50, 50)            0         \n",
            "_________________________________________________________________\n",
            "bidirectional (Bidirectional (None, 50, 200)           120800    \n",
            "_________________________________________________________________\n",
            "time_distributed (TimeDistri (None, 50, 18)            3618      \n",
            "=================================================================\n",
            "Total params: 1,883,368\n",
            "Trainable params: 1,883,368\n",
            "Non-trainable params: 0\n",
            "_________________________________________________________________\n",
            "None\n"
          ],
          "name": "stdout"
        }
      ]
    },
    {
      "cell_type": "code",
      "metadata": {
        "id": "vwUHY9vARMqz"
      },
      "source": [
        "# set early stopping for model\n",
        "early_stopping = tf.keras.callbacks.EarlyStopping(\n",
        "    monitor='val_loss', min_delta=0, patience=3, verbose=0, mode='auto'\n",
        ")\n",
        "\n",
        "callbacks = [early_stopping]"
      ],
      "execution_count": null,
      "outputs": []
    },
    {
      "cell_type": "code",
      "metadata": {
        "colab": {
          "base_uri": "https://localhost:8080/"
        },
        "id": "ztk1y9rJKPdj",
        "outputId": "b413181b-131c-4454-eb89-e9c06ca44668"
      },
      "source": [
        "# fit the model\n",
        "history = lstm.fit(X_tr_pad, y_tr_pad, batch_size=batch_size, epochs=epochs, \n",
        "                  validation_split=validation_split, callbacks=callbacks, verbose=verbose)"
      ],
      "execution_count": null,
      "outputs": [
        {
          "output_type": "stream",
          "text": [
            "Epoch 1/20\n",
            "1214/1214 [==============================] - 32s 12ms/step - loss: 0.3103 - categorical_accuracy: 0.9235 - val_loss: 0.0631 - val_categorical_accuracy: 0.9815\n",
            "Epoch 2/20\n",
            "1214/1214 [==============================] - 14s 12ms/step - loss: 0.0546 - categorical_accuracy: 0.9840 - val_loss: 0.0527 - val_categorical_accuracy: 0.9844\n",
            "Epoch 3/20\n",
            "1214/1214 [==============================] - 14s 12ms/step - loss: 0.0445 - categorical_accuracy: 0.9870 - val_loss: 0.0489 - val_categorical_accuracy: 0.9853\n",
            "Epoch 4/20\n",
            "1214/1214 [==============================] - 14s 12ms/step - loss: 0.0398 - categorical_accuracy: 0.9883 - val_loss: 0.0473 - val_categorical_accuracy: 0.9858\n",
            "Epoch 5/20\n",
            "1214/1214 [==============================] - 14s 11ms/step - loss: 0.0367 - categorical_accuracy: 0.9890 - val_loss: 0.0472 - val_categorical_accuracy: 0.9858\n",
            "Epoch 6/20\n",
            "1214/1214 [==============================] - 14s 12ms/step - loss: 0.0344 - categorical_accuracy: 0.9897 - val_loss: 0.0472 - val_categorical_accuracy: 0.9858\n",
            "Epoch 7/20\n",
            "1214/1214 [==============================] - 14s 12ms/step - loss: 0.0326 - categorical_accuracy: 0.9902 - val_loss: 0.0468 - val_categorical_accuracy: 0.9862\n",
            "Epoch 8/20\n",
            "1214/1214 [==============================] - 14s 12ms/step - loss: 0.0304 - categorical_accuracy: 0.9909 - val_loss: 0.0474 - val_categorical_accuracy: 0.9859\n",
            "Epoch 9/20\n",
            "1214/1214 [==============================] - 14s 11ms/step - loss: 0.0279 - categorical_accuracy: 0.9915 - val_loss: 0.0484 - val_categorical_accuracy: 0.9856\n",
            "Epoch 10/20\n",
            "1214/1214 [==============================] - 14s 12ms/step - loss: 0.0267 - categorical_accuracy: 0.9920 - val_loss: 0.0491 - val_categorical_accuracy: 0.9855\n"
          ],
          "name": "stdout"
        }
      ]
    },
    {
      "cell_type": "markdown",
      "metadata": {
        "id": "b4TvuaiUzFwo"
      },
      "source": [
        "## Examine Performance"
      ]
    },
    {
      "cell_type": "code",
      "metadata": {
        "colab": {
          "base_uri": "https://localhost:8080/"
        },
        "id": "-eqnSdQSLRXs",
        "outputId": "de6a45bf-2108-4267-bdb6-b2148b888617"
      },
      "source": [
        "# Examine performance for  \n",
        "lstm_pred = lstm.predict(X_te_pad, batch_size = batch_size, verbose = verbose)\n",
        "lstm_pred_flat = np.argmax(lstm_pred, axis = 2).flatten()\n",
        "y_te_flat = np.argmax(y_te_pad, axis = 2).flatten()\n",
        "\n",
        "# display f1 score for each class and \n",
        "f1_lstm = f1_score(y_te_flat, lstm_pred_flat, average = None)\n",
        "print(pd.DataFrame(f1_lstm, index = tags))\n",
        "print('Mean F1 across classes: ',np.mean(f1_lstm))"
      ],
      "execution_count": null,
      "outputs": [
        {
          "output_type": "stream",
          "text": [
            "150/150 [==============================] - 1s 3ms/step\n",
            "              0\n",
            "B-art  0.000000\n",
            "B-eve  0.333333\n",
            "B-geo  0.876239\n",
            "B-gpe  0.950192\n",
            "B-nat  0.230769\n",
            "B-org  0.739847\n",
            "B-per  0.833333\n",
            "B-tim  0.900756\n",
            "I-art  0.000000\n",
            "I-eve  0.387097\n",
            "I-geo  0.803596\n",
            "I-gpe  0.720000\n",
            "I-nat  0.000000\n",
            "I-org  0.778735\n",
            "I-per  0.865200\n",
            "I-tim  0.780090\n",
            "O      0.991122\n",
            "PAD    0.999993\n",
            "Mean F1 across classes:  0.6216834420340578\n"
          ],
          "name": "stdout"
        }
      ]
    },
    {
      "cell_type": "markdown",
      "metadata": {
        "id": "YYF0X9Lx8ZQK"
      },
      "source": [
        "### Entity-level for LSTM"
      ]
    },
    {
      "cell_type": "code",
      "metadata": {
        "id": "KApgBXSN9Meg"
      },
      "source": [
        "lstm_pred_decode = np.argmax(lstm_pred, axis = 2)"
      ],
      "execution_count": null,
      "outputs": []
    },
    {
      "cell_type": "code",
      "metadata": {
        "id": "JMhlVd5m8pkb"
      },
      "source": [
        "lstm_pred_tag = []\n",
        "y_true_tag_lstm = []\n",
        "\n",
        "y_true_te = np.argmax(y_te_pad, axis = 2)\n",
        "\n",
        "for i in range(len(y_true_te)):\n",
        "  lstm_pred_tag.append(list(map(idx2tag.get, lstm_pred_decode[i])))\n",
        "  y_true_tag_lstm.append(list(map(idx2tag.get, y_true_te[i])))"
      ],
      "execution_count": null,
      "outputs": []
    },
    {
      "cell_type": "code",
      "metadata": {
        "id": "S5AYsIxs8xM2"
      },
      "source": [
        "entity_tag = ['art', 'eve', 'geo', 'gpe', 'nat', 'org', 'per', 'tim']"
      ],
      "execution_count": null,
      "outputs": []
    },
    {
      "cell_type": "code",
      "metadata": {
        "id": "zRM257bH80ph"
      },
      "source": [
        "from copy import deepcopy\n",
        "\n",
        "metrics_results = {'correct': 0, 'incorrect': 0, 'partial': 0,\n",
        "                   'missed': 0, 'spurious': 0, 'possible': 0, 'actual': 0, 'precision': 0,'recall': 0,}\n",
        "\n",
        "# overall results\n",
        "results = {'strict': deepcopy(metrics_results),\n",
        "           'ent_type': deepcopy(metrics_results),\n",
        "           \n",
        "           }\n",
        "\n",
        "# results aggregated by entity type\n",
        "evaluation_agg_entities_type_lstm = {e: deepcopy(results) for e in entity_tag}\n",
        "\n",
        "for true_ents, pred_ents in zip(y_true_tag_lstm, lstm_pred_tag):    \n",
        "    # compute results for one message\n",
        "    tmp_results, tmp_agg_results = compute_metrics(collect_named_entities(true_ents),collect_named_entities(pred_ents), entity_tag)\n",
        "\n",
        "    # aggregate overall results\n",
        "    for eval_schema in results.keys():\n",
        "        for metric in metrics_results.keys():\n",
        "            results[eval_schema][metric] += tmp_results[eval_schema][metric]\n",
        "\n",
        "\n",
        "    # aggregate results by entity type\n",
        "    for e_type in entity_tag:\n",
        "        for eval_schema in evaluation_agg_entities_type_lstm[e_type]:\n",
        "            for metric in tmp_agg_results[e_type][eval_schema]:\n",
        "                evaluation_agg_entities_type_lstm[e_type][eval_schema][metric] += tmp_agg_results[e_type][eval_schema][metric]"
      ],
      "execution_count": null,
      "outputs": []
    },
    {
      "cell_type": "code",
      "metadata": {
        "id": "DP9vWye08n7S"
      },
      "source": [
        "def make_precision_recall(entity_level_dict, scheme):\n",
        "  bert_entity_result = {}\n",
        "  for tag in entity_level_dict.keys():\n",
        "    if tag not in bert_entity_result.keys():\n",
        "      bert_entity_result[tag] = {}\n",
        "    bert_entity_result[tag]['precision'] = entity_level_dict[tag][scheme]['correct'] / entity_level_dict[tag][scheme]['actual'] \n",
        "    bert_entity_result[tag]['recall'] = entity_level_dict[tag][scheme]['correct'] / entity_level_dict[tag][scheme]['possible']\n",
        "    if bert_entity_result[tag]['recall'] + bert_entity_result[tag]['precision'] != 0:\n",
        "      bert_entity_result[tag]['f1'] = 2 * bert_entity_result[tag]['precision'] * bert_entity_result[tag]['recall'] / (bert_entity_result[tag]['recall'] + bert_entity_result[tag]['precision'])\n",
        "    else:\n",
        "      bert_entity_result[tag]['f1'] = 0\n",
        "  return bert_entity_result"
      ],
      "execution_count": null,
      "outputs": []
    },
    {
      "cell_type": "code",
      "metadata": {
        "colab": {
          "base_uri": "https://localhost:8080/"
        },
        "id": "PhDwodOV89Wt",
        "outputId": "98da0765-9536-4b72-93ec-56d977ff6f36"
      },
      "source": [
        "f1_lstm_entity = make_precision_recall(evaluation_agg_entities_type_lstm,'strict')\n",
        "f1_lstm_entity"
      ],
      "execution_count": null,
      "outputs": [
        {
          "output_type": "execute_result",
          "data": {
            "text/plain": [
              "{'art': {'f1': 0, 'precision': 0.0, 'recall': 0.0},\n",
              " 'eve': {'f1': 0.01120896717373899,\n",
              "  'precision': 0.005766062602965404,\n",
              "  'recall': 0.2},\n",
              " 'geo': {'f1': 0.7964684014869888,\n",
              "  'precision': 0.712533776761588,\n",
              "  'recall': 0.902818014221754},\n",
              " 'gpe': {'f1': 0.6835094166283877,\n",
              "  'precision': 0.5387400434467777,\n",
              "  'recall': 0.9346733668341709},\n",
              " 'nat': {'f1': 0.004922067268252666,\n",
              "  'precision': 0.0025020850708924102,\n",
              "  'recall': 0.15},\n",
              " 'org': {'f1': 0.5576998818432454,\n",
              "  'precision': 0.47027565592826304,\n",
              "  'recall': 0.6850507982583455},\n",
              " 'per': {'f1': 0.5855670103092784,\n",
              "  'precision': 0.4745636836242109,\n",
              "  'recall': 0.7643540669856459},\n",
              " 'tim': {'f1': 0.690163281561131,\n",
              "  'precision': 0.5797925727668116,\n",
              "  'recall': 0.8524348253812101}}"
            ]
          },
          "metadata": {
            "tags": []
          },
          "execution_count": 35
        }
      ]
    },
    {
      "cell_type": "markdown",
      "metadata": {
        "id": "jyRUQHNH7zXZ"
      },
      "source": [
        "# BERT Model"
      ]
    },
    {
      "cell_type": "markdown",
      "metadata": {
        "id": "7DXZ8l6686y2"
      },
      "source": [
        "## BERT Pre-Processing and Tokenize"
      ]
    },
    {
      "cell_type": "code",
      "metadata": {
        "id": "9c8TzOwK74ad",
        "colab": {
          "base_uri": "https://localhost:8080/",
          "height": 660,
          "referenced_widgets": [
            "97d86a4eee7e48519c50bca5eb2b5bbc",
            "5c545c5e19ee46b3bb2f69d37423ed84",
            "01c131f482ab4d828fa17a27a9ffbee0",
            "99820bbeba6446fe91ffdbef8cc48031",
            "45d021190ff7472a8cf765f4677ce0fd",
            "8f3c39e92f604ec988b6528d8f51a855",
            "ace4430925704addb6e4a87bfa28a214",
            "dbdbcebd3d104e57a40eb65b781f13c0",
            "892bee902d36458b85b9c789e9705e19",
            "8744fc2b6b5e45e291c6810d0c50ebd2",
            "78d2dd5a7ca34d3386ca9d53d516593a",
            "9a1f825cd5514bd091b9ea387c8825f8",
            "8964c493ac444588b7dcdf15e8d7b1a6",
            "d716842acd0a4e09957b2d3acd11c2ad",
            "e9ad9cf57b314b3a9c6fa6facafbd6c9",
            "5fdca51c1e9e4fadb49f050646ab34ad",
            "658f67dad1444cc7a3f6f0edfa4b37b4",
            "498af1fef32e4ef8987b5b9e223924d7",
            "73135e013e8a461083e407db46ee5448",
            "2d78a028e30e42a08cfb6da1815f6dfe",
            "6d87dba3729d404db3192a94cca3bda0",
            "be6a1ae433404ab8ac31c39d5e7b14f5",
            "0b7827e9cbd84536a7c2832972d902cf",
            "9bb6821245184cf186a3fd61fa528d44"
          ]
        },
        "outputId": "b3b70816-d3a7-4982-c859-85575751a636"
      },
      "source": [
        "tokenizer = BertTokenizer.from_pretrained('bert-base-cased', do_lower_case=False)"
      ],
      "execution_count": null,
      "outputs": [
        {
          "output_type": "stream",
          "text": [
            "2021-05-10 01:42:46 urllib3.connectionpool DEBUG: Starting new HTTPS connection (1): huggingface.co:443\n",
            "2021-05-10 01:42:47 urllib3.connectionpool DEBUG: https://huggingface.co:443 \"HEAD /bert-base-cased/resolve/main/vocab.txt HTTP/1.1\" 200 0\n",
            "2021-05-10 01:42:47 filelock DEBUG: Attempting to acquire lock 140189487026512 on /root/.cache/huggingface/transformers/6508e60ab3c1200bffa26c95f4b58ac6b6d95fba4db1f195f632fa3cd7bc64cc.437aa611e89f6fc6675a049d2b5545390adbc617e7d655286421c191d2be2791.lock\n",
            "2021-05-10 01:42:47 filelock INFO: Lock 140189487026512 acquired on /root/.cache/huggingface/transformers/6508e60ab3c1200bffa26c95f4b58ac6b6d95fba4db1f195f632fa3cd7bc64cc.437aa611e89f6fc6675a049d2b5545390adbc617e7d655286421c191d2be2791.lock\n",
            "2021-05-10 01:42:47 urllib3.connectionpool DEBUG: Starting new HTTPS connection (1): huggingface.co:443\n",
            "2021-05-10 01:42:47 urllib3.connectionpool DEBUG: https://huggingface.co:443 \"GET /bert-base-cased/resolve/main/vocab.txt HTTP/1.1\" 200 213450\n"
          ],
          "name": "stderr"
        },
        {
          "output_type": "display_data",
          "data": {
            "application/vnd.jupyter.widget-view+json": {
              "model_id": "97d86a4eee7e48519c50bca5eb2b5bbc",
              "version_minor": 0,
              "version_major": 2
            },
            "text/plain": [
              "HBox(children=(FloatProgress(value=0.0, description='Downloading', max=213450.0, style=ProgressStyle(descripti…"
            ]
          },
          "metadata": {
            "tags": []
          }
        },
        {
          "output_type": "stream",
          "text": [
            "2021-05-10 01:42:47 filelock DEBUG: Attempting to release lock 140189487026512 on /root/.cache/huggingface/transformers/6508e60ab3c1200bffa26c95f4b58ac6b6d95fba4db1f195f632fa3cd7bc64cc.437aa611e89f6fc6675a049d2b5545390adbc617e7d655286421c191d2be2791.lock\n",
            "2021-05-10 01:42:47 filelock INFO: Lock 140189487026512 released on /root/.cache/huggingface/transformers/6508e60ab3c1200bffa26c95f4b58ac6b6d95fba4db1f195f632fa3cd7bc64cc.437aa611e89f6fc6675a049d2b5545390adbc617e7d655286421c191d2be2791.lock\n",
            "2021-05-10 01:42:47 urllib3.connectionpool DEBUG: Starting new HTTPS connection (1): huggingface.co:443\n"
          ],
          "name": "stderr"
        },
        {
          "output_type": "stream",
          "text": [
            "\n"
          ],
          "name": "stdout"
        },
        {
          "output_type": "stream",
          "text": [
            "2021-05-10 01:42:48 urllib3.connectionpool DEBUG: https://huggingface.co:443 \"HEAD /bert-base-cased/resolve/main/added_tokens.json HTTP/1.1\" 404 0\n",
            "2021-05-10 01:42:48 urllib3.connectionpool DEBUG: Starting new HTTPS connection (1): huggingface.co:443\n",
            "2021-05-10 01:42:48 urllib3.connectionpool DEBUG: https://huggingface.co:443 \"HEAD /bert-base-cased/resolve/main/special_tokens_map.json HTTP/1.1\" 404 0\n",
            "2021-05-10 01:42:48 urllib3.connectionpool DEBUG: Starting new HTTPS connection (1): huggingface.co:443\n",
            "2021-05-10 01:42:48 urllib3.connectionpool DEBUG: https://huggingface.co:443 \"HEAD /bert-base-cased/resolve/main/tokenizer_config.json HTTP/1.1\" 200 0\n",
            "2021-05-10 01:42:48 filelock DEBUG: Attempting to acquire lock 140192564984144 on /root/.cache/huggingface/transformers/ec84e86ee39bfe112543192cf981deebf7e6cbe8c91b8f7f8f63c9be44366158.ec5c189f89475aac7d8cbd243960a0655cfadc3d0474da8ff2ed0bf1699c2a5f.lock\n",
            "2021-05-10 01:42:48 filelock INFO: Lock 140192564984144 acquired on /root/.cache/huggingface/transformers/ec84e86ee39bfe112543192cf981deebf7e6cbe8c91b8f7f8f63c9be44366158.ec5c189f89475aac7d8cbd243960a0655cfadc3d0474da8ff2ed0bf1699c2a5f.lock\n",
            "2021-05-10 01:42:48 urllib3.connectionpool DEBUG: Starting new HTTPS connection (1): huggingface.co:443\n",
            "2021-05-10 01:42:48 urllib3.connectionpool DEBUG: https://huggingface.co:443 \"GET /bert-base-cased/resolve/main/tokenizer_config.json HTTP/1.1\" 200 29\n"
          ],
          "name": "stderr"
        },
        {
          "output_type": "display_data",
          "data": {
            "application/vnd.jupyter.widget-view+json": {
              "model_id": "892bee902d36458b85b9c789e9705e19",
              "version_minor": 0,
              "version_major": 2
            },
            "text/plain": [
              "HBox(children=(FloatProgress(value=0.0, description='Downloading', max=29.0, style=ProgressStyle(description_w…"
            ]
          },
          "metadata": {
            "tags": []
          }
        },
        {
          "output_type": "stream",
          "text": [
            "2021-05-10 01:42:48 filelock DEBUG: Attempting to release lock 140192564984144 on /root/.cache/huggingface/transformers/ec84e86ee39bfe112543192cf981deebf7e6cbe8c91b8f7f8f63c9be44366158.ec5c189f89475aac7d8cbd243960a0655cfadc3d0474da8ff2ed0bf1699c2a5f.lock\n",
            "2021-05-10 01:42:48 filelock INFO: Lock 140192564984144 released on /root/.cache/huggingface/transformers/ec84e86ee39bfe112543192cf981deebf7e6cbe8c91b8f7f8f63c9be44366158.ec5c189f89475aac7d8cbd243960a0655cfadc3d0474da8ff2ed0bf1699c2a5f.lock\n",
            "2021-05-10 01:42:48 urllib3.connectionpool DEBUG: Starting new HTTPS connection (1): huggingface.co:443\n"
          ],
          "name": "stderr"
        },
        {
          "output_type": "stream",
          "text": [
            "\n"
          ],
          "name": "stdout"
        },
        {
          "output_type": "stream",
          "text": [
            "2021-05-10 01:42:48 urllib3.connectionpool DEBUG: https://huggingface.co:443 \"HEAD /bert-base-cased/resolve/main/tokenizer.json HTTP/1.1\" 200 0\n",
            "2021-05-10 01:42:48 filelock DEBUG: Attempting to acquire lock 140189483455120 on /root/.cache/huggingface/transformers/226a307193a9f4344264cdc76a12988448a25345ba172f2c7421f3b6810fddad.3dab63143af66769bbb35e3811f75f7e16b2320e12b7935e216bd6159ce6d9a6.lock\n",
            "2021-05-10 01:42:48 filelock INFO: Lock 140189483455120 acquired on /root/.cache/huggingface/transformers/226a307193a9f4344264cdc76a12988448a25345ba172f2c7421f3b6810fddad.3dab63143af66769bbb35e3811f75f7e16b2320e12b7935e216bd6159ce6d9a6.lock\n",
            "2021-05-10 01:42:48 urllib3.connectionpool DEBUG: Starting new HTTPS connection (1): huggingface.co:443\n",
            "2021-05-10 01:42:49 urllib3.connectionpool DEBUG: https://huggingface.co:443 \"GET /bert-base-cased/resolve/main/tokenizer.json HTTP/1.1\" 200 435797\n"
          ],
          "name": "stderr"
        },
        {
          "output_type": "display_data",
          "data": {
            "application/vnd.jupyter.widget-view+json": {
              "model_id": "658f67dad1444cc7a3f6f0edfa4b37b4",
              "version_minor": 0,
              "version_major": 2
            },
            "text/plain": [
              "HBox(children=(FloatProgress(value=0.0, description='Downloading', max=435797.0, style=ProgressStyle(descripti…"
            ]
          },
          "metadata": {
            "tags": []
          }
        },
        {
          "output_type": "stream",
          "text": [
            "2021-05-10 01:42:49 filelock DEBUG: Attempting to release lock 140189483455120 on /root/.cache/huggingface/transformers/226a307193a9f4344264cdc76a12988448a25345ba172f2c7421f3b6810fddad.3dab63143af66769bbb35e3811f75f7e16b2320e12b7935e216bd6159ce6d9a6.lock\n",
            "2021-05-10 01:42:49 filelock INFO: Lock 140189483455120 released on /root/.cache/huggingface/transformers/226a307193a9f4344264cdc76a12988448a25345ba172f2c7421f3b6810fddad.3dab63143af66769bbb35e3811f75f7e16b2320e12b7935e216bd6159ce6d9a6.lock\n"
          ],
          "name": "stderr"
        },
        {
          "output_type": "stream",
          "text": [
            "\n"
          ],
          "name": "stdout"
        }
      ]
    },
    {
      "cell_type": "code",
      "metadata": {
        "id": "OfZ3LE4eTuTo"
      },
      "source": [
        "def tokenize_and_preserve_labels(sentence, text_labels):\n",
        "    tokenized_sentence = []\n",
        "    labels = []\n",
        "\n",
        "    for word, label in zip(sentence, text_labels):\n",
        "\n",
        "        # Tokenize the word and count # of subwords the word is broken into\n",
        "        tokenized_word = tokenizer.tokenize(word)\n",
        "        n_subwords = len(tokenized_word)\n",
        "\n",
        "        # Add the tokenized word to the final tokenized word list\n",
        "        tokenized_sentence.extend(tokenized_word)\n",
        "\n",
        "        # Add the same label to the new list of labels `n_subwords` times\n",
        "        labels.extend([label] * n_subwords)\n",
        "\n",
        "    return tokenized_sentence, labels"
      ],
      "execution_count": null,
      "outputs": []
    },
    {
      "cell_type": "code",
      "metadata": {
        "id": "7hCTaJ5xUHHq"
      },
      "source": [
        "tokenized_texts_and_labels_tr = [\n",
        "    tokenize_and_preserve_labels(sent, labs)\n",
        "    for sent, labs in zip(sent_tr, tag_tr)\n",
        "]\n",
        "\n",
        "tokenized_texts_and_labels_te = [\n",
        "    tokenize_and_preserve_labels(sent, labs)\n",
        "    for sent, labs in zip(sent_te, tag_te)\n",
        "]"
      ],
      "execution_count": null,
      "outputs": []
    },
    {
      "cell_type": "code",
      "metadata": {
        "id": "wtnIoZqTWTZL"
      },
      "source": [
        "tokenized_texts_tr = [token_label_pair[0] for token_label_pair in tokenized_texts_and_labels_tr]\n",
        "labels_tr = [token_label_pair[1] for token_label_pair in tokenized_texts_and_labels_tr]\n",
        "\n",
        "tokenized_texts_te = [token_label_pair[0] for token_label_pair in tokenized_texts_and_labels_te]\n",
        "labels_te = [token_label_pair[1] for token_label_pair in tokenized_texts_and_labels_te]"
      ],
      "execution_count": null,
      "outputs": []
    },
    {
      "cell_type": "code",
      "metadata": {
        "id": "WR7U63XRXcnL"
      },
      "source": [
        "tr_inputs = pad_sequences([tokenizer.convert_tokens_to_ids(txt) for txt in tokenized_texts_tr],\n",
        "                          maxlen=max_length, dtype=\"long\", value=word2idx['ENDPAD'],\n",
        "                          truncating=\"post\", padding=\"post\")\n",
        "\n",
        "te_inputs = pad_sequences([tokenizer.convert_tokens_to_ids(txt) for txt in tokenized_texts_te],\n",
        "                          maxlen=max_length, dtype=\"long\", value=word2idx['ENDPAD'],\n",
        "                          truncating=\"post\", padding=\"post\")"
      ],
      "execution_count": null,
      "outputs": []
    },
    {
      "cell_type": "code",
      "metadata": {
        "id": "3cpzJkm9YFBr"
      },
      "source": [
        "tr_tags = pad_sequences([[tag2idx.get(l) for l in lab] for lab in labels_tr],\n",
        "                     maxlen=max_length, value=tag2idx[\"PAD\"], padding=\"post\",\n",
        "                     dtype=\"long\", truncating=\"post\")\n",
        "\n",
        "te_tags = pad_sequences([[tag2idx.get(l) for l in lab] for lab in labels_te],\n",
        "                     maxlen=max_length, value=tag2idx[\"PAD\"], padding=\"post\",\n",
        "                     dtype=\"long\", truncating=\"post\")"
      ],
      "execution_count": null,
      "outputs": []
    },
    {
      "cell_type": "code",
      "metadata": {
        "id": "iya47bT1Yi1H"
      },
      "source": [
        "tr_masks = [[float(i != word2idx['ENDPAD']) for i in ii] for ii in tr_inputs]\n",
        "\n",
        "te_masks = [[float(i != word2idx['ENDPAD']) for i in ii] for ii in te_inputs]"
      ],
      "execution_count": null,
      "outputs": []
    },
    {
      "cell_type": "code",
      "metadata": {
        "id": "bhp-p9GdYj40"
      },
      "source": [
        "tr_inputs = tf.convert_to_tensor(tr_inputs)\n",
        "te_inputs = tf.convert_to_tensor(te_inputs)\n",
        "tr_tags = tf.convert_to_tensor(tr_tags)\n",
        "te_tags = tf.convert_to_tensor(te_tags)\n",
        "tr_masks = tf.convert_to_tensor(tr_masks)\n",
        "te_masks = tf.convert_to_tensor(te_masks)"
      ],
      "execution_count": null,
      "outputs": []
    },
    {
      "cell_type": "code",
      "metadata": {
        "id": "kLFs72uNcAlp"
      },
      "source": [
        "train_data = tf.data.Dataset.from_tensor_slices(((tr_inputs, \n",
        "                                                  tr_masks), \n",
        "                                                 tr_tags))\n",
        "\n",
        "val_data = tf.data.Dataset.from_tensor_slices(((te_inputs, \n",
        "                                                  te_masks), \n",
        "                                               te_tags))"
      ],
      "execution_count": null,
      "outputs": []
    },
    {
      "cell_type": "markdown",
      "metadata": {
        "id": "G-d1Znus9E4X"
      },
      "source": [
        "## BERT training"
      ]
    },
    {
      "cell_type": "code",
      "metadata": {
        "colab": {
          "base_uri": "https://localhost:8080/"
        },
        "id": "3Zr7Niz8e6lA",
        "outputId": "2f451197-f868-4432-a81f-1f1fd5fe469a"
      },
      "source": [
        "BATCH_SIZE = 32\n",
        "TRAIN_SHUFFLE_BUFFER_SIZE = len(tr_tags)\n",
        "VAL_SHUFFLE_BUFFER_SIZE = len(te_tags)\n",
        "PREFETCH_BUFFER_SIZE = 100\n",
        "\n",
        "# Transfer training data\n",
        "train_data = train_data.shuffle(buffer_size=TRAIN_SHUFFLE_BUFFER_SIZE)\n",
        "train_data = train_data.batch(batch_size=BATCH_SIZE)\n",
        "train_data = train_data.prefetch(buffer_size=PREFETCH_BUFFER_SIZE)\n",
        "\n",
        "# Transfer validation data\n",
        "val_data = val_data.batch(batch_size=BATCH_SIZE)\n",
        "val_data = val_data.prefetch(buffer_size=PREFETCH_BUFFER_SIZE)\n",
        "\n",
        "print('train_data: ', train_data)\n",
        "print('val_data: ', val_data)"
      ],
      "execution_count": null,
      "outputs": [
        {
          "output_type": "stream",
          "text": [
            "train_data:  <PrefetchDataset shapes: (((None, 50), (None, 50)), (None, 50)), types: ((tf.int64, tf.float32), tf.int64)>\n",
            "val_data:  <PrefetchDataset shapes: (((None, 50), (None, 50)), (None, 50)), types: ((tf.int64, tf.float32), tf.int64)>\n"
          ],
          "name": "stdout"
        }
      ]
    },
    {
      "cell_type": "code",
      "metadata": {
        "colab": {
          "base_uri": "https://localhost:8080/",
          "height": 475,
          "referenced_widgets": [
            "65b0219dc7dd40eaaff8d9f7411cd858",
            "c03c7f3484204bad94db8fff7a0e1f3d",
            "ca443b01b93a46c4bfe8d436395ce9ba",
            "f7509cd91ebe4d66a24e5461d905b5de",
            "7117cba5602a4cee8bbfb9f90139ef9a",
            "ab4481bf45cf49c49887e6fed9504b6c",
            "3e6337aa4ebc40218d18a96e8a7af494",
            "2d1217fc80ed403a9d039a59ea0371c7",
            "ecc357cce9f44d9fa4400b2fa8924fb1",
            "b01c8e6732ba4f3c8504ba83d24d5e4a",
            "3e1fb42757344edb95e3187163b1108e",
            "b41f273f62ce46f4b00f7b24c272c49a",
            "57cd852869e24fe88eac32606c329f61",
            "f2e25cb184b84f4885f8ac97d4213d77",
            "a464f2d6677e416daa7ea9027aa7b085",
            "f60654fe49bb4b8598c0913f1873d49c"
          ]
        },
        "id": "ShqUD2_gffUS",
        "outputId": "84b97451-e7a0-4ca6-c0e8-8af10ba2145a"
      },
      "source": [
        "bert = TFBertForTokenClassification.from_pretrained(\n",
        "    \"bert-base-cased\",\n",
        "    num_labels=len(tag2idx),\n",
        "    output_attentions = False,\n",
        "    output_hidden_states = False\n",
        ")"
      ],
      "execution_count": null,
      "outputs": [
        {
          "output_type": "stream",
          "text": [
            "2021-05-10 01:44:23 urllib3.connectionpool DEBUG: Starting new HTTPS connection (1): huggingface.co:443\n",
            "2021-05-10 01:44:23 urllib3.connectionpool DEBUG: https://huggingface.co:443 \"HEAD /bert-base-cased/resolve/main/config.json HTTP/1.1\" 200 0\n",
            "2021-05-10 01:44:23 filelock DEBUG: Attempting to acquire lock 140191205103184 on /root/.cache/huggingface/transformers/a803e0468a8fe090683bdc453f4fac622804f49de86d7cecaee92365d4a0f829.a64a22196690e0e82ead56f388a3ef3a50de93335926ccfa20610217db589307.lock\n",
            "2021-05-10 01:44:23 filelock INFO: Lock 140191205103184 acquired on /root/.cache/huggingface/transformers/a803e0468a8fe090683bdc453f4fac622804f49de86d7cecaee92365d4a0f829.a64a22196690e0e82ead56f388a3ef3a50de93335926ccfa20610217db589307.lock\n",
            "2021-05-10 01:44:23 urllib3.connectionpool DEBUG: Starting new HTTPS connection (1): huggingface.co:443\n",
            "2021-05-10 01:44:24 urllib3.connectionpool DEBUG: https://huggingface.co:443 \"GET /bert-base-cased/resolve/main/config.json HTTP/1.1\" 200 570\n"
          ],
          "name": "stderr"
        },
        {
          "output_type": "display_data",
          "data": {
            "application/vnd.jupyter.widget-view+json": {
              "model_id": "65b0219dc7dd40eaaff8d9f7411cd858",
              "version_minor": 0,
              "version_major": 2
            },
            "text/plain": [
              "HBox(children=(FloatProgress(value=0.0, description='Downloading', max=570.0, style=ProgressStyle(description_…"
            ]
          },
          "metadata": {
            "tags": []
          }
        },
        {
          "output_type": "stream",
          "text": [
            "2021-05-10 01:44:24 filelock DEBUG: Attempting to release lock 140191205103184 on /root/.cache/huggingface/transformers/a803e0468a8fe090683bdc453f4fac622804f49de86d7cecaee92365d4a0f829.a64a22196690e0e82ead56f388a3ef3a50de93335926ccfa20610217db589307.lock\n",
            "2021-05-10 01:44:24 filelock INFO: Lock 140191205103184 released on /root/.cache/huggingface/transformers/a803e0468a8fe090683bdc453f4fac622804f49de86d7cecaee92365d4a0f829.a64a22196690e0e82ead56f388a3ef3a50de93335926ccfa20610217db589307.lock\n",
            "2021-05-10 01:44:24 urllib3.connectionpool DEBUG: Starting new HTTPS connection (1): huggingface.co:443\n"
          ],
          "name": "stderr"
        },
        {
          "output_type": "stream",
          "text": [
            "\n"
          ],
          "name": "stdout"
        },
        {
          "output_type": "stream",
          "text": [
            "2021-05-10 01:44:24 urllib3.connectionpool DEBUG: https://huggingface.co:443 \"HEAD /bert-base-cased/resolve/main/tf_model.h5 HTTP/1.1\" 302 0\n",
            "2021-05-10 01:44:24 filelock DEBUG: Attempting to acquire lock 140189225557136 on /root/.cache/huggingface/transformers/01800f4158e284e2447020e0124bc3f6aea3ac49848e744594f7cce8ee5ac0a4.a7137b2090d9302d722735af604b4c142ec9d1bfc31be7cbbe230aea9d5cfb76.h5.lock\n",
            "2021-05-10 01:44:24 filelock INFO: Lock 140189225557136 acquired on /root/.cache/huggingface/transformers/01800f4158e284e2447020e0124bc3f6aea3ac49848e744594f7cce8ee5ac0a4.a7137b2090d9302d722735af604b4c142ec9d1bfc31be7cbbe230aea9d5cfb76.h5.lock\n",
            "2021-05-10 01:44:24 urllib3.connectionpool DEBUG: Starting new HTTPS connection (1): cdn-lfs.huggingface.co:443\n",
            "2021-05-10 01:44:24 urllib3.connectionpool DEBUG: https://cdn-lfs.huggingface.co:443 \"GET /bert-base-cased/0d04ece69d04b890153ea3bd5c2ef5706f9181495a0778a2593c6118f7ce2dc3 HTTP/1.1\" 200 526681800\n"
          ],
          "name": "stderr"
        },
        {
          "output_type": "display_data",
          "data": {
            "application/vnd.jupyter.widget-view+json": {
              "model_id": "ecc357cce9f44d9fa4400b2fa8924fb1",
              "version_minor": 0,
              "version_major": 2
            },
            "text/plain": [
              "HBox(children=(FloatProgress(value=0.0, description='Downloading', max=526681800.0, style=ProgressStyle(descri…"
            ]
          },
          "metadata": {
            "tags": []
          }
        },
        {
          "output_type": "stream",
          "text": [
            "2021-05-10 01:44:33 filelock DEBUG: Attempting to release lock 140189225557136 on /root/.cache/huggingface/transformers/01800f4158e284e2447020e0124bc3f6aea3ac49848e744594f7cce8ee5ac0a4.a7137b2090d9302d722735af604b4c142ec9d1bfc31be7cbbe230aea9d5cfb76.h5.lock\n",
            "2021-05-10 01:44:33 filelock INFO: Lock 140189225557136 released on /root/.cache/huggingface/transformers/01800f4158e284e2447020e0124bc3f6aea3ac49848e744594f7cce8ee5ac0a4.a7137b2090d9302d722735af604b4c142ec9d1bfc31be7cbbe230aea9d5cfb76.h5.lock\n"
          ],
          "name": "stderr"
        },
        {
          "output_type": "stream",
          "text": [
            "\n"
          ],
          "name": "stdout"
        },
        {
          "output_type": "stream",
          "text": [
            "All model checkpoint layers were used when initializing TFBertForTokenClassification.\n",
            "\n",
            "Some layers of TFBertForTokenClassification were not initialized from the model checkpoint at bert-base-cased and are newly initialized: ['classifier']\n",
            "You should probably TRAIN this model on a down-stream task to be able to use it for predictions and inference.\n"
          ],
          "name": "stderr"
        }
      ]
    },
    {
      "cell_type": "code",
      "metadata": {
        "id": "PmzOQvwWgOnG"
      },
      "source": [
        "import keras\n",
        "optimizer = keras.optimizers.Adam(lr=3e-5)\n",
        "# Loss\n",
        "loss = keras.losses.SparseCategoricalCrossentropy(from_logits=True)\n",
        "\n",
        "# Compile\n",
        "bert.compile(loss=loss,\n",
        "                  optimizer=optimizer,\n",
        "                  metrics=['accuracy'])\n",
        "\n",
        "# Callbacks\n",
        "# Learning Rate Scheduler: Change learning rates during training epochs\n",
        "def scheduler(epoch, lr):\n",
        "  if epoch < 10:\n",
        "    return lr\n",
        "  else:\n",
        "    return lr * 0.01\n",
        "lr_scheduler = tf.keras.callbacks.LearningRateScheduler(scheduler)\n",
        "# Early Stopping: Stop training when a monitored metric has stopped improving\n",
        "early_stopping = tf.keras.callbacks.EarlyStopping(\n",
        "    monitor='val_loss', min_delta=0, patience=3, verbose=0, mode='auto'\n",
        ")\n",
        "callbacks = [lr_scheduler,early_stopping]\n",
        "\n"
      ],
      "execution_count": null,
      "outputs": []
    },
    {
      "cell_type": "code",
      "metadata": {
        "colab": {
          "base_uri": "https://localhost:8080/"
        },
        "id": "CgwSUpdhgEVV",
        "outputId": "166e725e-9f57-4497-f93f-5753c7ca37e4"
      },
      "source": [
        "import time\n",
        "start_time = time.time()\n",
        "training_results = bert.fit(\n",
        "        train_data,\n",
        "        validation_data=val_data,\n",
        "        epochs=epochs, \n",
        "        callbacks=callbacks,\n",
        "        verbose=1)\n",
        "execution_time = (time.time() - start_time)/60.0\n",
        "print(\"Training execution time (mins)\",execution_time)"
      ],
      "execution_count": null,
      "outputs": [
        {
          "output_type": "stream",
          "text": [
            "Epoch 1/20\n",
            "WARNING:tensorflow:The parameters `output_attentions`, `output_hidden_states` and `use_cache` cannot be updated when calling a model.They have to be set to True/False in the config object (i.e.: `config=XConfig.from_pretrained('name', output_attentions=True)`).\n",
            "WARNING:tensorflow:AutoGraph could not transform <bound method Socket.send of <zmq.sugar.socket.Socket object at 0x7f81d8543d00>> and will run it as-is.\n",
            "Please report this to the TensorFlow team. When filing the bug, set the verbosity to 10 (on Linux, `export AUTOGRAPH_VERBOSITY=10`) and attach the full output.\n",
            "Cause: module, class, method, function, traceback, frame, or code object was expected, got cython_function_or_method\n",
            "To silence this warning, decorate the function with @tf.autograph.experimental.do_not_convert\n"
          ],
          "name": "stdout"
        },
        {
          "output_type": "stream",
          "text": [
            "2021-05-10 01:45:06 tensorflow WARNING: AutoGraph could not transform <bound method Socket.send of <zmq.sugar.socket.Socket object at 0x7f81d8543d00>> and will run it as-is.\n",
            "Please report this to the TensorFlow team. When filing the bug, set the verbosity to 10 (on Linux, `export AUTOGRAPH_VERBOSITY=10`) and attach the full output.\n",
            "Cause: module, class, method, function, traceback, frame, or code object was expected, got cython_function_or_method\n",
            "To silence this warning, decorate the function with @tf.autograph.experimental.do_not_convert\n"
          ],
          "name": "stderr"
        },
        {
          "output_type": "stream",
          "text": [
            "WARNING: AutoGraph could not transform <bound method Socket.send of <zmq.sugar.socket.Socket object at 0x7f81d8543d00>> and will run it as-is.\n",
            "Please report this to the TensorFlow team. When filing the bug, set the verbosity to 10 (on Linux, `export AUTOGRAPH_VERBOSITY=10`) and attach the full output.\n",
            "Cause: module, class, method, function, traceback, frame, or code object was expected, got cython_function_or_method\n",
            "To silence this warning, decorate the function with @tf.autograph.experimental.do_not_convert\n",
            "WARNING:tensorflow:AutoGraph could not transform <function wrap at 0x7f8203df0d40> and will run it as-is.\n",
            "Cause: while/else statement not yet supported\n",
            "To silence this warning, decorate the function with @tf.autograph.experimental.do_not_convert\n"
          ],
          "name": "stdout"
        },
        {
          "output_type": "stream",
          "text": [
            "2021-05-10 01:45:05 tensorflow WARNING: The parameters `output_attentions`, `output_hidden_states` and `use_cache` cannot be updated when calling a model.They have to be set to True/False in the config object (i.e.: `config=XConfig.from_pretrained('name', output_attentions=True)`).\n",
            "2021-05-10 01:45:07 tensorflow WARNING: AutoGraph could not transform <function wrap at 0x7f8203df0d40> and will run it as-is.\n",
            "Cause: while/else statement not yet supported\n",
            "To silence this warning, decorate the function with @tf.autograph.experimental.do_not_convert\n"
          ],
          "name": "stderr"
        },
        {
          "output_type": "stream",
          "text": [
            "WARNING:tensorflow:The parameter `return_dict` cannot be set in graph mode and will always be set to `True`.\n",
            "WARNING: AutoGraph could not transform <function wrap at 0x7f8203df0d40> and will run it as-is.\n",
            "Cause: while/else statement not yet supported\n",
            "To silence this warning, decorate the function with @tf.autograph.experimental.do_not_convert\n"
          ],
          "name": "stdout"
        },
        {
          "output_type": "stream",
          "text": [
            "2021-05-10 01:45:26 tensorflow WARNING: The parameter `return_dict` cannot be set in graph mode and will always be set to `True`.\n"
          ],
          "name": "stderr"
        },
        {
          "output_type": "stream",
          "text": [
            "WARNING:tensorflow:The parameters `output_attentions`, `output_hidden_states` and `use_cache` cannot be updated when calling a model.They have to be set to True/False in the config object (i.e.: `config=XConfig.from_pretrained('name', output_attentions=True)`).\n"
          ],
          "name": "stdout"
        },
        {
          "output_type": "stream",
          "text": [
            "2021-05-10 01:45:53 tensorflow WARNING: The parameters `output_attentions`, `output_hidden_states` and `use_cache` cannot be updated when calling a model.They have to be set to True/False in the config object (i.e.: `config=XConfig.from_pretrained('name', output_attentions=True)`).\n"
          ],
          "name": "stderr"
        },
        {
          "output_type": "stream",
          "text": [
            "WARNING:tensorflow:The parameter `return_dict` cannot be set in graph mode and will always be set to `True`.\n"
          ],
          "name": "stdout"
        },
        {
          "output_type": "stream",
          "text": [
            "2021-05-10 01:45:53 tensorflow WARNING: The parameter `return_dict` cannot be set in graph mode and will always be set to `True`.\n"
          ],
          "name": "stderr"
        },
        {
          "output_type": "stream",
          "text": [
            "1349/1349 [==============================] - ETA: 0s - loss: 0.2460 - accuracy: 0.9364WARNING:tensorflow:The parameters `output_attentions`, `output_hidden_states` and `use_cache` cannot be updated when calling a model.They have to be set to True/False in the config object (i.e.: `config=XConfig.from_pretrained('name', output_attentions=True)`).\n"
          ],
          "name": "stdout"
        },
        {
          "output_type": "stream",
          "text": [
            "2021-05-10 01:50:30 tensorflow WARNING: The parameters `output_attentions`, `output_hidden_states` and `use_cache` cannot be updated when calling a model.They have to be set to True/False in the config object (i.e.: `config=XConfig.from_pretrained('name', output_attentions=True)`).\n"
          ],
          "name": "stderr"
        },
        {
          "output_type": "stream",
          "text": [
            "WARNING:tensorflow:The parameter `return_dict` cannot be set in graph mode and will always be set to `True`.\n"
          ],
          "name": "stdout"
        },
        {
          "output_type": "stream",
          "text": [
            "2021-05-10 01:50:30 tensorflow WARNING: The parameter `return_dict` cannot be set in graph mode and will always be set to `True`.\n"
          ],
          "name": "stderr"
        },
        {
          "output_type": "stream",
          "text": [
            "\b\b\b\b\b\b\b\b\b\b\b\b\b\b\b\b\b\b\b\b\b\b\b\b\b\b\b\b\b\b\b\b\b\b\b\b\b\b\b\b\b\b\b\b\b\b\b\b\b\b\b\b\b\b\b\b\b\b\b\b\b\b\b\b\b\b\b\b\b\b\b\b\b\b\b\b\b\b\b\b\b\b\b\b\b\b\r1349/1349 [==============================] - 341s 210ms/step - loss: 0.2460 - accuracy: 0.9364 - val_loss: 0.0700 - val_accuracy: 0.9785\n",
            "Epoch 2/20\n",
            "1349/1349 [==============================] - 282s 209ms/step - loss: 0.0622 - accuracy: 0.9808 - val_loss: 0.0657 - val_accuracy: 0.9798\n",
            "Epoch 3/20\n",
            "1349/1349 [==============================] - 283s 210ms/step - loss: 0.0463 - accuracy: 0.9849 - val_loss: 0.0633 - val_accuracy: 0.9808\n",
            "Epoch 4/20\n",
            "1349/1349 [==============================] - 283s 210ms/step - loss: 0.0344 - accuracy: 0.9886 - val_loss: 0.0664 - val_accuracy: 0.9808\n",
            "Epoch 5/20\n",
            "1349/1349 [==============================] - 283s 210ms/step - loss: 0.0262 - accuracy: 0.9912 - val_loss: 0.0791 - val_accuracy: 0.9803\n",
            "Epoch 6/20\n",
            "1349/1349 [==============================] - 281s 208ms/step - loss: 0.0206 - accuracy: 0.9931 - val_loss: 0.0770 - val_accuracy: 0.9807\n",
            "Training execution time (mins) 29.19539568424225\n"
          ],
          "name": "stdout"
        }
      ]
    },
    {
      "cell_type": "markdown",
      "metadata": {
        "id": "TyGTBfTX82sW"
      },
      "source": [
        "## Examine Performance"
      ]
    },
    {
      "cell_type": "code",
      "metadata": {
        "colab": {
          "base_uri": "https://localhost:8080/"
        },
        "id": "wPkLAxpCkTrd",
        "outputId": "e988dc11-c243-422d-84c5-b80aed28f194"
      },
      "source": [
        "bert_logit = bert.predict(val_data)\n",
        "bert_pred_flat = bert_logit[0].argmax(axis=2).flatten()"
      ],
      "execution_count": null,
      "outputs": [
        {
          "output_type": "stream",
          "text": [
            "WARNING:tensorflow:The parameters `output_attentions`, `output_hidden_states` and `use_cache` cannot be updated when calling a model.They have to be set to True/False in the config object (i.e.: `config=XConfig.from_pretrained('name', output_attentions=True)`).\n"
          ],
          "name": "stdout"
        },
        {
          "output_type": "stream",
          "text": [
            "2021-05-10 02:14:15 tensorflow WARNING: The parameters `output_attentions`, `output_hidden_states` and `use_cache` cannot be updated when calling a model.They have to be set to True/False in the config object (i.e.: `config=XConfig.from_pretrained('name', output_attentions=True)`).\n"
          ],
          "name": "stderr"
        },
        {
          "output_type": "stream",
          "text": [
            "WARNING:tensorflow:The parameter `return_dict` cannot be set in graph mode and will always be set to `True`.\n"
          ],
          "name": "stdout"
        },
        {
          "output_type": "stream",
          "text": [
            "2021-05-10 02:14:15 tensorflow WARNING: The parameter `return_dict` cannot be set in graph mode and will always be set to `True`.\n"
          ],
          "name": "stderr"
        }
      ]
    },
    {
      "cell_type": "code",
      "metadata": {
        "colab": {
          "base_uri": "https://localhost:8080/"
        },
        "id": "E4SRCQzRlYr4",
        "outputId": "b8e47423-96ce-4e9d-cb00-cf6aad236e2a"
      },
      "source": [
        "f1_bert = f1_score(te_tags.numpy().flatten(), bert_pred_flat, average = None)\n",
        "print(pd.DataFrame(f1_bert, index = tags))\n",
        "print('Mean F1 across classes: ',np.mean(f1_bert))"
      ],
      "execution_count": null,
      "outputs": [
        {
          "output_type": "stream",
          "text": [
            "              0\n",
            "B-art  0.172840\n",
            "B-eve  0.405797\n",
            "B-geo  0.886608\n",
            "B-gpe  0.945030\n",
            "B-nat  0.378378\n",
            "B-org  0.774257\n",
            "B-per  0.850226\n",
            "B-tim  0.873401\n",
            "I-art  0.032258\n",
            "I-eve  0.394366\n",
            "I-geo  0.802319\n",
            "I-gpe  0.702703\n",
            "I-nat  0.545455\n",
            "I-org  0.773995\n",
            "I-per  0.879493\n",
            "I-tim  0.786207\n",
            "O      0.990377\n",
            "PAD    1.000000\n",
            "Mean F1 across classes:  0.6774283155062776\n"
          ],
          "name": "stdout"
        }
      ]
    },
    {
      "cell_type": "markdown",
      "metadata": {
        "id": "o4YyTqSto5Ux"
      },
      "source": [
        "### Entity Level F-1 for BERT"
      ]
    },
    {
      "cell_type": "code",
      "metadata": {
        "id": "GffNIhrYpA7S"
      },
      "source": [
        "bert_pred = bert_logit[0].argmax(axis=2)"
      ],
      "execution_count": null,
      "outputs": []
    },
    {
      "cell_type": "code",
      "metadata": {
        "id": "tigVlw10rNUs"
      },
      "source": [
        "bert_pred_tag = []\n",
        "y_true_tag = []\n",
        "y_true_te = te_tags.numpy()\n",
        "\n",
        "for i in range(len(bert_pred)):\n",
        "  bert_pred_tag.append(list(map(idx2tag.get, bert_pred[i])))\n",
        "  y_true_tag.append(list(map(idx2tag.get, y_true_te[i])))"
      ],
      "execution_count": null,
      "outputs": []
    },
    {
      "cell_type": "code",
      "metadata": {
        "id": "HQEZyp1ts-06"
      },
      "source": [
        "entity_tag = ['art', 'eve', 'geo', 'gpe', 'nat', 'org', 'per', 'tim']"
      ],
      "execution_count": null,
      "outputs": []
    },
    {
      "cell_type": "code",
      "metadata": {
        "id": "xYWJTJ0ypkzm"
      },
      "source": [
        "from copy import deepcopy\n",
        "\n",
        "metrics_results = {'correct': 0, 'incorrect': 0, 'partial': 0,\n",
        "                   'missed': 0, 'spurious': 0, 'possible': 0, 'actual': 0, 'precision': 0,'recall': 0,}\n",
        "\n",
        "# overall results\n",
        "results = {'strict': deepcopy(metrics_results),\n",
        "           'ent_type': deepcopy(metrics_results),\n",
        "           \n",
        "           }\n",
        "\n",
        "# results aggregated by entity type\n",
        "evaluation_agg_entities_type = {e: deepcopy(results) for e in entity_tag}\n",
        "\n",
        "for true_ents, pred_ents in zip(y_true_tag, bert_pred_tag):    \n",
        "    # compute results for one message\n",
        "    tmp_results, tmp_agg_results = compute_metrics(collect_named_entities(true_ents),collect_named_entities(pred_ents), entity_tag)\n",
        "\n",
        "    # aggregate overall results\n",
        "    for eval_schema in results.keys():\n",
        "        for metric in metrics_results.keys():\n",
        "            results[eval_schema][metric] += tmp_results[eval_schema][metric]\n",
        "\n",
        "\n",
        "    # aggregate results by entity type\n",
        "    for e_type in entity_tag:\n",
        "        for eval_schema in evaluation_agg_entities_type[e_type]:\n",
        "            for metric in tmp_agg_results[e_type][eval_schema]:\n",
        "                evaluation_agg_entities_type[e_type][eval_schema][metric] += tmp_agg_results[e_type][eval_schema][metric]"
      ],
      "execution_count": null,
      "outputs": []
    },
    {
      "cell_type": "code",
      "metadata": {
        "colab": {
          "base_uri": "https://localhost:8080/"
        },
        "id": "prxCAgactuc0",
        "outputId": "b35d150d-2831-4d7b-f783-e27dbfa587bb"
      },
      "source": [
        "f1_bert_entity = make_precision_recall(evaluation_agg_entities_type,'strict')\n",
        "f1_bert_entity"
      ],
      "execution_count": null,
      "outputs": [
        {
          "output_type": "execute_result",
          "data": {
            "text/plain": [
              "{'art': {'f1': 0.018617021276595744,\n",
              "  'precision': 0.009915014164305949,\n",
              "  'recall': 0.15217391304347827},\n",
              " 'eve': {'f1': 0.01673640167364017,\n",
              "  'precision': 0.008626887131560028,\n",
              "  'recall': 0.27906976744186046},\n",
              " 'geo': {'f1': 0.8274886456704639,\n",
              "  'precision': 0.7624862788144896,\n",
              "  'recall': 0.9046068696076836},\n",
              " 'gpe': {'f1': 0.6748116473223376,\n",
              "  'precision': 0.5300703774792066,\n",
              "  'recall': 0.9282913165266107},\n",
              " 'nat': {'f1': 0.011444921316165951,\n",
              "  'precision': 0.005822416302765648,\n",
              "  'recall': 0.3333333333333333},\n",
              " 'org': {'f1': 0.6314289107970068,\n",
              "  'precision': 0.5596967782691092,\n",
              "  'recall': 0.7242506811989101},\n",
              " 'per': {'f1': 0.6916384014157204,\n",
              "  'precision': 0.5872777360380667,\n",
              "  'recall': 0.8411047345767575},\n",
              " 'tim': {'f1': 0.6894952737649367,\n",
              "  'precision': 0.5720627404557561,\n",
              "  'recall': 0.8675942549371634}}"
            ]
          },
          "metadata": {
            "tags": []
          },
          "execution_count": 60
        }
      ]
    },
    {
      "cell_type": "markdown",
      "metadata": {
        "id": "9ygAmB2Scs3L"
      },
      "source": [
        "# BERT with Static Embedding"
      ]
    },
    {
      "cell_type": "markdown",
      "metadata": {
        "id": "UY3sfHP2-iN6"
      },
      "source": [
        "## BERT with Static Embedding Pre-Processing and Tokenize"
      ]
    },
    {
      "cell_type": "code",
      "metadata": {
        "colab": {
          "base_uri": "https://localhost:8080/"
        },
        "id": "1swEDB1jaitr",
        "outputId": "84f00b3f-0957-4d3e-dfff-4233f5813bf7"
      },
      "source": [
        "tokenizer = BertTokenizer.from_pretrained('bert-base-cased', do_lower_case=False)"
      ],
      "execution_count": null,
      "outputs": [
        {
          "output_type": "stream",
          "text": [
            "2021-05-10 02:20:39 urllib3.connectionpool DEBUG: Starting new HTTPS connection (1): huggingface.co:443\n",
            "2021-05-10 02:20:39 urllib3.connectionpool DEBUG: https://huggingface.co:443 \"HEAD /bert-base-cased/resolve/main/vocab.txt HTTP/1.1\" 200 0\n",
            "2021-05-10 02:20:39 urllib3.connectionpool DEBUG: Starting new HTTPS connection (1): huggingface.co:443\n",
            "2021-05-10 02:20:39 urllib3.connectionpool DEBUG: https://huggingface.co:443 \"HEAD /bert-base-cased/resolve/main/added_tokens.json HTTP/1.1\" 404 0\n",
            "2021-05-10 02:20:39 urllib3.connectionpool DEBUG: Starting new HTTPS connection (1): huggingface.co:443\n",
            "2021-05-10 02:20:40 urllib3.connectionpool DEBUG: https://huggingface.co:443 \"HEAD /bert-base-cased/resolve/main/special_tokens_map.json HTTP/1.1\" 404 0\n",
            "2021-05-10 02:20:40 urllib3.connectionpool DEBUG: Starting new HTTPS connection (1): huggingface.co:443\n",
            "2021-05-10 02:20:40 urllib3.connectionpool DEBUG: https://huggingface.co:443 \"HEAD /bert-base-cased/resolve/main/tokenizer_config.json HTTP/1.1\" 200 0\n",
            "2021-05-10 02:20:40 urllib3.connectionpool DEBUG: Starting new HTTPS connection (1): huggingface.co:443\n",
            "2021-05-10 02:20:40 urllib3.connectionpool DEBUG: https://huggingface.co:443 \"HEAD /bert-base-cased/resolve/main/tokenizer.json HTTP/1.1\" 200 0\n"
          ],
          "name": "stderr"
        }
      ]
    },
    {
      "cell_type": "code",
      "metadata": {
        "id": "x3sVdoGAad9x"
      },
      "source": [
        "def tokenize_and_preserve_labels_embed(sentence, text_labels):\n",
        "    tokenized_sentence = []\n",
        "    extended_words = []\n",
        "    labels = []\n",
        "\n",
        "    for word, label in zip(sentence, text_labels):\n",
        "\n",
        "        # Tokenize the word and count # of subwords the word is broken into\n",
        "        tokenized_word = tokenizer.tokenize(word)\n",
        "        n_subwords = len(tokenized_word)\n",
        "\n",
        "        # Add the tokenized word to the final tokenized word list\n",
        "        tokenized_sentence.extend(tokenized_word)\n",
        "\n",
        "        # Add the extended word to the corresponding word list\n",
        "        extended_words.extend([word.lower()] * n_subwords)\n",
        "\n",
        "        # Add the same label to the new list of labels `n_subwords` times\n",
        "        labels.extend([label] * n_subwords)\n",
        "\n",
        "    return tokenized_sentence, extended_words, labels"
      ],
      "execution_count": null,
      "outputs": []
    },
    {
      "cell_type": "code",
      "metadata": {
        "id": "kIYDR5MxaobT"
      },
      "source": [
        "tokenized_texts_and_labels_tr_embed = [\n",
        "    tokenize_and_preserve_labels_embed(sent, labs)\n",
        "    for sent, labs in zip(sent_tr, tag_tr)\n",
        "]\n",
        "\n",
        "tokenized_texts_and_labels_te_embed = [\n",
        "    tokenize_and_preserve_labels_embed(sent, labs)\n",
        "    for sent, labs in zip(sent_te, tag_te)\n",
        "]"
      ],
      "execution_count": null,
      "outputs": []
    },
    {
      "cell_type": "code",
      "metadata": {
        "id": "2cy7bI6QaobV"
      },
      "source": [
        "tokenized_texts_tr_embed = [token_label_pair[0] for token_label_pair in tokenized_texts_and_labels_tr_embed]\n",
        "extended_words_tr_embed = [token_label_pair[1] for token_label_pair in tokenized_texts_and_labels_tr_embed]\n",
        "labels_tr_embed = [token_label_pair[2] for token_label_pair in tokenized_texts_and_labels_tr_embed]\n",
        "\n",
        "tokenized_texts_te_embed = [token_label_pair[0] for token_label_pair in tokenized_texts_and_labels_te_embed]\n",
        "extended_words_te_embed = [token_label_pair[1] for token_label_pair in tokenized_texts_and_labels_te_embed]\n",
        "labels_te_embed = [token_label_pair[2] for token_label_pair in tokenized_texts_and_labels_te_embed]"
      ],
      "execution_count": null,
      "outputs": []
    },
    {
      "cell_type": "code",
      "metadata": {
        "id": "WhfqEg7TaobV"
      },
      "source": [
        "tr_inputs_embed = pad_sequences([tokenizer.convert_tokens_to_ids(txt) for txt in tokenized_texts_tr],\n",
        "                          maxlen=max_length, dtype=\"long\", value=word2idx['ENDPAD'],\n",
        "                          truncating=\"post\", padding=\"post\")\n",
        "\n",
        "te_inputs_embed = pad_sequences([tokenizer.convert_tokens_to_ids(txt) for txt in tokenized_texts_te],\n",
        "                          maxlen=max_length, dtype=\"long\", value=word2idx['ENDPAD'],\n",
        "                          truncating=\"post\", padding=\"post\")"
      ],
      "execution_count": null,
      "outputs": []
    },
    {
      "cell_type": "code",
      "metadata": {
        "id": "khS1r6oMaobW"
      },
      "source": [
        "tr_tags_embed = pad_sequences([[tag2idx.get(l) for l in lab] for lab in labels_tr],\n",
        "                     maxlen=max_length, value=tag2idx[\"PAD\"], padding=\"post\",\n",
        "                     dtype=\"long\", truncating=\"post\")\n",
        "\n",
        "te_tags_embed = pad_sequences([[tag2idx.get(l) for l in lab] for lab in labels_te],\n",
        "                     maxlen=max_length, value=tag2idx[\"PAD\"], padding=\"post\",\n",
        "                     dtype=\"long\", truncating=\"post\")"
      ],
      "execution_count": null,
      "outputs": []
    },
    {
      "cell_type": "code",
      "metadata": {
        "id": "05HjuI5cas02"
      },
      "source": [
        "tr_masks_embed = [[float(i != word2idx['ENDPAD']) for i in ii] for ii in tr_inputs_embed]\n",
        "\n",
        "te_masks_embed = [[float(i != word2idx['ENDPAD']) for i in ii] for ii in te_inputs_embed]"
      ],
      "execution_count": null,
      "outputs": []
    },
    {
      "cell_type": "code",
      "metadata": {
        "id": "J9E5r9dFas03"
      },
      "source": [
        "tr_inputs_embed = tf.convert_to_tensor(tr_inputs_embed)\n",
        "te_inputs_embed = tf.convert_to_tensor(te_inputs_embed)\n",
        "tr_tags_embed = tf.convert_to_tensor(tr_tags_embed)\n",
        "te_tags_embed = tf.convert_to_tensor(te_tags_embed)\n",
        "tr_masks_embed = tf.convert_to_tensor(tr_masks_embed)\n",
        "te_masks_embed = tf.convert_to_tensor(te_masks_embed)"
      ],
      "execution_count": null,
      "outputs": []
    },
    {
      "cell_type": "code",
      "metadata": {
        "id": "_R5fd76Tfjbj"
      },
      "source": [
        "vocab_tr = [w for s in extended_words_tr_embed for w in s]\n",
        "vocab_te = [w for s in extended_words_te_embed for w in s]\n",
        "vocab = sorted(list(set(vocab_tr + vocab_te)))\n",
        "vocab.append('ENDPAD')\n",
        "vocab_size = len(vocab)\n",
        "\n",
        "# Create two dictionaries word:word_idx and word_idx:word\n",
        "word2idx_lower = {value: count for count, value in enumerate(vocab)}\n",
        "idx2word_lower = {count: value for value, count in word2idx_lower.items()}"
      ],
      "execution_count": null,
      "outputs": []
    },
    {
      "cell_type": "code",
      "metadata": {
        "id": "FodtYirXpnRz"
      },
      "source": [
        "# create list of list where each inner list is the list of word indices for each sentences\n",
        "# create list of list where each inner list is the list of tag indices for each sentences\n",
        "X_tr_lower = []\n",
        "# y_tr = []\n",
        "for i in range(len(extended_words_tr_embed)):\n",
        "    X_tr_lower.append(list(map(word2idx_lower.get, extended_words_tr_embed[i])))\n",
        "\n",
        "X_te_lower = []\n",
        "for i in range(len(extended_words_te_embed)):\n",
        "    X_te_lower.append(list(map(word2idx_lower.get, extended_words_te_embed[i])))"
      ],
      "execution_count": null,
      "outputs": []
    },
    {
      "cell_type": "code",
      "metadata": {
        "id": "xBia1-o_qmGJ"
      },
      "source": [
        "# pad both our X and y \n",
        "X_tr_pad_lower = pad_sequences(sequences = X_tr_lower, maxlen = max_length, truncating=\"post\", padding = 'post', value = word2idx_lower['ENDPAD'])\n",
        "X_te_pad_lower = pad_sequences(sequences = X_te_lower, maxlen = max_length, truncating=\"post\", padding = 'post', value = word2idx_lower['ENDPAD'])"
      ],
      "execution_count": null,
      "outputs": []
    },
    {
      "cell_type": "code",
      "metadata": {
        "id": "kGnGeEyYstPp"
      },
      "source": [
        "X_tr_lower_tf = tf.convert_to_tensor(X_tr_pad_lower)\n",
        "X_te_lower_tf = tf.convert_to_tensor(X_te_pad_lower)"
      ],
      "execution_count": null,
      "outputs": []
    },
    {
      "cell_type": "code",
      "metadata": {
        "id": "_-Yv_K7CtAfz"
      },
      "source": [
        "train_data_embed = tf.data.Dataset.from_tensor_slices(((X_tr_lower_tf, \n",
        "                                                        tr_inputs_embed,\n",
        "                                                        tr_masks_embed), \n",
        "                                                       tr_tags_embed))\n",
        "\n",
        "val_data_embed = tf.data.Dataset.from_tensor_slices(((X_te_lower_tf, \n",
        "                                                      te_inputs_embed,\n",
        "                                                      te_masks_embed),\n",
        "                                                     te_tags_embed))"
      ],
      "execution_count": null,
      "outputs": []
    },
    {
      "cell_type": "code",
      "metadata": {
        "colab": {
          "base_uri": "https://localhost:8080/"
        },
        "id": "ptf5t-ZrvGZ8",
        "outputId": "a2c5bc91-0c83-409d-8a79-f95e8dde515d"
      },
      "source": [
        "BATCH_SIZE = 32\n",
        "TRAIN_SHUFFLE_BUFFER_SIZE = len(X_tr_pad_lower)\n",
        "VAL_SHUFFLE_BUFFER_SIZE = len(te_tags)\n",
        "PREFETCH_BUFFER_SIZE = 100\n",
        "\n",
        "# Transfer training data\n",
        "train_data_embed = train_data_embed.shuffle(buffer_size=TRAIN_SHUFFLE_BUFFER_SIZE)\n",
        "train_data_embed = train_data_embed.batch(batch_size=BATCH_SIZE)\n",
        "train_data_embed = train_data_embed.prefetch(buffer_size=PREFETCH_BUFFER_SIZE)\n",
        "\n",
        "# Transfer validation data\n",
        "val_data_embed = val_data_embed.batch(batch_size=BATCH_SIZE)\n",
        "val_data_embed = val_data_embed.prefetch(buffer_size=PREFETCH_BUFFER_SIZE)\n",
        "\n",
        "print('train_data: ', train_data_embed)\n",
        "print('val_data: ', val_data_embed)"
      ],
      "execution_count": null,
      "outputs": [
        {
          "output_type": "stream",
          "text": [
            "train_data:  <PrefetchDataset shapes: (((None, 50), (None, 50), (None, 50)), (None, 50)), types: ((tf.int32, tf.int64, tf.float32), tf.int64)>\n",
            "val_data:  <PrefetchDataset shapes: (((None, 50), (None, 50), (None, 50)), (None, 50)), types: ((tf.int32, tf.int64, tf.float32), tf.int64)>\n"
          ],
          "name": "stdout"
        }
      ]
    },
    {
      "cell_type": "markdown",
      "metadata": {
        "id": "ps__PLxT-rhH"
      },
      "source": [
        "## Loading Pre-trained GloVe Embedding"
      ]
    },
    {
      "cell_type": "code",
      "metadata": {
        "id": "_OmJvod9cxoD"
      },
      "source": [
        "# !wget http://nlp.stanford.edu/data/glove.6B.zip\n",
        "# !unzip -q glove.6B.zip"
      ],
      "execution_count": null,
      "outputs": []
    },
    {
      "cell_type": "code",
      "metadata": {
        "colab": {
          "base_uri": "https://localhost:8080/"
        },
        "id": "uW8m3Cisfs9R",
        "outputId": "62241801-8319-4166-f6d4-d3b58af460ed"
      },
      "source": [
        "path_to_glove_file = \"./glove.6B.100d.txt\"\n",
        "\n",
        "embeddings_index = {}\n",
        "with open(path_to_glove_file) as f:\n",
        "    for line in f:\n",
        "        word, coefs = line.split(maxsplit=1)\n",
        "        coefs = np.fromstring(coefs, \"f\", sep=\" \")\n",
        "        embeddings_index[word] = coefs\n",
        "\n",
        "print(\"Found %s word vectors.\" % len(embeddings_index))"
      ],
      "execution_count": null,
      "outputs": [
        {
          "output_type": "stream",
          "text": [
            "Found 400000 word vectors.\n"
          ],
          "name": "stdout"
        }
      ]
    },
    {
      "cell_type": "code",
      "metadata": {
        "colab": {
          "base_uri": "https://localhost:8080/"
        },
        "id": "ZFXZtMLUr9eI",
        "outputId": "7947ccf6-b057-4de1-ba21-11f71f7a58a2"
      },
      "source": [
        "num_tokens = vocab_size\n",
        "embedding_dim = 100\n",
        "hits = 0\n",
        "misses = 0\n",
        "\n",
        "# Prepare embedding matrix\n",
        "embedding_matrix = np.zeros((num_tokens, embedding_dim))\n",
        "for word, i in word2idx_lower.items():\n",
        "    embedding_vector = embeddings_index.get(word)\n",
        "    if embedding_vector is not None:\n",
        "        # Words not found in embedding index will be all-zeros.\n",
        "        # This includes the representation for \"padding\" and \"OOV\"\n",
        "        embedding_matrix[i] = embedding_vector\n",
        "        hits += 1\n",
        "    else:\n",
        "        misses += 1\n",
        "print(\"Converted %d words (%d misses)\" % (hits, misses))"
      ],
      "execution_count": null,
      "outputs": [
        {
          "output_type": "stream",
          "text": [
            "Converted 28807 words (3011 misses)\n"
          ],
          "name": "stdout"
        }
      ]
    },
    {
      "cell_type": "markdown",
      "metadata": {
        "id": "KYGXb0ZC-5OF"
      },
      "source": [
        "## Model Construction and Training"
      ]
    },
    {
      "cell_type": "code",
      "metadata": {
        "id": "5t6uCGdEMgDh"
      },
      "source": [
        "max_length = 50"
      ],
      "execution_count": null,
      "outputs": []
    },
    {
      "cell_type": "code",
      "metadata": {
        "id": "rAwL3r8-OUYO"
      },
      "source": [
        "import keras\n",
        "from tensorflow.keras.layers import Input, Embedding, Dense, \\\n",
        "                            TimeDistributed, LSTM, Dropout, Bidirectional, \\\n",
        "                            Conv1D, BatchNormalization, GlobalMaxPooling1D, \\\n",
        "                            Concatenate, Flatten"
      ],
      "execution_count": null,
      "outputs": []
    },
    {
      "cell_type": "code",
      "metadata": {
        "id": "zKxkHP7B21XC"
      },
      "source": [
        "def combined_model():\n",
        "    embed_model = Sequential()\n",
        "    embed_model.add(Embedding(vocab_size, embedding_dim, input_length = 50, \n",
        "                             embeddings_initializer=keras.initializers.Constant(embedding_matrix), \n",
        "                             trainable=False, \n",
        "                             name = \"embedding\"))\n",
        "    embed_model.add(Conv1D(128, 5, padding='same', activation=\"relu\"))\n",
        "    \n",
        "    embed_input = Input(shape = (max_length, ), name = 'embed_input')\n",
        "    embed_output = embed_model(embed_input)\n",
        "    \n",
        "    input_ids = Input(shape = (max_length,), dtype='int64', name = 'id_input')\n",
        "    token_type_ids = Input(shape = (max_length,), dtype='int64', name = 'token_input')\n",
        "    \n",
        "    bert_embed = bert.layers[0]\n",
        "    bert_embed.trainable = False\n",
        "    bert_output = bert_embed([input_ids, token_type_ids]).last_hidden_state\n",
        "\n",
        "    concat = Concatenate()([embed_output, bert_output])\n",
        "    concat = Dense(768, activation='relu', name = 'merge_dense2')(concat)\n",
        "    concat = Dropout(0.2, name = 'merge_dropout2')(concat)\n",
        "    final_model_output = bert.layers[2](concat)\n",
        "    final_model = Model(inputs=[embed_input, input_ids, token_type_ids], outputs=final_model_output)\n",
        "    return final_model\n"
      ],
      "execution_count": null,
      "outputs": []
    },
    {
      "cell_type": "code",
      "metadata": {
        "id": "WBqFkPr5OyzO"
      },
      "source": [
        "bert_with_embed = combined_model()"
      ],
      "execution_count": null,
      "outputs": []
    },
    {
      "cell_type": "code",
      "metadata": {
        "colab": {
          "base_uri": "https://localhost:8080/"
        },
        "id": "sk0CRT17f9qk",
        "outputId": "d7df7ce4-9b93-4037-d05b-a2483cae929e"
      },
      "source": [
        "bert_with_embed.summary()"
      ],
      "execution_count": null,
      "outputs": [
        {
          "output_type": "stream",
          "text": [
            "Model: \"model\"\n",
            "__________________________________________________________________________________________________\n",
            "Layer (type)                    Output Shape         Param #     Connected to                     \n",
            "==================================================================================================\n",
            "embed_input (InputLayer)        [(None, 50)]         0                                            \n",
            "__________________________________________________________________________________________________\n",
            "id_input (InputLayer)           [(None, 50)]         0                                            \n",
            "__________________________________________________________________________________________________\n",
            "token_input (InputLayer)        [(None, 50)]         0                                            \n",
            "__________________________________________________________________________________________________\n",
            "sequential_1 (Sequential)       (None, 50, 128)      3245928     embed_input[0][0]                \n",
            "__________________________________________________________________________________________________\n",
            "bert (TFBertMainLayer)          TFBaseModelOutputWit 107719680   id_input[0][0]                   \n",
            "                                                                 token_input[0][0]                \n",
            "__________________________________________________________________________________________________\n",
            "concatenate (Concatenate)       (None, 50, 896)      0           sequential_1[0][0]               \n",
            "                                                                 bert[0][0]                       \n",
            "__________________________________________________________________________________________________\n",
            "merge_dense2 (Dense)            (None, 50, 768)      688896      concatenate[0][0]                \n",
            "__________________________________________________________________________________________________\n",
            "merge_dropout2 (Dropout)        (None, 50, 768)      0           merge_dense2[0][0]               \n",
            "__________________________________________________________________________________________________\n",
            "classifier (Dense)              (None, 50, 18)       13842       merge_dropout2[0][0]             \n",
            "==================================================================================================\n",
            "Total params: 111,668,346\n",
            "Trainable params: 766,866\n",
            "Non-trainable params: 110,901,480\n",
            "__________________________________________________________________________________________________\n"
          ],
          "name": "stdout"
        }
      ]
    },
    {
      "cell_type": "code",
      "metadata": {
        "colab": {
          "base_uri": "https://localhost:8080/",
          "height": 319
        },
        "id": "Fzyuj8jVmXGt",
        "outputId": "6a96cc59-d8bd-4473-823d-f8cc6ceef678"
      },
      "source": [
        "from keras.utils import plot_model\n",
        "plot_model(bert_with_embed, show_shapes=True)"
      ],
      "execution_count": null,
      "outputs": [
        {
          "output_type": "execute_result",
          "data": {
            "image/png": "[encoded data removed]",
            "text/plain": [
              "<IPython.core.display.Image object>"
            ]
          },
          "metadata": {
            "tags": []
          },
          "execution_count": 89
        }
      ]
    },
    {
      "cell_type": "code",
      "metadata": {
        "id": "r0T7eSwhf1yw"
      },
      "source": [
        "import keras\n",
        "epochs = 10\n",
        "optimizer = keras.optimizers.Adam(lr=3e-5)\n",
        "# Loss\n",
        "loss = keras.losses.SparseCategoricalCrossentropy(from_logits=True)\n",
        "\n",
        "# Compile\n",
        "bert_with_embed.compile(loss=loss,\n",
        "                  optimizer=optimizer,\n",
        "                  metrics=['accuracy'])\n",
        "\n",
        "# Callbacks\n",
        "# Learning Rate Scheduler: Change learning rates during training epochs\n",
        "def scheduler(epoch, lr):\n",
        "  if epoch < 1:\n",
        "    return lr\n",
        "  else:\n",
        "    return lr * 0.5\n",
        "lr_scheduler = tf.keras.callbacks.LearningRateScheduler(scheduler)\n",
        "# Early Stopping: Stop training when a monitored metric has stopped improving\n",
        "early_stopping = tf.keras.callbacks.EarlyStopping(\n",
        "    monitor='val_loss', min_delta=0, patience=3, verbose=0, mode='auto'\n",
        ")\n",
        "callbacks = [lr_scheduler,early_stopping]\n",
        "\n"
      ],
      "execution_count": null,
      "outputs": []
    },
    {
      "cell_type": "code",
      "metadata": {
        "colab": {
          "base_uri": "https://localhost:8080/"
        },
        "id": "I0gJMZPRf1y-",
        "outputId": "134b91c4-b0ac-4677-d7f2-d158ee3b8495"
      },
      "source": [
        "import time\n",
        "start_time = time.time()\n",
        "training_results = bert_with_embed.fit(\n",
        "        train_data_embed,\n",
        "        validation_data=val_data_embed,\n",
        "        epochs=epochs, \n",
        "        callbacks=callbacks,\n",
        "        verbose=1)\n",
        "execution_time = (time.time() - start_time)/60.0\n",
        "print(\"Training execution time (mins)\",execution_time)"
      ],
      "execution_count": null,
      "outputs": [
        {
          "output_type": "stream",
          "text": [
            "Epoch 1/10\n",
            "1349/1349 [==============================] - 134s 91ms/step - loss: 0.3277 - accuracy: 0.9391 - val_loss: 0.0765 - val_accuracy: 0.9809\n",
            "Epoch 2/10\n",
            "1349/1349 [==============================] - 120s 89ms/step - loss: 0.0176 - accuracy: 0.9945 - val_loss: 0.0804 - val_accuracy: 0.9810\n",
            "Epoch 3/10\n",
            "1349/1349 [==============================] - 119s 88ms/step - loss: 0.0166 - accuracy: 0.9947 - val_loss: 0.0830 - val_accuracy: 0.9810\n",
            "Epoch 4/10\n",
            "1349/1349 [==============================] - 120s 89ms/step - loss: 0.0155 - accuracy: 0.9950 - val_loss: 0.0838 - val_accuracy: 0.9811\n",
            "Training execution time (mins) 8.21431381702423\n"
          ],
          "name": "stdout"
        }
      ]
    },
    {
      "cell_type": "code",
      "metadata": {
        "id": "ullwexHZmwDK"
      },
      "source": [
        "# save weights\n",
        "model_name = 'BERT_embed'\n",
        "save_path = model_name + '.h5'\n",
        "bert.save_weights(save_path)"
      ],
      "execution_count": null,
      "outputs": []
    },
    {
      "cell_type": "markdown",
      "metadata": {
        "id": "X28-7d5v_A3d"
      },
      "source": [
        "## Examine Performance"
      ]
    },
    {
      "cell_type": "code",
      "metadata": {
        "id": "QVHNAbjymwDL"
      },
      "source": [
        "bert_logit_embed = bert_with_embed.predict(val_data_embed)\n",
        "bert_pred_flat_embed = bert_logit_embed.argmax(axis=2).flatten()"
      ],
      "execution_count": null,
      "outputs": []
    },
    {
      "cell_type": "code",
      "metadata": {
        "colab": {
          "base_uri": "https://localhost:8080/"
        },
        "id": "Z2vKcuUAqxFc",
        "outputId": "e6ffbfaf-42f0-4dfd-8a70-0d4645f78a84"
      },
      "source": [
        "f1_bert_embed = f1_score(te_tags_embed.numpy().flatten(), bert_pred_flat_embed, average = None)\n",
        "embed_df = pd.DataFrame(f1_bert_embed, index = tags)\n",
        "print(embed_df)\n",
        "print('Mean F1 across classes: ',np.mean(embed_df))"
      ],
      "execution_count": null,
      "outputs": [
        {
          "output_type": "stream",
          "text": [
            "              0\n",
            "B-art  0.172185\n",
            "B-eve  0.363636\n",
            "B-geo  0.888427\n",
            "B-gpe  0.945248\n",
            "B-nat  0.258065\n",
            "B-org  0.770255\n",
            "B-per  0.848304\n",
            "B-tim  0.885753\n",
            "I-art  0.000000\n",
            "I-eve  0.393443\n",
            "I-geo  0.797945\n",
            "I-gpe  0.705882\n",
            "I-nat  0.000000\n",
            "I-org  0.773340\n",
            "I-per  0.889193\n",
            "I-tim  0.785208\n",
            "O      0.990730\n",
            "PAD    1.000000\n",
            "Mean F1 across classes:  0    0.63709\n",
            "dtype: float64\n"
          ],
          "name": "stdout"
        }
      ]
    },
    {
      "cell_type": "markdown",
      "metadata": {
        "id": "jKgae_gB1AgE"
      },
      "source": [
        "### Entity Level F-1 for BERT with static embedding"
      ]
    },
    {
      "cell_type": "code",
      "metadata": {
        "id": "XeuOhM-91AgF"
      },
      "source": [
        "bert_pred_embed = bert_logit_embed.argmax(axis=2)"
      ],
      "execution_count": null,
      "outputs": []
    },
    {
      "cell_type": "code",
      "metadata": {
        "id": "8LE0weGw1AgF"
      },
      "source": [
        "bert_pred_tag_embed = []\n",
        "y_true_tag_embed = []\n",
        "y_true_te_embed = te_tags_embed.numpy()\n",
        "\n",
        "for i in range(len(bert_pred_embed)):\n",
        "  bert_pred_tag_embed.append(list(map(idx2tag.get, bert_pred_embed[i])))\n",
        "  y_true_tag_embed.append(list(map(idx2tag.get, y_true_te_embed[i])))"
      ],
      "execution_count": null,
      "outputs": []
    },
    {
      "cell_type": "code",
      "metadata": {
        "id": "rjfTgYKR1AgF"
      },
      "source": [
        "entity_tag = ['art', 'eve', 'geo', 'gpe', 'nat', 'org', 'per', 'tim']"
      ],
      "execution_count": null,
      "outputs": []
    },
    {
      "cell_type": "code",
      "metadata": {
        "id": "TTz2ro_p1AgF"
      },
      "source": [
        "from copy import deepcopy\n",
        "\n",
        "metrics_results_embed = {'correct': 0, 'incorrect': 0, 'partial': 0,\n",
        "                   'missed': 0, 'spurious': 0, 'possible': 0, 'actual': 0, 'precision': 0,'recall': 0,}\n",
        "\n",
        "# overall results\n",
        "results_embed = {'strict': deepcopy(metrics_results_embed),\n",
        "           'ent_type': deepcopy(metrics_results_embed),\n",
        "           \n",
        "           }\n",
        "\n",
        "# results aggregated by entity type\n",
        "evaluation_agg_entities_type_embed = {e: deepcopy(results_embed) for e in entity_tag}\n",
        "\n",
        "for true_ents, pred_ents in zip(y_true_tag_embed, bert_pred_tag_embed):    \n",
        "    # compute results for one message\n",
        "    tmp_results_embed, tmp_agg_results_embed = compute_metrics(collect_named_entities(true_ents),collect_named_entities(pred_ents), entity_tag)\n",
        "\n",
        "    # aggregate overall results\n",
        "    for eval_schema in results_embed.keys():\n",
        "        for metric in metrics_results_embed.keys():\n",
        "            results_embed[eval_schema][metric] += tmp_results_embed[eval_schema][metric]\n",
        "\n",
        "\n",
        "    # aggregate results by entity type\n",
        "    for e_type in entity_tag:\n",
        "        for eval_schema in evaluation_agg_entities_type_embed[e_type]:\n",
        "            for metric in tmp_agg_results_embed[e_type][eval_schema]:\n",
        "                evaluation_agg_entities_type_embed[e_type][eval_schema][metric] += tmp_agg_results_embed[e_type][eval_schema][metric]"
      ],
      "execution_count": null,
      "outputs": []
    },
    {
      "cell_type": "code",
      "metadata": {
        "colab": {
          "base_uri": "https://localhost:8080/"
        },
        "id": "Sg-6HL0B1XQu",
        "outputId": "82eaa363-bae8-4bb2-af75-43d922137e85"
      },
      "source": [
        "f1_bert_entity_embed = make_precision_recall(evaluation_agg_entities_type_embed,'strict')\n",
        "f1_bert_entity_embed"
      ],
      "execution_count": null,
      "outputs": [
        {
          "output_type": "execute_result",
          "data": {
            "text/plain": [
              "{'art': {'f1': 0.01760821716801174,\n",
              "  'precision': 0.00944138473642801,\n",
              "  'recall': 0.13043478260869565},\n",
              " 'eve': {'f1': 0.017054263565891473,\n",
              "  'precision': 0.008821170809943865,\n",
              "  'recall': 0.2558139534883721},\n",
              " 'geo': {'f1': 0.8346883468834689,\n",
              "  'precision': 0.7763618540820614,\n",
              "  'recall': 0.9024906397525639},\n",
              " 'gpe': {'f1': 0.6972553949298136,\n",
              "  'precision': 0.5568942436412316,\n",
              "  'recall': 0.9322128851540616},\n",
              " 'nat': {'f1': 0.004792332268370607,\n",
              "  'precision': 0.0024429967426710096,\n",
              "  'recall': 0.125},\n",
              " 'org': {'f1': 0.6390877107849084,\n",
              "  'precision': 0.5759895036081347,\n",
              "  'recall': 0.7177111716621254},\n",
              " 'per': {'f1': 0.7019827455728772,\n",
              "  'precision': 0.6070680628272251,\n",
              "  'recall': 0.8320775026910656},\n",
              " 'tim': {'f1': 0.7075004584632314,\n",
              "  'precision': 0.598139534883721,\n",
              "  'recall': 0.8657989228007181}}"
            ]
          },
          "metadata": {
            "tags": []
          },
          "execution_count": 99
        }
      ]
    },
    {
      "cell_type": "markdown",
      "metadata": {
        "id": "CqWnYBXk3gin"
      },
      "source": [
        "# Model Comparison\n",
        "\n",
        "Need to rerun lstm, bert, bert with static embedding"
      ]
    },
    {
      "cell_type": "code",
      "metadata": {
        "id": "g6NDW9AM1XQw"
      },
      "source": [
        "f1_word_level = {}\n",
        "\n",
        "# Baseline model\n",
        "f1_word_level['Bi-LSTM'] = f1_lstm\n",
        "f1_word_level['BERT'] = f1_bert\n",
        "f1_word_level['BERT_embed'] = f1_bert_embed"
      ],
      "execution_count": null,
      "outputs": []
    },
    {
      "cell_type": "code",
      "metadata": {
        "id": "O8rH4fwqKDHQ"
      },
      "source": [
        "df_word_metric = pd.DataFrame(f1_word_level)"
      ],
      "execution_count": null,
      "outputs": []
    },
    {
      "cell_type": "code",
      "metadata": {
        "colab": {
          "base_uri": "https://localhost:8080/",
          "height": 607
        },
        "id": "yPkEJOZsKMWm",
        "outputId": "2c007d81-e03a-48bd-91d3-2c0a7bae106c"
      },
      "source": [
        "df_word_metric"
      ],
      "execution_count": null,
      "outputs": [
        {
          "output_type": "execute_result",
          "data": {
            "text/html": [
              "<div>\n",
              "<style scoped>\n",
              "    .dataframe tbody tr th:only-of-type {\n",
              "        vertical-align: middle;\n",
              "    }\n",
              "\n",
              "    .dataframe tbody tr th {\n",
              "        vertical-align: top;\n",
              "    }\n",
              "\n",
              "    .dataframe thead th {\n",
              "        text-align: right;\n",
              "    }\n",
              "</style>\n",
              "<table border=\"1\" class=\"dataframe\">\n",
              "  <thead>\n",
              "    <tr style=\"text-align: right;\">\n",
              "      <th></th>\n",
              "      <th>Bi-LSTM</th>\n",
              "      <th>BERT</th>\n",
              "      <th>BERT_embed</th>\n",
              "    </tr>\n",
              "  </thead>\n",
              "  <tbody>\n",
              "    <tr>\n",
              "      <th>0</th>\n",
              "      <td>0.000000</td>\n",
              "      <td>0.172840</td>\n",
              "      <td>0.172185</td>\n",
              "    </tr>\n",
              "    <tr>\n",
              "      <th>1</th>\n",
              "      <td>0.333333</td>\n",
              "      <td>0.405797</td>\n",
              "      <td>0.363636</td>\n",
              "    </tr>\n",
              "    <tr>\n",
              "      <th>2</th>\n",
              "      <td>0.876239</td>\n",
              "      <td>0.886608</td>\n",
              "      <td>0.888427</td>\n",
              "    </tr>\n",
              "    <tr>\n",
              "      <th>3</th>\n",
              "      <td>0.950192</td>\n",
              "      <td>0.945030</td>\n",
              "      <td>0.945248</td>\n",
              "    </tr>\n",
              "    <tr>\n",
              "      <th>4</th>\n",
              "      <td>0.230769</td>\n",
              "      <td>0.378378</td>\n",
              "      <td>0.258065</td>\n",
              "    </tr>\n",
              "    <tr>\n",
              "      <th>5</th>\n",
              "      <td>0.739847</td>\n",
              "      <td>0.774257</td>\n",
              "      <td>0.770255</td>\n",
              "    </tr>\n",
              "    <tr>\n",
              "      <th>6</th>\n",
              "      <td>0.833333</td>\n",
              "      <td>0.850226</td>\n",
              "      <td>0.848304</td>\n",
              "    </tr>\n",
              "    <tr>\n",
              "      <th>7</th>\n",
              "      <td>0.900756</td>\n",
              "      <td>0.873401</td>\n",
              "      <td>0.885753</td>\n",
              "    </tr>\n",
              "    <tr>\n",
              "      <th>8</th>\n",
              "      <td>0.000000</td>\n",
              "      <td>0.032258</td>\n",
              "      <td>0.000000</td>\n",
              "    </tr>\n",
              "    <tr>\n",
              "      <th>9</th>\n",
              "      <td>0.387097</td>\n",
              "      <td>0.394366</td>\n",
              "      <td>0.393443</td>\n",
              "    </tr>\n",
              "    <tr>\n",
              "      <th>10</th>\n",
              "      <td>0.803596</td>\n",
              "      <td>0.802319</td>\n",
              "      <td>0.797945</td>\n",
              "    </tr>\n",
              "    <tr>\n",
              "      <th>11</th>\n",
              "      <td>0.720000</td>\n",
              "      <td>0.702703</td>\n",
              "      <td>0.705882</td>\n",
              "    </tr>\n",
              "    <tr>\n",
              "      <th>12</th>\n",
              "      <td>0.000000</td>\n",
              "      <td>0.545455</td>\n",
              "      <td>0.000000</td>\n",
              "    </tr>\n",
              "    <tr>\n",
              "      <th>13</th>\n",
              "      <td>0.778735</td>\n",
              "      <td>0.773995</td>\n",
              "      <td>0.773340</td>\n",
              "    </tr>\n",
              "    <tr>\n",
              "      <th>14</th>\n",
              "      <td>0.865200</td>\n",
              "      <td>0.879493</td>\n",
              "      <td>0.889193</td>\n",
              "    </tr>\n",
              "    <tr>\n",
              "      <th>15</th>\n",
              "      <td>0.780090</td>\n",
              "      <td>0.786207</td>\n",
              "      <td>0.785208</td>\n",
              "    </tr>\n",
              "    <tr>\n",
              "      <th>16</th>\n",
              "      <td>0.991122</td>\n",
              "      <td>0.990377</td>\n",
              "      <td>0.990730</td>\n",
              "    </tr>\n",
              "    <tr>\n",
              "      <th>17</th>\n",
              "      <td>0.999993</td>\n",
              "      <td>1.000000</td>\n",
              "      <td>1.000000</td>\n",
              "    </tr>\n",
              "  </tbody>\n",
              "</table>\n",
              "</div>"
            ],
            "text/plain": [
              "     Bi-LSTM      BERT  BERT_embed\n",
              "0   0.000000  0.172840    0.172185\n",
              "1   0.333333  0.405797    0.363636\n",
              "2   0.876239  0.886608    0.888427\n",
              "3   0.950192  0.945030    0.945248\n",
              "4   0.230769  0.378378    0.258065\n",
              "5   0.739847  0.774257    0.770255\n",
              "6   0.833333  0.850226    0.848304\n",
              "7   0.900756  0.873401    0.885753\n",
              "8   0.000000  0.032258    0.000000\n",
              "9   0.387097  0.394366    0.393443\n",
              "10  0.803596  0.802319    0.797945\n",
              "11  0.720000  0.702703    0.705882\n",
              "12  0.000000  0.545455    0.000000\n",
              "13  0.778735  0.773995    0.773340\n",
              "14  0.865200  0.879493    0.889193\n",
              "15  0.780090  0.786207    0.785208\n",
              "16  0.991122  0.990377    0.990730\n",
              "17  0.999993  1.000000    1.000000"
            ]
          },
          "metadata": {
            "tags": []
          },
          "execution_count": 102
        }
      ]
    },
    {
      "cell_type": "code",
      "metadata": {
        "id": "dYpV1JWMuyzM"
      },
      "source": [
        "import numpy as np"
      ],
      "execution_count": null,
      "outputs": []
    },
    {
      "cell_type": "code",
      "metadata": {
        "colab": {
          "base_uri": "https://localhost:8080/"
        },
        "id": "gnoW6oyDu0vq",
        "outputId": "ccb66eb4-7287-4f7d-e72f-7222452d6463"
      },
      "source": [
        "(0.172185 + 0.363636 + 0.888427 + 0.945248 + 0.258065 + 0.770255 + 0.848304 + 0.885753 + 0.000000 + 0.393443 + 0.797945 + 0.705882 + 0.000000 + 0.773340 + 0.889193 + 0.785208 + 0.990730 + 1.000000) / 18"
      ],
      "execution_count": null,
      "outputs": [
        {
          "output_type": "execute_result",
          "data": {
            "text/plain": [
              "0.6370896666666668"
            ]
          },
          "metadata": {
            "tags": []
          },
          "execution_count": 5
        }
      ]
    },
    {
      "cell_type": "code",
      "metadata": {
        "colab": {
          "base_uri": "https://localhost:8080/",
          "height": 716
        },
        "id": "l7A9aNIb1XQx",
        "outputId": "11c97af7-190d-4993-ed16-3bad142f4559"
      },
      "source": [
        "labels = list(idx2tag.values())\n",
        "\n",
        "x = np.arange(len(labels))  # the label locations\n",
        "width = 0.25  # the width of the bars\n",
        "\n",
        "fig, ax = plt.subplots(figsize=(12,12))\n",
        "rects1 = ax.bar(x - width, f1_word_level['Bi-LSTM'], width, label = 'Bi-LSTM')\n",
        "rects2 = ax.bar(x, f1_word_level['BERT'], width, label = 'BERT')\n",
        "rects3 = ax.bar(x + width, f1_word_level['BERT_embed'], width, label = 'BERT with GloVe')\n",
        "\n",
        "ax.plot(np.arange(-1, 20, step = 1), [0.6] * 21, '--', label = 'F1 = 0.6')\n",
        "\n",
        "ax.set_ylabel('F1 Scores')\n",
        "ax.set_title('Word Level F1 Scores per Tag and per Model')\n",
        "ax.set_xticks(x)\n",
        "ax.set_xticklabels(labels)\n",
        "ax.legend()\n",
        "plt.savefig('wrd_f1.png')\n",
        "plt.show()"
      ],
      "execution_count": null,
      "outputs": [
        {
          "output_type": "display_data",
          "data": {
            "image/png": "[encoded data removed]",
            "text/plain": [
              "<Figure size 864x864 with 1 Axes>"
            ]
          },
          "metadata": {
            "tags": [],
            "needs_background": "light"
          }
        }
      ]
    },
    {
      "cell_type": "code",
      "metadata": {
        "id": "EoHf7X3u1eRv"
      },
      "source": [
        "f1_entity_level = {}\n",
        "\n",
        "f1_lstm_entity_list = []\n",
        "f1_bert_entity_list = []\n",
        "f1_bert_embed_entity_list = []\n",
        "\n",
        "for key in f1_lstm_entity.keys():\n",
        "  f1_lstm_entity_list.append(f1_lstm_entity[key]['f1'])\n",
        "  f1_bert_entity_list.append(f1_bert_entity[key]['f1'])\n",
        "  f1_bert_embed_entity_list.append(f1_bert_entity_embed[key]['f1'])\n",
        "\n",
        "\n",
        "# Baseline model\n",
        "f1_entity_level['Bi-LSTM'] = f1_lstm_entity_list\n",
        "f1_entity_level['BERT'] = f1_bert_entity_list\n",
        "f1_entity_level['BERT_embed'] = f1_bert_embed_entity_list"
      ],
      "execution_count": null,
      "outputs": []
    },
    {
      "cell_type": "code",
      "metadata": {
        "id": "Kf8y1EPuULdi"
      },
      "source": [
        "df_entry_metric = pd.DataFrame(f1_entity_level)"
      ],
      "execution_count": null,
      "outputs": []
    },
    {
      "cell_type": "code",
      "metadata": {
        "colab": {
          "base_uri": "https://localhost:8080/",
          "height": 297
        },
        "id": "pa1wURDJUPN6",
        "outputId": "7c0d35dd-f8d7-422a-824c-94bf408cbed1"
      },
      "source": [
        "df_entry_metric"
      ],
      "execution_count": null,
      "outputs": [
        {
          "output_type": "execute_result",
          "data": {
            "text/html": [
              "<div>\n",
              "<style scoped>\n",
              "    .dataframe tbody tr th:only-of-type {\n",
              "        vertical-align: middle;\n",
              "    }\n",
              "\n",
              "    .dataframe tbody tr th {\n",
              "        vertical-align: top;\n",
              "    }\n",
              "\n",
              "    .dataframe thead th {\n",
              "        text-align: right;\n",
              "    }\n",
              "</style>\n",
              "<table border=\"1\" class=\"dataframe\">\n",
              "  <thead>\n",
              "    <tr style=\"text-align: right;\">\n",
              "      <th></th>\n",
              "      <th>Bi-LSTM</th>\n",
              "      <th>BERT</th>\n",
              "      <th>BERT_embed</th>\n",
              "    </tr>\n",
              "  </thead>\n",
              "  <tbody>\n",
              "    <tr>\n",
              "      <th>0</th>\n",
              "      <td>0.000000</td>\n",
              "      <td>0.018617</td>\n",
              "      <td>0.017608</td>\n",
              "    </tr>\n",
              "    <tr>\n",
              "      <th>1</th>\n",
              "      <td>0.011209</td>\n",
              "      <td>0.016736</td>\n",
              "      <td>0.017054</td>\n",
              "    </tr>\n",
              "    <tr>\n",
              "      <th>2</th>\n",
              "      <td>0.796468</td>\n",
              "      <td>0.827489</td>\n",
              "      <td>0.834688</td>\n",
              "    </tr>\n",
              "    <tr>\n",
              "      <th>3</th>\n",
              "      <td>0.683509</td>\n",
              "      <td>0.674812</td>\n",
              "      <td>0.697255</td>\n",
              "    </tr>\n",
              "    <tr>\n",
              "      <th>4</th>\n",
              "      <td>0.004922</td>\n",
              "      <td>0.011445</td>\n",
              "      <td>0.004792</td>\n",
              "    </tr>\n",
              "    <tr>\n",
              "      <th>5</th>\n",
              "      <td>0.557700</td>\n",
              "      <td>0.631429</td>\n",
              "      <td>0.639088</td>\n",
              "    </tr>\n",
              "    <tr>\n",
              "      <th>6</th>\n",
              "      <td>0.585567</td>\n",
              "      <td>0.691638</td>\n",
              "      <td>0.701983</td>\n",
              "    </tr>\n",
              "    <tr>\n",
              "      <th>7</th>\n",
              "      <td>0.690163</td>\n",
              "      <td>0.689495</td>\n",
              "      <td>0.707500</td>\n",
              "    </tr>\n",
              "  </tbody>\n",
              "</table>\n",
              "</div>"
            ],
            "text/plain": [
              "    Bi-LSTM      BERT  BERT_embed\n",
              "0  0.000000  0.018617    0.017608\n",
              "1  0.011209  0.016736    0.017054\n",
              "2  0.796468  0.827489    0.834688\n",
              "3  0.683509  0.674812    0.697255\n",
              "4  0.004922  0.011445    0.004792\n",
              "5  0.557700  0.631429    0.639088\n",
              "6  0.585567  0.691638    0.701983\n",
              "7  0.690163  0.689495    0.707500"
            ]
          },
          "metadata": {
            "tags": []
          },
          "execution_count": 107
        }
      ]
    },
    {
      "cell_type": "code",
      "metadata": {
        "colab": {
          "base_uri": "https://localhost:8080/"
        },
        "id": "qFmilT3A1eRv",
        "outputId": "0399ceaa-4382-455c-93e6-83dae430ef63"
      },
      "source": [
        "np.mean(f1_lstm_entity_list)"
      ],
      "execution_count": null,
      "outputs": [
        {
          "output_type": "execute_result",
          "data": {
            "text/plain": [
              "0.4161923782838779"
            ]
          },
          "metadata": {
            "tags": []
          },
          "execution_count": 108
        }
      ]
    },
    {
      "cell_type": "code",
      "metadata": {
        "colab": {
          "base_uri": "https://localhost:8080/"
        },
        "id": "ZJ05w_7s1eRw",
        "outputId": "adf14541-391a-455a-9ae5-6e2b3d7cfca4"
      },
      "source": [
        "np.mean(f1_bert_entity_list)"
      ],
      "execution_count": null,
      "outputs": [
        {
          "output_type": "execute_result",
          "data": {
            "text/plain": [
              "0.4452076529046084"
            ]
          },
          "metadata": {
            "tags": []
          },
          "execution_count": 109
        }
      ]
    },
    {
      "cell_type": "code",
      "metadata": {
        "colab": {
          "base_uri": "https://localhost:8080/"
        },
        "id": "7VQ7ZcpfARml",
        "outputId": "55f63926-8676-4938-e148-7796771f3822"
      },
      "source": [
        "np.mean(f1_bert_embed_entity_list)"
      ],
      "execution_count": null,
      "outputs": [
        {
          "output_type": "execute_result",
          "data": {
            "text/plain": [
              "0.4524961837045717"
            ]
          },
          "metadata": {
            "tags": []
          },
          "execution_count": 110
        }
      ]
    },
    {
      "cell_type": "code",
      "metadata": {
        "colab": {
          "base_uri": "https://localhost:8080/",
          "height": 499
        },
        "id": "r_HKnqnG1eRw",
        "outputId": "016ba052-2fec-46eb-c98a-20680de49c67"
      },
      "source": [
        "entity_tag = ['art', 'eve', 'geo', 'gpe', 'nat', 'org', 'per', 'tim']\n",
        "\n",
        "x = np.arange(len(entity_tag))  # the label locations\n",
        "width = 0.3  # the width of the bars\n",
        "\n",
        "fig, ax = plt.subplots(figsize=(8,8))\n",
        "rects1 = ax.bar(x - width, f1_entity_level['Bi-LSTM'], width, label = 'Bi-LSTM')\n",
        "rects2 = ax.bar(x, f1_entity_level['BERT'], width, label = 'BERT')\n",
        "rects3 = ax.bar(x + width, f1_entity_level['BERT_embed'], width, label = 'BERT with GloVe')\n",
        "\n",
        "ax.plot(np.arange(-1, 9, step = 1), [0.5] * 10, '--', label = 'F1 = 0.5')\n",
        "\n",
        "ax.set_ylabel('F1 Scores')\n",
        "ax.set_title('Entity Level F1 Scores per Tag and per Model')\n",
        "ax.set_xticks(x)\n",
        "ax.set_xticklabels(entity_tag)\n",
        "ax.legend()\n",
        "plt.savefig('ent_f1.png')\n",
        "plt.show()"
      ],
      "execution_count": null,
      "outputs": [
        {
          "output_type": "display_data",
          "data": {
            "image/png": "[encoded data removed]",
            "text/plain": [
              "<Figure size 576x576 with 1 Axes>"
            ]
          },
          "metadata": {
            "tags": [],
            "needs_background": "light"
          }
        }
      ]
    },
    {
      "cell_type": "code",
      "metadata": {
        "id": "ERKf9pDcUbBW"
      },
      "source": [
        ""
      ],
      "execution_count": null,
      "outputs": []
    },
    {
      "cell_type": "markdown",
      "metadata": {
        "id": "-5huWTpTXPe8"
      },
      "source": [
        "# LUKE"
      ]
    },
    {
      "cell_type": "markdown",
      "metadata": {
        "id": "mKwVB9ljXRh_"
      },
      "source": [
        "## Load and Preprocess "
      ]
    },
    {
      "cell_type": "code",
      "metadata": {
        "id": "ZKE8zfgMXWA_"
      },
      "source": [
        "!pip install seqeval git+https://github.com/huggingface/transformers.git"
      ],
      "execution_count": null,
      "outputs": []
    },
    {
      "cell_type": "code",
      "metadata": {
        "id": "XZUGVfHyXc7t"
      },
      "source": [
        "from transformers import LukeTokenizer, LukeForEntitySpanClassification\n",
        "from tqdm import notebook, trange\n",
        "import unicodedata\n",
        "import torch\n",
        "import seqeval.metrics\n",
        "import spacy"
      ],
      "execution_count": null,
      "outputs": []
    },
    {
      "cell_type": "code",
      "metadata": {
        "id": "rCXAnzi1Xqtt"
      },
      "source": [
        "luke_model = LukeForEntitySpanClassification.from_pretrained(\"studio-ousia/luke-large-finetuned-conll-2003\")\n",
        "# luke_model.eval()\n",
        "luke_model.train()\n",
        "\n",
        "# Load the tokenizer\n",
        "luke_tokenizer = LukeTokenizer.from_pretrained(\"studio-ousia/luke-large-finetuned-conll-2003\")"
      ],
      "execution_count": null,
      "outputs": []
    },
    {
      "cell_type": "code",
      "metadata": {
        "id": "JSAAKdqqXrIT"
      },
      "source": [
        "luke_model.classifier = torch.nn.Linear(in_features = 3072, out_features = 18, bias = True)\n",
        "# luke_model.classifier = torch.nn.Linear(in_features = 50, out_features = 18, bias = True)\n",
        "luke_model.config.label2id = tag2idx\n",
        "luke_model.config.id2label = idx2tag\n",
        "\n",
        "\n",
        "class MyModel(torch.nn.Module):\n",
        "    def __init__(self):\n",
        "        super(MyModel, self).__init__()\n",
        "        \n",
        "        self.fc1 = luke_model\n",
        "        self.out = torch.nn.Linear(50, 18)\n",
        "        \n",
        "    def forward(self, input_ids: torch.LongTensor,\n",
        "        entity_ids: torch.LongTensor,\n",
        "        entity_position_ids: torch.LongTensor,\n",
        "        entity_start_positions: torch.LongTensor,\n",
        "        entity_end_positions: torch.LongTensor,\n",
        "        attention_mask: torch.LongTensor,\n",
        "        entity_attention_mask: torch.LongTensor):\n",
        "        x = self.fc1(input_ids, entity_ids, entity_position_ids, entity_start_positions, entity_end_positions, attention_mask, entity_attention_mask)\n",
        "        x = self.out(x)\n",
        "        return x\n",
        "\n",
        "luke_model_full = MyModel()\n",
        "# luke_model_full = torch.nn.Sequential(\n",
        "#     luke_model,\n",
        "#     torch.nn.Linear(in_features = 50, out_features = 18, bias = True)\n",
        "# )\n",
        "# luke_model.to(\"cuda\")"
      ],
      "execution_count": null,
      "outputs": []
    },
    {
      "cell_type": "code",
      "metadata": {
        "id": "1FmgwuWrXtSD"
      },
      "source": [
        "luke_model.to(\"cuda\")"
      ],
      "execution_count": null,
      "outputs": []
    },
    {
      "cell_type": "code",
      "metadata": {
        "id": "v1CRzvuIXvo-"
      },
      "source": [
        "# This and the following code blocks are originally from LUKE's official github\n",
        "\n",
        "def load_document(documents):\n",
        "    examples = []\n",
        "    max_token_length = max_length\n",
        "    max_mention_length = 30\n",
        "\n",
        "    round = 0\n",
        "    for document in notebook.tqdm(documents):\n",
        "        #print(document)\n",
        "        round += 1\n",
        "        #print(\"round is \",round)\n",
        "        words = document[\"words\"]\n",
        "        # subword = [luke_tokenizer.tokenize(w) for w in words]\n",
        "        subword_lengths = [len(luke_tokenizer.tokenize(w)) for w in words]\n",
        "        #print('subword is ',subword)\n",
        "        #print('subword_lengths is ',subword_lengths)\n",
        "        total_subword_length = sum(subword_lengths)\n",
        "        #print('total_subword_length is ', total_subword_length)\n",
        "        sentence_boundaries = document[\"sentence_boundaries\"]\n",
        "\n",
        "        # for i in range(len(sentence_boundaries) - 1):\n",
        "        sentence_start, sentence_end = sentence_boundaries\n",
        "        if total_subword_length <= max_token_length:\n",
        "            # if the total sequence length of the document is shorter than the\n",
        "            # maximum token length, we simply use all words to build the sequence\n",
        "            context_start = 0\n",
        "            context_end = len(words)\n",
        "        else:\n",
        "            # if the total sequence length is longer than the maximum length, we add\n",
        "            # the surrounding words of the target sentence　to the sequence until it\n",
        "            # reaches the maximum length\n",
        "            context_start = sentence_start\n",
        "            context_end = max_token_length\n",
        "            # cur_length = sum(subword_lengths[context_start:context_end])\n",
        "            # print('cur_length is ', cur_length)\n",
        "            # while True:\n",
        "                # if context_start > 0:\n",
        "                #     print('context_start > 0 and context_start is ', context_start)\n",
        "                #     if cur_length + subword_lengths[context_start - 1] <= max_token_length:\n",
        "                #         cur_length += subword_lengths[context_start - 1]\n",
        "                #         context_start -= 1\n",
        "                #     else:\n",
        "                #         break\n",
        "                # if context_end < len(words):\n",
        "                #     print('context_end < len(words)')\n",
        "                #     if cur_length + subword_lengths[context_end] <= max_token_length:\n",
        "                #         print(cur_length + subword_lengths[context_end])\n",
        "                #         cur_length += subword_lengths[context_end]\n",
        "                #         context_end += 1\n",
        "                #     else:\n",
        "                #         break\n",
        "\n",
        "        text = \"\"\n",
        "        for word in words[context_start:sentence_start]:\n",
        "            if word[0] == \"'\" or (len(word) == 1 and is_punctuation(word)):\n",
        "                text = text.rstrip()\n",
        "            text += word\n",
        "            text += \" \"\n",
        "\n",
        "        sentence_words = words[sentence_start:sentence_end]\n",
        "        sentence_subword_lengths = subword_lengths[sentence_start:sentence_end]\n",
        "\n",
        "        word_start_char_positions = []\n",
        "        word_end_char_positions = []\n",
        "        for word in sentence_words:\n",
        "            if word[0] == \"'\" or (len(word) == 1 and is_punctuation(word)):\n",
        "                text = text.rstrip()\n",
        "            word_start_char_positions.append(len(text))\n",
        "            text += word\n",
        "            word_end_char_positions.append(len(text))\n",
        "            text += \" \"\n",
        "\n",
        "        for word in words[sentence_end:context_end]:\n",
        "            if word[0] == \"'\" or (len(word) == 1 and is_punctuation(word)):\n",
        "                text = text.rstrip()\n",
        "            text += word\n",
        "            text += \" \"\n",
        "        text = text.rstrip()\n",
        "\n",
        "        entity_spans = []\n",
        "        original_word_spans = []\n",
        "        for word_start in range(len(sentence_words)):\n",
        "            for word_end in range(word_start, len(sentence_words)):\n",
        "                if sum(sentence_subword_lengths[word_start:word_end]) <= max_mention_length:\n",
        "                    entity_spans.append(\n",
        "                        (word_start_char_positions[word_start], word_end_char_positions[word_end])\n",
        "                    )\n",
        "                    original_word_spans.append(\n",
        "                        (word_start, word_end + 1)\n",
        "                    )\n",
        "\n",
        "        examples.append(dict(\n",
        "            text=text,\n",
        "            words=sentence_words,\n",
        "            entity_spans=entity_spans,\n",
        "            original_word_spans=original_word_spans,\n",
        "        ))\n",
        "\n",
        "    return examples\n",
        "\n",
        "\n",
        "def is_punctuation(char):\n",
        "    cp = ord(char)\n",
        "    if (cp >= 33 and cp <= 47) or (cp >= 58 and cp <= 64) or (cp >= 91 and cp <= 96) or (cp >= 123 and cp <= 126):\n",
        "        return True\n",
        "    cat = unicodedata.category(char)\n",
        "    if cat.startswith(\"P\"):\n",
        "        return True\n",
        "    return False"
      ],
      "execution_count": null,
      "outputs": []
    },
    {
      "cell_type": "code",
      "metadata": {
        "id": "YVePlbVVX7KV"
      },
      "source": [
        "train_data = load_document(train_documents)"
      ],
      "execution_count": null,
      "outputs": []
    },
    {
      "cell_type": "code",
      "metadata": {
        "id": "gu4GpXxfX9I0"
      },
      "source": [
        "test_data = load_document(test_documents)"
      ],
      "execution_count": null,
      "outputs": []
    },
    {
      "cell_type": "code",
      "metadata": {
        "id": "3etPUYkXX-xz"
      },
      "source": [
        "torch.cuda.empty_cache()"
      ],
      "execution_count": null,
      "outputs": []
    },
    {
      "cell_type": "code",
      "metadata": {
        "id": "emfc4aiWYA3z"
      },
      "source": [
        "batch_size = 32\n",
        "all_logits = []\n",
        "luke_optimizer = AdamW(luke_model.parameters(), lr=1e-5)\n",
        "loss_fn = torch.nn.CrossEntropyLoss()\n",
        "\n",
        "for batch_start_idx in trange(0, len(train_data), batch_size):\n",
        "    # print(batch_start_idx)\n",
        "    batch_examples = train_data[batch_start_idx:batch_start_idx + batch_size]\n",
        "    texts = [example[\"text\"] for example in batch_examples]\n",
        "    entity_spans = [example[\"entity_spans\"] for example in batch_examples]\n",
        "    batch_target = train_documents[batch_start_idx:batch_start_idx + batch_size]\n",
        "    targets_label = [target[\"labels\"] for target in batch_target]\n",
        "    targets = []\n",
        "    for l in targets_label:\n",
        "        target_holder = []\n",
        "        for k in range(len(l)):\n",
        "            # print(luke_model.config.label2id[l[k]])\n",
        "            target_holder.append(luke_model.config.label2id[l[k]])\n",
        "        targets.append(target_holder)\n",
        "\n",
        "    inputs = luke_tokenizer(texts, entity_spans=entity_spans, return_tensors=\"pt\", padding='max_length', truncation=True,  max_length = 32)\n",
        "    # inputs_toy = luke_tokenizer(texts, entity_spans=entity_spans, return_tensors=\"pt\", padding='max_length', truncation=True,  max_length = 50, return_length=True)\n",
        "    # print(inputs_toy['length'])\n",
        "    # print(inputs)\n",
        "    inputs = inputs.to(\"cuda\")\n",
        "    with torch.no_grad():\n",
        "        outputs = luke_model_full(**inputs)\n",
        "    all_logits.extend(outputs.logits.tolist())\n",
        "    print(outputs.logits.shape)\n",
        "    # loss = loss_fn(, targets)\n",
        "    # loss.backward()\n",
        "    # luke_optimizer.step()\n",
        "    del outputs\n",
        "    torch.cuda.empty_cache()\n",
        "print(all_logits)"
      ],
      "execution_count": null,
      "outputs": []
    },
    {
      "cell_type": "code",
      "metadata": {
        "id": "tfw7RgR_YDTv"
      },
      "source": [
        "final_labels = [label for document in train_documents for label in document[\"labels\"]]\n",
        "\n",
        "final_predictions = []\n",
        "for example_index, example in enumerate(train_data):\n",
        "    logits = all_logits[example_index]\n",
        "    max_logits = np.max(logits, axis=1)\n",
        "    max_indices = np.argmax(logits, axis=1)\n",
        "    original_spans = example[\"original_word_spans\"]\n",
        "    predictions = []\n",
        "    for logit, index, span in zip(max_logits, max_indices, original_spans):\n",
        "        if index != 0:  # the span is not NIL\n",
        "            predictions.append((logit, span, luke_model.config.id2label[index]))\n",
        "\n",
        "    # construct an IOB2 label sequence\n",
        "    predicted_sequence = [\"O\"] * len(example[\"words\"])\n",
        "    for _, span, label in sorted(predictions, key=lambda o: o[0], reverse=True):\n",
        "        if all([o == \"O\" for o in predicted_sequence[span[0] : span[1]]]):\n",
        "            predicted_sequence[span[0]] = \"B-\" + label\n",
        "            if span[1] - span[0] > 1:\n",
        "                predicted_sequence[span[0] + 1 : span[1]] = [\"I-\" + label] * (span[1] - span[0] - 1)\n",
        "\n",
        "    final_predictions += predicted_sequence"
      ],
      "execution_count": null,
      "outputs": []
    },
    {
      "cell_type": "code",
      "metadata": {
        "id": "gHI4xBKQYFob"
      },
      "source": [
        "print('Training Performance')\n",
        "print(seqeval.metrics.classification_report([final_labels], [final_predictions], digits=4))"
      ],
      "execution_count": null,
      "outputs": []
    },
    {
      "cell_type": "code",
      "metadata": {
        "id": "KD25oRxnYR1P"
      },
      "source": [
        "# check cuda storage\n",
        "\n",
        "def pretty_size(size):\n",
        "\t\"\"\"Pretty prints a torch.Size object\"\"\"\n",
        "\tassert(isinstance(size, torch.Size))\n",
        "\treturn \" × \".join(map(str, size))\n",
        "\n",
        "def dump_tensors(gpu_only=True):\n",
        "\t\"\"\"Prints a list of the Tensors being tracked by the garbage collector.\"\"\"\n",
        "\timport gc\n",
        "\ttotal_size = 0\n",
        "\tfor obj in gc.get_objects():\n",
        "\t\ttry:\n",
        "\t\t\tif torch.is_tensor(obj):\n",
        "\t\t\t\tif not gpu_only or obj.is_cuda:\n",
        "\t\t\t\t\tprint(\"%s:%s%s %s\" % (type(obj).__name__, \n",
        "\t\t\t\t\t\t\t\t\t\t  \" GPU\" if obj.is_cuda else \"\",\n",
        "\t\t\t\t\t\t\t\t\t\t  \" pinned\" if obj.is_pinned else \"\",\n",
        "\t\t\t\t\t\t\t\t\t\t  pretty_size(obj.size())))\n",
        "\t\t\t\t\ttotal_size += obj.numel()\n",
        "\t\t\telif hasattr(obj, \"data\") and torch.is_tensor(obj.data):\n",
        "\t\t\t\tif not gpu_only or obj.is_cuda:\n",
        "\t\t\t\t\tprint(\"%s → %s:%s%s%s%s %s\" % (type(obj).__name__, \n",
        "\t\t\t\t\t\t\t\t\t\t\t\t   type(obj.data).__name__, \n",
        "\t\t\t\t\t\t\t\t\t\t\t\t   \" GPU\" if obj.is_cuda else \"\",\n",
        "\t\t\t\t\t\t\t\t\t\t\t\t   \" pinned\" if obj.data.is_pinned else \"\",\n",
        "\t\t\t\t\t\t\t\t\t\t\t\t   \" grad\" if obj.requires_grad else \"\", \n",
        "\t\t\t\t\t\t\t\t\t\t\t\t   \" volatile\" if obj.volatile else \"\",\n",
        "\t\t\t\t\t\t\t\t\t\t\t\t   pretty_size(obj.data.size())))\n",
        "\t\t\t\t\ttotal_size += obj.data.numel()\n",
        "\t\texcept Exception as e:\n",
        "\t\t\tpass        \n",
        "\tprint(\"Total size:\", total_size)\n",
        "dump_tensors()"
      ],
      "execution_count": null,
      "outputs": []
    }
  ]
}