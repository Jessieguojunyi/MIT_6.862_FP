{
  "nbformat": 4,
  "nbformat_minor": 0,
  "metadata": {
    "colab": {
      "name": "6.862_final_project.ipynb",
      "provenance": [],
      "collapsed_sections": [],
      "toc_visible": true,
      "machine_shape": "hm"
    },
    "kernelspec": {
      "name": "python3",
      "display_name": "Python 3"
    },
    "language_info": {
      "name": "python"
    },
    "accelerator": "GPU",
    "widgets": {
      "application/vnd.jupyter.widget-state+json": {
        "cd5caa00a4ac4bc38bbbceb48b2dd33b": {
          "model_module": "@jupyter-widgets/controls",
          "model_name": "HBoxModel",
          "state": {
            "_view_name": "HBoxView",
            "_dom_classes": [],
            "_model_name": "HBoxModel",
            "_view_module": "@jupyter-widgets/controls",
            "_model_module_version": "1.5.0",
            "_view_count": null,
            "_view_module_version": "1.5.0",
            "box_style": "",
            "layout": "IPY_MODEL_56f46e1f97174a72b15adb00b53fbc94",
            "_model_module": "@jupyter-widgets/controls",
            "children": [
              "IPY_MODEL_cdecdd737d6541b6b2b596596127e5d4",
              "IPY_MODEL_b49d1b626e6b4335baa37597330ce1cf"
            ]
          }
        },
        "56f46e1f97174a72b15adb00b53fbc94": {
          "model_module": "@jupyter-widgets/base",
          "model_name": "LayoutModel",
          "state": {
            "_view_name": "LayoutView",
            "grid_template_rows": null,
            "right": null,
            "justify_content": null,
            "_view_module": "@jupyter-widgets/base",
            "overflow": null,
            "_model_module_version": "1.2.0",
            "_view_count": null,
            "flex_flow": null,
            "width": null,
            "min_width": null,
            "border": null,
            "align_items": null,
            "bottom": null,
            "_model_module": "@jupyter-widgets/base",
            "top": null,
            "grid_column": null,
            "overflow_y": null,
            "overflow_x": null,
            "grid_auto_flow": null,
            "grid_area": null,
            "grid_template_columns": null,
            "flex": null,
            "_model_name": "LayoutModel",
            "justify_items": null,
            "grid_row": null,
            "max_height": null,
            "align_content": null,
            "visibility": null,
            "align_self": null,
            "height": null,
            "min_height": null,
            "padding": null,
            "grid_auto_rows": null,
            "grid_gap": null,
            "max_width": null,
            "order": null,
            "_view_module_version": "1.2.0",
            "grid_template_areas": null,
            "object_position": null,
            "object_fit": null,
            "grid_auto_columns": null,
            "margin": null,
            "display": null,
            "left": null
          }
        },
        "cdecdd737d6541b6b2b596596127e5d4": {
          "model_module": "@jupyter-widgets/controls",
          "model_name": "FloatProgressModel",
          "state": {
            "_view_name": "ProgressView",
            "style": "IPY_MODEL_def1a1a70ecc41dbbccb2d7e97f17c80",
            "_dom_classes": [],
            "description": "Downloading: 100%",
            "_model_name": "FloatProgressModel",
            "bar_style": "success",
            "max": 213450,
            "_view_module": "@jupyter-widgets/controls",
            "_model_module_version": "1.5.0",
            "value": 213450,
            "_view_count": null,
            "_view_module_version": "1.5.0",
            "orientation": "horizontal",
            "min": 0,
            "description_tooltip": null,
            "_model_module": "@jupyter-widgets/controls",
            "layout": "IPY_MODEL_7214cadeca1f45018a7f0d4a0ee1bf13"
          }
        },
        "b49d1b626e6b4335baa37597330ce1cf": {
          "model_module": "@jupyter-widgets/controls",
          "model_name": "HTMLModel",
          "state": {
            "_view_name": "HTMLView",
            "style": "IPY_MODEL_44cbe0778c474e87b6dfceb9d03727f4",
            "_dom_classes": [],
            "description": "",
            "_model_name": "HTMLModel",
            "placeholder": "​",
            "_view_module": "@jupyter-widgets/controls",
            "_model_module_version": "1.5.0",
            "value": " 213k/213k [00:01&lt;00:00, 137kB/s]",
            "_view_count": null,
            "_view_module_version": "1.5.0",
            "description_tooltip": null,
            "_model_module": "@jupyter-widgets/controls",
            "layout": "IPY_MODEL_13e2a4811a604e1c9de14d84329bbef7"
          }
        },
        "def1a1a70ecc41dbbccb2d7e97f17c80": {
          "model_module": "@jupyter-widgets/controls",
          "model_name": "ProgressStyleModel",
          "state": {
            "_view_name": "StyleView",
            "_model_name": "ProgressStyleModel",
            "description_width": "initial",
            "_view_module": "@jupyter-widgets/base",
            "_model_module_version": "1.5.0",
            "_view_count": null,
            "_view_module_version": "1.2.0",
            "bar_color": null,
            "_model_module": "@jupyter-widgets/controls"
          }
        },
        "7214cadeca1f45018a7f0d4a0ee1bf13": {
          "model_module": "@jupyter-widgets/base",
          "model_name": "LayoutModel",
          "state": {
            "_view_name": "LayoutView",
            "grid_template_rows": null,
            "right": null,
            "justify_content": null,
            "_view_module": "@jupyter-widgets/base",
            "overflow": null,
            "_model_module_version": "1.2.0",
            "_view_count": null,
            "flex_flow": null,
            "width": null,
            "min_width": null,
            "border": null,
            "align_items": null,
            "bottom": null,
            "_model_module": "@jupyter-widgets/base",
            "top": null,
            "grid_column": null,
            "overflow_y": null,
            "overflow_x": null,
            "grid_auto_flow": null,
            "grid_area": null,
            "grid_template_columns": null,
            "flex": null,
            "_model_name": "LayoutModel",
            "justify_items": null,
            "grid_row": null,
            "max_height": null,
            "align_content": null,
            "visibility": null,
            "align_self": null,
            "height": null,
            "min_height": null,
            "padding": null,
            "grid_auto_rows": null,
            "grid_gap": null,
            "max_width": null,
            "order": null,
            "_view_module_version": "1.2.0",
            "grid_template_areas": null,
            "object_position": null,
            "object_fit": null,
            "grid_auto_columns": null,
            "margin": null,
            "display": null,
            "left": null
          }
        },
        "44cbe0778c474e87b6dfceb9d03727f4": {
          "model_module": "@jupyter-widgets/controls",
          "model_name": "DescriptionStyleModel",
          "state": {
            "_view_name": "StyleView",
            "_model_name": "DescriptionStyleModel",
            "description_width": "",
            "_view_module": "@jupyter-widgets/base",
            "_model_module_version": "1.5.0",
            "_view_count": null,
            "_view_module_version": "1.2.0",
            "_model_module": "@jupyter-widgets/controls"
          }
        },
        "13e2a4811a604e1c9de14d84329bbef7": {
          "model_module": "@jupyter-widgets/base",
          "model_name": "LayoutModel",
          "state": {
            "_view_name": "LayoutView",
            "grid_template_rows": null,
            "right": null,
            "justify_content": null,
            "_view_module": "@jupyter-widgets/base",
            "overflow": null,
            "_model_module_version": "1.2.0",
            "_view_count": null,
            "flex_flow": null,
            "width": null,
            "min_width": null,
            "border": null,
            "align_items": null,
            "bottom": null,
            "_model_module": "@jupyter-widgets/base",
            "top": null,
            "grid_column": null,
            "overflow_y": null,
            "overflow_x": null,
            "grid_auto_flow": null,
            "grid_area": null,
            "grid_template_columns": null,
            "flex": null,
            "_model_name": "LayoutModel",
            "justify_items": null,
            "grid_row": null,
            "max_height": null,
            "align_content": null,
            "visibility": null,
            "align_self": null,
            "height": null,
            "min_height": null,
            "padding": null,
            "grid_auto_rows": null,
            "grid_gap": null,
            "max_width": null,
            "order": null,
            "_view_module_version": "1.2.0",
            "grid_template_areas": null,
            "object_position": null,
            "object_fit": null,
            "grid_auto_columns": null,
            "margin": null,
            "display": null,
            "left": null
          }
        },
        "5c2a9302425e4766908660c7637b885c": {
          "model_module": "@jupyter-widgets/controls",
          "model_name": "HBoxModel",
          "state": {
            "_view_name": "HBoxView",
            "_dom_classes": [],
            "_model_name": "HBoxModel",
            "_view_module": "@jupyter-widgets/controls",
            "_model_module_version": "1.5.0",
            "_view_count": null,
            "_view_module_version": "1.5.0",
            "box_style": "",
            "layout": "IPY_MODEL_ed1dd66ee1374d2ea93c20f03b999fb4",
            "_model_module": "@jupyter-widgets/controls",
            "children": [
              "IPY_MODEL_b68194bd675948f1944ce6f95a12706d",
              "IPY_MODEL_980968ab978844d392b370683f3d9e79"
            ]
          }
        },
        "ed1dd66ee1374d2ea93c20f03b999fb4": {
          "model_module": "@jupyter-widgets/base",
          "model_name": "LayoutModel",
          "state": {
            "_view_name": "LayoutView",
            "grid_template_rows": null,
            "right": null,
            "justify_content": null,
            "_view_module": "@jupyter-widgets/base",
            "overflow": null,
            "_model_module_version": "1.2.0",
            "_view_count": null,
            "flex_flow": null,
            "width": null,
            "min_width": null,
            "border": null,
            "align_items": null,
            "bottom": null,
            "_model_module": "@jupyter-widgets/base",
            "top": null,
            "grid_column": null,
            "overflow_y": null,
            "overflow_x": null,
            "grid_auto_flow": null,
            "grid_area": null,
            "grid_template_columns": null,
            "flex": null,
            "_model_name": "LayoutModel",
            "justify_items": null,
            "grid_row": null,
            "max_height": null,
            "align_content": null,
            "visibility": null,
            "align_self": null,
            "height": null,
            "min_height": null,
            "padding": null,
            "grid_auto_rows": null,
            "grid_gap": null,
            "max_width": null,
            "order": null,
            "_view_module_version": "1.2.0",
            "grid_template_areas": null,
            "object_position": null,
            "object_fit": null,
            "grid_auto_columns": null,
            "margin": null,
            "display": null,
            "left": null
          }
        },
        "b68194bd675948f1944ce6f95a12706d": {
          "model_module": "@jupyter-widgets/controls",
          "model_name": "FloatProgressModel",
          "state": {
            "_view_name": "ProgressView",
            "style": "IPY_MODEL_f1770cb9caea470696bd5c2c555e6bf5",
            "_dom_classes": [],
            "description": "Downloading: 100%",
            "_model_name": "FloatProgressModel",
            "bar_style": "success",
            "max": 29,
            "_view_module": "@jupyter-widgets/controls",
            "_model_module_version": "1.5.0",
            "value": 29,
            "_view_count": null,
            "_view_module_version": "1.5.0",
            "orientation": "horizontal",
            "min": 0,
            "description_tooltip": null,
            "_model_module": "@jupyter-widgets/controls",
            "layout": "IPY_MODEL_e30fde9f88924cbf9869a316f7a7a9b5"
          }
        },
        "980968ab978844d392b370683f3d9e79": {
          "model_module": "@jupyter-widgets/controls",
          "model_name": "HTMLModel",
          "state": {
            "_view_name": "HTMLView",
            "style": "IPY_MODEL_6624932985a749128afaf884314fc1b7",
            "_dom_classes": [],
            "description": "",
            "_model_name": "HTMLModel",
            "placeholder": "​",
            "_view_module": "@jupyter-widgets/controls",
            "_model_module_version": "1.5.0",
            "value": " 29.0/29.0 [00:00&lt;00:00, 246B/s]",
            "_view_count": null,
            "_view_module_version": "1.5.0",
            "description_tooltip": null,
            "_model_module": "@jupyter-widgets/controls",
            "layout": "IPY_MODEL_0b858a65db17449d8d90478ad8d0188e"
          }
        },
        "f1770cb9caea470696bd5c2c555e6bf5": {
          "model_module": "@jupyter-widgets/controls",
          "model_name": "ProgressStyleModel",
          "state": {
            "_view_name": "StyleView",
            "_model_name": "ProgressStyleModel",
            "description_width": "initial",
            "_view_module": "@jupyter-widgets/base",
            "_model_module_version": "1.5.0",
            "_view_count": null,
            "_view_module_version": "1.2.0",
            "bar_color": null,
            "_model_module": "@jupyter-widgets/controls"
          }
        },
        "e30fde9f88924cbf9869a316f7a7a9b5": {
          "model_module": "@jupyter-widgets/base",
          "model_name": "LayoutModel",
          "state": {
            "_view_name": "LayoutView",
            "grid_template_rows": null,
            "right": null,
            "justify_content": null,
            "_view_module": "@jupyter-widgets/base",
            "overflow": null,
            "_model_module_version": "1.2.0",
            "_view_count": null,
            "flex_flow": null,
            "width": null,
            "min_width": null,
            "border": null,
            "align_items": null,
            "bottom": null,
            "_model_module": "@jupyter-widgets/base",
            "top": null,
            "grid_column": null,
            "overflow_y": null,
            "overflow_x": null,
            "grid_auto_flow": null,
            "grid_area": null,
            "grid_template_columns": null,
            "flex": null,
            "_model_name": "LayoutModel",
            "justify_items": null,
            "grid_row": null,
            "max_height": null,
            "align_content": null,
            "visibility": null,
            "align_self": null,
            "height": null,
            "min_height": null,
            "padding": null,
            "grid_auto_rows": null,
            "grid_gap": null,
            "max_width": null,
            "order": null,
            "_view_module_version": "1.2.0",
            "grid_template_areas": null,
            "object_position": null,
            "object_fit": null,
            "grid_auto_columns": null,
            "margin": null,
            "display": null,
            "left": null
          }
        },
        "6624932985a749128afaf884314fc1b7": {
          "model_module": "@jupyter-widgets/controls",
          "model_name": "DescriptionStyleModel",
          "state": {
            "_view_name": "StyleView",
            "_model_name": "DescriptionStyleModel",
            "description_width": "",
            "_view_module": "@jupyter-widgets/base",
            "_model_module_version": "1.5.0",
            "_view_count": null,
            "_view_module_version": "1.2.0",
            "_model_module": "@jupyter-widgets/controls"
          }
        },
        "0b858a65db17449d8d90478ad8d0188e": {
          "model_module": "@jupyter-widgets/base",
          "model_name": "LayoutModel",
          "state": {
            "_view_name": "LayoutView",
            "grid_template_rows": null,
            "right": null,
            "justify_content": null,
            "_view_module": "@jupyter-widgets/base",
            "overflow": null,
            "_model_module_version": "1.2.0",
            "_view_count": null,
            "flex_flow": null,
            "width": null,
            "min_width": null,
            "border": null,
            "align_items": null,
            "bottom": null,
            "_model_module": "@jupyter-widgets/base",
            "top": null,
            "grid_column": null,
            "overflow_y": null,
            "overflow_x": null,
            "grid_auto_flow": null,
            "grid_area": null,
            "grid_template_columns": null,
            "flex": null,
            "_model_name": "LayoutModel",
            "justify_items": null,
            "grid_row": null,
            "max_height": null,
            "align_content": null,
            "visibility": null,
            "align_self": null,
            "height": null,
            "min_height": null,
            "padding": null,
            "grid_auto_rows": null,
            "grid_gap": null,
            "max_width": null,
            "order": null,
            "_view_module_version": "1.2.0",
            "grid_template_areas": null,
            "object_position": null,
            "object_fit": null,
            "grid_auto_columns": null,
            "margin": null,
            "display": null,
            "left": null
          }
        },
        "842fb8ba40d847afae3f78c72370c983": {
          "model_module": "@jupyter-widgets/controls",
          "model_name": "HBoxModel",
          "state": {
            "_view_name": "HBoxView",
            "_dom_classes": [],
            "_model_name": "HBoxModel",
            "_view_module": "@jupyter-widgets/controls",
            "_model_module_version": "1.5.0",
            "_view_count": null,
            "_view_module_version": "1.5.0",
            "box_style": "",
            "layout": "IPY_MODEL_f1b240eee4d54d34bf8fb341914cffe8",
            "_model_module": "@jupyter-widgets/controls",
            "children": [
              "IPY_MODEL_adc5e8af724b47bba6e03f4ed4153e75",
              "IPY_MODEL_2593628d5fb74c8a841b2f11f7ed5972"
            ]
          }
        },
        "f1b240eee4d54d34bf8fb341914cffe8": {
          "model_module": "@jupyter-widgets/base",
          "model_name": "LayoutModel",
          "state": {
            "_view_name": "LayoutView",
            "grid_template_rows": null,
            "right": null,
            "justify_content": null,
            "_view_module": "@jupyter-widgets/base",
            "overflow": null,
            "_model_module_version": "1.2.0",
            "_view_count": null,
            "flex_flow": null,
            "width": null,
            "min_width": null,
            "border": null,
            "align_items": null,
            "bottom": null,
            "_model_module": "@jupyter-widgets/base",
            "top": null,
            "grid_column": null,
            "overflow_y": null,
            "overflow_x": null,
            "grid_auto_flow": null,
            "grid_area": null,
            "grid_template_columns": null,
            "flex": null,
            "_model_name": "LayoutModel",
            "justify_items": null,
            "grid_row": null,
            "max_height": null,
            "align_content": null,
            "visibility": null,
            "align_self": null,
            "height": null,
            "min_height": null,
            "padding": null,
            "grid_auto_rows": null,
            "grid_gap": null,
            "max_width": null,
            "order": null,
            "_view_module_version": "1.2.0",
            "grid_template_areas": null,
            "object_position": null,
            "object_fit": null,
            "grid_auto_columns": null,
            "margin": null,
            "display": null,
            "left": null
          }
        },
        "adc5e8af724b47bba6e03f4ed4153e75": {
          "model_module": "@jupyter-widgets/controls",
          "model_name": "FloatProgressModel",
          "state": {
            "_view_name": "ProgressView",
            "style": "IPY_MODEL_1771d64202454854b08f9a712ecfb9f1",
            "_dom_classes": [],
            "description": "Downloading: 100%",
            "_model_name": "FloatProgressModel",
            "bar_style": "success",
            "max": 435797,
            "_view_module": "@jupyter-widgets/controls",
            "_model_module_version": "1.5.0",
            "value": 435797,
            "_view_count": null,
            "_view_module_version": "1.5.0",
            "orientation": "horizontal",
            "min": 0,
            "description_tooltip": null,
            "_model_module": "@jupyter-widgets/controls",
            "layout": "IPY_MODEL_be58fb6e06504375935c76e27408aecb"
          }
        },
        "2593628d5fb74c8a841b2f11f7ed5972": {
          "model_module": "@jupyter-widgets/controls",
          "model_name": "HTMLModel",
          "state": {
            "_view_name": "HTMLView",
            "style": "IPY_MODEL_4713b8c4e3074f219e8686d9e024ee3d",
            "_dom_classes": [],
            "description": "",
            "_model_name": "HTMLModel",
            "placeholder": "​",
            "_view_module": "@jupyter-widgets/controls",
            "_model_module_version": "1.5.0",
            "value": " 436k/436k [00:00&lt;00:00, 976kB/s]",
            "_view_count": null,
            "_view_module_version": "1.5.0",
            "description_tooltip": null,
            "_model_module": "@jupyter-widgets/controls",
            "layout": "IPY_MODEL_e175f1b5102a4498b8dd083fe5f6dcc2"
          }
        },
        "1771d64202454854b08f9a712ecfb9f1": {
          "model_module": "@jupyter-widgets/controls",
          "model_name": "ProgressStyleModel",
          "state": {
            "_view_name": "StyleView",
            "_model_name": "ProgressStyleModel",
            "description_width": "initial",
            "_view_module": "@jupyter-widgets/base",
            "_model_module_version": "1.5.0",
            "_view_count": null,
            "_view_module_version": "1.2.0",
            "bar_color": null,
            "_model_module": "@jupyter-widgets/controls"
          }
        },
        "be58fb6e06504375935c76e27408aecb": {
          "model_module": "@jupyter-widgets/base",
          "model_name": "LayoutModel",
          "state": {
            "_view_name": "LayoutView",
            "grid_template_rows": null,
            "right": null,
            "justify_content": null,
            "_view_module": "@jupyter-widgets/base",
            "overflow": null,
            "_model_module_version": "1.2.0",
            "_view_count": null,
            "flex_flow": null,
            "width": null,
            "min_width": null,
            "border": null,
            "align_items": null,
            "bottom": null,
            "_model_module": "@jupyter-widgets/base",
            "top": null,
            "grid_column": null,
            "overflow_y": null,
            "overflow_x": null,
            "grid_auto_flow": null,
            "grid_area": null,
            "grid_template_columns": null,
            "flex": null,
            "_model_name": "LayoutModel",
            "justify_items": null,
            "grid_row": null,
            "max_height": null,
            "align_content": null,
            "visibility": null,
            "align_self": null,
            "height": null,
            "min_height": null,
            "padding": null,
            "grid_auto_rows": null,
            "grid_gap": null,
            "max_width": null,
            "order": null,
            "_view_module_version": "1.2.0",
            "grid_template_areas": null,
            "object_position": null,
            "object_fit": null,
            "grid_auto_columns": null,
            "margin": null,
            "display": null,
            "left": null
          }
        },
        "4713b8c4e3074f219e8686d9e024ee3d": {
          "model_module": "@jupyter-widgets/controls",
          "model_name": "DescriptionStyleModel",
          "state": {
            "_view_name": "StyleView",
            "_model_name": "DescriptionStyleModel",
            "description_width": "",
            "_view_module": "@jupyter-widgets/base",
            "_model_module_version": "1.5.0",
            "_view_count": null,
            "_view_module_version": "1.2.0",
            "_model_module": "@jupyter-widgets/controls"
          }
        },
        "e175f1b5102a4498b8dd083fe5f6dcc2": {
          "model_module": "@jupyter-widgets/base",
          "model_name": "LayoutModel",
          "state": {
            "_view_name": "LayoutView",
            "grid_template_rows": null,
            "right": null,
            "justify_content": null,
            "_view_module": "@jupyter-widgets/base",
            "overflow": null,
            "_model_module_version": "1.2.0",
            "_view_count": null,
            "flex_flow": null,
            "width": null,
            "min_width": null,
            "border": null,
            "align_items": null,
            "bottom": null,
            "_model_module": "@jupyter-widgets/base",
            "top": null,
            "grid_column": null,
            "overflow_y": null,
            "overflow_x": null,
            "grid_auto_flow": null,
            "grid_area": null,
            "grid_template_columns": null,
            "flex": null,
            "_model_name": "LayoutModel",
            "justify_items": null,
            "grid_row": null,
            "max_height": null,
            "align_content": null,
            "visibility": null,
            "align_self": null,
            "height": null,
            "min_height": null,
            "padding": null,
            "grid_auto_rows": null,
            "grid_gap": null,
            "max_width": null,
            "order": null,
            "_view_module_version": "1.2.0",
            "grid_template_areas": null,
            "object_position": null,
            "object_fit": null,
            "grid_auto_columns": null,
            "margin": null,
            "display": null,
            "left": null
          }
        }
      }
    }
  },
  "cells": [
    {
      "cell_type": "markdown",
      "metadata": {
        "id": "M6UpxVZHbFwn"
      },
      "source": [
        "# Import Necessary Library"
      ]
    },
    {
      "cell_type": "code",
      "metadata": {
        "colab": {
          "base_uri": "https://localhost:8080/"
        },
        "id": "GKuQqyA61crG",
        "outputId": "76e628c5-9774-463b-dadc-518b09748ea8"
      },
      "source": [
        "! pip install transformers"
      ],
      "execution_count": null,
      "outputs": [
        {
          "output_type": "stream",
          "text": [
            "Collecting transformers\n",
            "\u001b[?25l  Downloading https://files.pythonhosted.org/packages/d8/b2/57495b5309f09fa501866e225c84532d1fd89536ea62406b2181933fb418/transformers-4.5.1-py3-none-any.whl (2.1MB)\n",
            "\u001b[K     |████████████████████████████████| 2.1MB 16.6MB/s \n",
            "\u001b[?25hRequirement already satisfied: importlib-metadata; python_version < \"3.8\" in /usr/local/lib/python3.7/dist-packages (from transformers) (3.10.1)\n",
            "Requirement already satisfied: regex!=2019.12.17 in /usr/local/lib/python3.7/dist-packages (from transformers) (2019.12.20)\n",
            "Requirement already satisfied: numpy>=1.17 in /usr/local/lib/python3.7/dist-packages (from transformers) (1.19.5)\n",
            "Requirement already satisfied: packaging in /usr/local/lib/python3.7/dist-packages (from transformers) (20.9)\n",
            "Requirement already satisfied: requests in /usr/local/lib/python3.7/dist-packages (from transformers) (2.23.0)\n",
            "Collecting sacremoses\n",
            "\u001b[?25l  Downloading https://files.pythonhosted.org/packages/75/ee/67241dc87f266093c533a2d4d3d69438e57d7a90abb216fa076e7d475d4a/sacremoses-0.0.45-py3-none-any.whl (895kB)\n",
            "\u001b[K     |████████████████████████████████| 901kB 66.2MB/s \n",
            "\u001b[?25hRequirement already satisfied: tqdm>=4.27 in /usr/local/lib/python3.7/dist-packages (from transformers) (4.41.1)\n",
            "Collecting tokenizers<0.11,>=0.10.1\n",
            "\u001b[?25l  Downloading https://files.pythonhosted.org/packages/ae/04/5b870f26a858552025a62f1649c20d29d2672c02ff3c3fb4c688ca46467a/tokenizers-0.10.2-cp37-cp37m-manylinux2010_x86_64.whl (3.3MB)\n",
            "\u001b[K     |████████████████████████████████| 3.3MB 58.2MB/s \n",
            "\u001b[?25hRequirement already satisfied: filelock in /usr/local/lib/python3.7/dist-packages (from transformers) (3.0.12)\n",
            "Requirement already satisfied: typing-extensions>=3.6.4; python_version < \"3.8\" in /usr/local/lib/python3.7/dist-packages (from importlib-metadata; python_version < \"3.8\"->transformers) (3.7.4.3)\n",
            "Requirement already satisfied: zipp>=0.5 in /usr/local/lib/python3.7/dist-packages (from importlib-metadata; python_version < \"3.8\"->transformers) (3.4.1)\n",
            "Requirement already satisfied: pyparsing>=2.0.2 in /usr/local/lib/python3.7/dist-packages (from packaging->transformers) (2.4.7)\n",
            "Requirement already satisfied: certifi>=2017.4.17 in /usr/local/lib/python3.7/dist-packages (from requests->transformers) (2020.12.5)\n",
            "Requirement already satisfied: idna<3,>=2.5 in /usr/local/lib/python3.7/dist-packages (from requests->transformers) (2.10)\n",
            "Requirement already satisfied: chardet<4,>=3.0.2 in /usr/local/lib/python3.7/dist-packages (from requests->transformers) (3.0.4)\n",
            "Requirement already satisfied: urllib3!=1.25.0,!=1.25.1,<1.26,>=1.21.1 in /usr/local/lib/python3.7/dist-packages (from requests->transformers) (1.24.3)\n",
            "Requirement already satisfied: click in /usr/local/lib/python3.7/dist-packages (from sacremoses->transformers) (7.1.2)\n",
            "Requirement already satisfied: six in /usr/local/lib/python3.7/dist-packages (from sacremoses->transformers) (1.15.0)\n",
            "Requirement already satisfied: joblib in /usr/local/lib/python3.7/dist-packages (from sacremoses->transformers) (1.0.1)\n",
            "Installing collected packages: sacremoses, tokenizers, transformers\n",
            "Successfully installed sacremoses-0.0.45 tokenizers-0.10.2 transformers-4.5.1\n"
          ],
          "name": "stdout"
        }
      ]
    },
    {
      "cell_type": "code",
      "metadata": {
        "id": "LNjEsPJ-UGtW"
      },
      "source": [
        "import json\n",
        "import os\n",
        "import pickle\n",
        "\n",
        "import matplotlib.pyplot as plt\n",
        "import numpy as np\n",
        "import pandas as pd\n",
        "from sklearn.model_selection import train_test_split\n",
        "from sklearn.metrics import f1_score, confusion_matrix\n",
        "from sklearn.utils.class_weight import compute_class_weight\n",
        "import tensorflow as tf\n",
        "from tensorflow.keras import Model, Sequential\n",
        "from tensorflow.keras.layers import Input, Embedding, Dense, \\\n",
        "                            TimeDistributed, LSTM, Dropout, Bidirectional, \\\n",
        "                            Conv1D, BatchNormalization\n",
        "from tensorflow.keras.models import model_from_json\n",
        "from tensorflow.keras.preprocessing.sequence import pad_sequences\n",
        "from tensorflow.keras.utils import to_categorical\n",
        "\n",
        "from transformers import BertTokenizer, BertConfig\n",
        "from transformers import TFBertForTokenClassification, AdamW\n",
        "\n",
        "plt.style.use(\"tableau-colorblind10\")"
      ],
      "execution_count": null,
      "outputs": []
    },
    {
      "cell_type": "code",
      "metadata": {
        "id": "OsmoQ3SrtVJ3",
        "colab": {
          "base_uri": "https://localhost:8080/"
        },
        "outputId": "08a58375-f20a-4b5d-8ce5-e80816410bb3"
      },
      "source": [
        " from google.colab import drive\n",
        "drive.mount('/content/drive')"
      ],
      "execution_count": null,
      "outputs": [
        {
          "output_type": "stream",
          "text": [
            "Mounted at /content/drive\n"
          ],
          "name": "stdout"
        }
      ]
    },
    {
      "cell_type": "code",
      "metadata": {
        "id": "Y0d6SLrgtiDK"
      },
      "source": [
        "os.chdir('drive/MyDrive/MIT_6.862/')"
      ],
      "execution_count": null,
      "outputs": []
    },
    {
      "cell_type": "code",
      "metadata": {
        "id": "TEG3GPhJTI22"
      },
      "source": [
        "import sys\n",
        "sys.path.append('/content/drive/MyDrive/MIT_6.862/')"
      ],
      "execution_count": null,
      "outputs": []
    },
    {
      "cell_type": "code",
      "metadata": {
        "id": "4NlLWjRETIJ-"
      },
      "source": [
        "from metrics.ner_evaluation.ner_eval import collect_named_entities\n",
        "from metrics.ner_evaluation.ner_eval import compute_metrics"
      ],
      "execution_count": null,
      "outputs": []
    },
    {
      "cell_type": "markdown",
      "metadata": {
        "id": "5Tsr3goibUnD"
      },
      "source": [
        "# Load data and EDA"
      ]
    },
    {
      "cell_type": "code",
      "metadata": {
        "id": "74Ds_FwsZLA-"
      },
      "source": [
        "data = pd.read_csv('NER_data/ner_dataset.csv', encoding=\"latin1\")"
      ],
      "execution_count": null,
      "outputs": []
    },
    {
      "cell_type": "code",
      "metadata": {
        "colab": {
          "base_uri": "https://localhost:8080/",
          "height": 173
        },
        "id": "nNBZfyc0edT2",
        "outputId": "cf68248e-ca04-45a4-f144-0410daa36421"
      },
      "source": [
        "data.describe()"
      ],
      "execution_count": null,
      "outputs": [
        {
          "output_type": "execute_result",
          "data": {
            "text/html": [
              "<div>\n",
              "<style scoped>\n",
              "    .dataframe tbody tr th:only-of-type {\n",
              "        vertical-align: middle;\n",
              "    }\n",
              "\n",
              "    .dataframe tbody tr th {\n",
              "        vertical-align: top;\n",
              "    }\n",
              "\n",
              "    .dataframe thead th {\n",
              "        text-align: right;\n",
              "    }\n",
              "</style>\n",
              "<table border=\"1\" class=\"dataframe\">\n",
              "  <thead>\n",
              "    <tr style=\"text-align: right;\">\n",
              "      <th></th>\n",
              "      <th>Sentence #</th>\n",
              "      <th>Word</th>\n",
              "      <th>POS</th>\n",
              "      <th>Tag</th>\n",
              "    </tr>\n",
              "  </thead>\n",
              "  <tbody>\n",
              "    <tr>\n",
              "      <th>count</th>\n",
              "      <td>47959</td>\n",
              "      <td>1048575</td>\n",
              "      <td>1048575</td>\n",
              "      <td>1048575</td>\n",
              "    </tr>\n",
              "    <tr>\n",
              "      <th>unique</th>\n",
              "      <td>47959</td>\n",
              "      <td>35178</td>\n",
              "      <td>42</td>\n",
              "      <td>17</td>\n",
              "    </tr>\n",
              "    <tr>\n",
              "      <th>top</th>\n",
              "      <td>Sentence: 7244</td>\n",
              "      <td>the</td>\n",
              "      <td>NN</td>\n",
              "      <td>O</td>\n",
              "    </tr>\n",
              "    <tr>\n",
              "      <th>freq</th>\n",
              "      <td>1</td>\n",
              "      <td>52573</td>\n",
              "      <td>145807</td>\n",
              "      <td>887908</td>\n",
              "    </tr>\n",
              "  </tbody>\n",
              "</table>\n",
              "</div>"
            ],
            "text/plain": [
              "            Sentence #     Word      POS      Tag\n",
              "count            47959  1048575  1048575  1048575\n",
              "unique           47959    35178       42       17\n",
              "top     Sentence: 7244      the       NN        O\n",
              "freq                 1    52573   145807   887908"
            ]
          },
          "metadata": {
            "tags": []
          },
          "execution_count": 13
        }
      ]
    },
    {
      "cell_type": "code",
      "metadata": {
        "colab": {
          "base_uri": "https://localhost:8080/"
        },
        "id": "ATLmvXqJegHF",
        "outputId": "db4ba6a2-ae24-42df-c9f9-8d39a1d3abb4"
      },
      "source": [
        "data.dtypes"
      ],
      "execution_count": null,
      "outputs": [
        {
          "output_type": "execute_result",
          "data": {
            "text/plain": [
              "Sentence #    object\n",
              "Word          object\n",
              "POS           object\n",
              "Tag           object\n",
              "dtype: object"
            ]
          },
          "metadata": {
            "tags": []
          },
          "execution_count": 14
        }
      ]
    },
    {
      "cell_type": "code",
      "metadata": {
        "colab": {
          "base_uri": "https://localhost:8080/",
          "height": 204
        },
        "id": "avb-_5fiZCsb",
        "outputId": "816e143d-f10e-432b-a6d8-486c948f1690"
      },
      "source": [
        "data.head()"
      ],
      "execution_count": null,
      "outputs": [
        {
          "output_type": "execute_result",
          "data": {
            "text/html": [
              "<div>\n",
              "<style scoped>\n",
              "    .dataframe tbody tr th:only-of-type {\n",
              "        vertical-align: middle;\n",
              "    }\n",
              "\n",
              "    .dataframe tbody tr th {\n",
              "        vertical-align: top;\n",
              "    }\n",
              "\n",
              "    .dataframe thead th {\n",
              "        text-align: right;\n",
              "    }\n",
              "</style>\n",
              "<table border=\"1\" class=\"dataframe\">\n",
              "  <thead>\n",
              "    <tr style=\"text-align: right;\">\n",
              "      <th></th>\n",
              "      <th>Sentence #</th>\n",
              "      <th>Word</th>\n",
              "      <th>POS</th>\n",
              "      <th>Tag</th>\n",
              "    </tr>\n",
              "  </thead>\n",
              "  <tbody>\n",
              "    <tr>\n",
              "      <th>0</th>\n",
              "      <td>Sentence: 1</td>\n",
              "      <td>Thousands</td>\n",
              "      <td>NNS</td>\n",
              "      <td>O</td>\n",
              "    </tr>\n",
              "    <tr>\n",
              "      <th>1</th>\n",
              "      <td>NaN</td>\n",
              "      <td>of</td>\n",
              "      <td>IN</td>\n",
              "      <td>O</td>\n",
              "    </tr>\n",
              "    <tr>\n",
              "      <th>2</th>\n",
              "      <td>NaN</td>\n",
              "      <td>demonstrators</td>\n",
              "      <td>NNS</td>\n",
              "      <td>O</td>\n",
              "    </tr>\n",
              "    <tr>\n",
              "      <th>3</th>\n",
              "      <td>NaN</td>\n",
              "      <td>have</td>\n",
              "      <td>VBP</td>\n",
              "      <td>O</td>\n",
              "    </tr>\n",
              "    <tr>\n",
              "      <th>4</th>\n",
              "      <td>NaN</td>\n",
              "      <td>marched</td>\n",
              "      <td>VBN</td>\n",
              "      <td>O</td>\n",
              "    </tr>\n",
              "  </tbody>\n",
              "</table>\n",
              "</div>"
            ],
            "text/plain": [
              "    Sentence #           Word  POS Tag\n",
              "0  Sentence: 1      Thousands  NNS   O\n",
              "1          NaN             of   IN   O\n",
              "2          NaN  demonstrators  NNS   O\n",
              "3          NaN           have  VBP   O\n",
              "4          NaN        marched  VBN   O"
            ]
          },
          "metadata": {
            "tags": []
          },
          "execution_count": 9
        }
      ]
    },
    {
      "cell_type": "code",
      "metadata": {
        "colab": {
          "base_uri": "https://localhost:8080/"
        },
        "id": "Xd_uzapdnAN2",
        "outputId": "4b4726d0-b396-4377-b1ec-87bc06ced810"
      },
      "source": [
        "data['Tag'].value_counts()"
      ],
      "execution_count": null,
      "outputs": [
        {
          "output_type": "execute_result",
          "data": {
            "text/plain": [
              "O        887908\n",
              "B-geo     37644\n",
              "B-tim     20333\n",
              "B-org     20143\n",
              "I-per     17251\n",
              "B-per     16990\n",
              "I-org     16784\n",
              "B-gpe     15870\n",
              "I-geo      7414\n",
              "I-tim      6528\n",
              "B-art       402\n",
              "B-eve       308\n",
              "I-art       297\n",
              "I-eve       253\n",
              "B-nat       201\n",
              "I-gpe       198\n",
              "I-nat        51\n",
              "Name: Tag, dtype: int64"
            ]
          },
          "metadata": {
            "tags": []
          },
          "execution_count": 24
        }
      ]
    },
    {
      "cell_type": "code",
      "metadata": {
        "id": "7P1oLwIYn1-7"
      },
      "source": [
        ""
      ],
      "execution_count": null,
      "outputs": []
    },
    {
      "cell_type": "code",
      "metadata": {
        "colab": {
          "base_uri": "https://localhost:8080/",
          "height": 435
        },
        "id": "nJnEbEQmljk4",
        "outputId": "eb5a73d5-deca-460c-8047-d3761c9fc036"
      },
      "source": [
        "value_count = data['Tag'].value_counts()\n",
        "fig, axs = plt.subplots(figsize = (10, 6))\n",
        "axs.barh(value_count.index, value_count, height = 0.6, color = 'cornflowerblue')\n",
        "axs.set_ylabel('Tag', fontsize = 15)\n",
        "axs.set_xlabel('Count', fontsize = 15)\n",
        "axs.set_xscale('log')\n",
        "axs.set_title('Value Counts for Tags', fontsize = 20)"
      ],
      "execution_count": null,
      "outputs": [
        {
          "output_type": "execute_result",
          "data": {
            "text/plain": [
              "Text(0.5, 1.0, 'Value Counts for Tags')"
            ]
          },
          "metadata": {
            "tags": []
          },
          "execution_count": 39
        },
        {
          "output_type": "display_data",
          "data": {
            "image/png": "[encoded data removed]",
            "text/plain": [
              "<Figure size 720x432 with 1 Axes>"
            ]
          },
          "metadata": {
            "tags": [],
            "needs_background": "light"
          }
        }
      ]
    },
    {
      "cell_type": "code",
      "metadata": {
        "id": "Fo85NaYBaYiy"
      },
      "source": [
        "# fill in the empty positions in column Sentence #\n",
        "sentence_sep = data['Sentence #'].isna()\n",
        "for i in range(data.shape[0]):\n",
        "    if sentence_sep[i]:\n",
        "        data.iloc[i,0] = data.iloc[i-1,0]"
      ],
      "execution_count": null,
      "outputs": []
    },
    {
      "cell_type": "code",
      "metadata": {
        "id": "-98_0ltxhRNk"
      },
      "source": [
        "# save imputed dataset to csv\n",
        "data.to_csv('NER_data/ner_dataset_fill.csv', index=False)"
      ],
      "execution_count": null,
      "outputs": []
    },
    {
      "cell_type": "markdown",
      "metadata": {
        "id": "VkmZJe2Rlgkv"
      },
      "source": [
        "## Start to run from here!"
      ]
    },
    {
      "cell_type": "code",
      "metadata": {
        "id": "acMTy4pklXHW"
      },
      "source": [
        "# read in imputed dataset\n",
        "df = pd.read_csv('NER_data/ner_dataset_fill.csv', index_col=False, encoding=\"latin1\")"
      ],
      "execution_count": null,
      "outputs": []
    },
    {
      "cell_type": "code",
      "metadata": {
        "colab": {
          "base_uri": "https://localhost:8080/",
          "height": 197
        },
        "id": "lOz7WjktmGGh",
        "outputId": "d160ab42-52d2-4225-8554-ad477535c174"
      },
      "source": [
        "df.head()"
      ],
      "execution_count": null,
      "outputs": [
        {
          "output_type": "execute_result",
          "data": {
            "text/html": [
              "<div>\n",
              "<style scoped>\n",
              "    .dataframe tbody tr th:only-of-type {\n",
              "        vertical-align: middle;\n",
              "    }\n",
              "\n",
              "    .dataframe tbody tr th {\n",
              "        vertical-align: top;\n",
              "    }\n",
              "\n",
              "    .dataframe thead th {\n",
              "        text-align: right;\n",
              "    }\n",
              "</style>\n",
              "<table border=\"1\" class=\"dataframe\">\n",
              "  <thead>\n",
              "    <tr style=\"text-align: right;\">\n",
              "      <th></th>\n",
              "      <th>Sentence #</th>\n",
              "      <th>Word</th>\n",
              "      <th>POS</th>\n",
              "      <th>Tag</th>\n",
              "    </tr>\n",
              "  </thead>\n",
              "  <tbody>\n",
              "    <tr>\n",
              "      <th>0</th>\n",
              "      <td>Sentence: 1</td>\n",
              "      <td>Thousands</td>\n",
              "      <td>NNS</td>\n",
              "      <td>O</td>\n",
              "    </tr>\n",
              "    <tr>\n",
              "      <th>1</th>\n",
              "      <td>Sentence: 1</td>\n",
              "      <td>of</td>\n",
              "      <td>IN</td>\n",
              "      <td>O</td>\n",
              "    </tr>\n",
              "    <tr>\n",
              "      <th>2</th>\n",
              "      <td>Sentence: 1</td>\n",
              "      <td>demonstrators</td>\n",
              "      <td>NNS</td>\n",
              "      <td>O</td>\n",
              "    </tr>\n",
              "    <tr>\n",
              "      <th>3</th>\n",
              "      <td>Sentence: 1</td>\n",
              "      <td>have</td>\n",
              "      <td>VBP</td>\n",
              "      <td>O</td>\n",
              "    </tr>\n",
              "    <tr>\n",
              "      <th>4</th>\n",
              "      <td>Sentence: 1</td>\n",
              "      <td>marched</td>\n",
              "      <td>VBN</td>\n",
              "      <td>O</td>\n",
              "    </tr>\n",
              "  </tbody>\n",
              "</table>\n",
              "</div>"
            ],
            "text/plain": [
              "    Sentence #           Word  POS Tag\n",
              "0  Sentence: 1      Thousands  NNS   O\n",
              "1  Sentence: 1             of   IN   O\n",
              "2  Sentence: 1  demonstrators  NNS   O\n",
              "3  Sentence: 1           have  VBP   O\n",
              "4  Sentence: 1        marched  VBN   O"
            ]
          },
          "metadata": {
            "tags": []
          },
          "execution_count": 41
        }
      ]
    },
    {
      "cell_type": "code",
      "metadata": {
        "colab": {
          "base_uri": "https://localhost:8080/"
        },
        "id": "l99hJuJ7m5j0",
        "outputId": "1e42925e-1a02-427b-f6c2-fd85b78d023a"
      },
      "source": [
        "# check if there are any NAs left\n",
        "df.isna().any()"
      ],
      "execution_count": null,
      "outputs": [
        {
          "output_type": "execute_result",
          "data": {
            "text/plain": [
              "Sentence #    False\n",
              "Word          False\n",
              "POS           False\n",
              "Tag           False\n",
              "dtype: bool"
            ]
          },
          "metadata": {
            "tags": []
          },
          "execution_count": 42
        }
      ]
    },
    {
      "cell_type": "code",
      "metadata": {
        "id": "vMdhLvsZlpPa"
      },
      "source": [
        "# Create unique word list, store the list and its length\n",
        "words = sorted(df['Word'].unique())\n",
        "words.append('ENDPAD')\n",
        "words_size = len(words)\n",
        "\n",
        "# Create unique tag list, store the list and its length\n",
        "tags = sorted(df['Tag'].unique())\n",
        "tags.append('PAD')\n",
        "tags_size = len(tags)\n",
        "\n",
        "# Create two dictionaries word:word_idx and word_idx:word\n",
        "word2idx = {value: count for count, value in enumerate(words)}\n",
        "idx2word = {count: value for value, count in word2idx.items()}\n",
        "\n",
        "# Create two dictionaries tag:tag_idx and tag_idx:tag\n",
        "tag2idx = {value: count for count, value in enumerate(tags)}\n",
        "idx2tag = {count: value for value, count in tag2idx.items()}"
      ],
      "execution_count": null,
      "outputs": []
    },
    {
      "cell_type": "code",
      "metadata": {
        "colab": {
          "base_uri": "https://localhost:8080/"
        },
        "id": "6KJ9JA6byRGL",
        "outputId": "88f1dff9-417a-45d1-d194-95cf7bbe7881"
      },
      "source": [
        "# create list of list where each inner list is the list of word for each sentences\n",
        "# create list of list where each inner list is the list of tag for each sentences\n",
        "sentence_group = df.groupby('Sentence #')\n",
        "sentence_list = []\n",
        "tag_list = []\n",
        "count = 1\n",
        "for sen in sentence_group.groups.keys():\n",
        "    if count % 5000 == 0:\n",
        "        print(f'iter: {count}')\n",
        "    count += 1\n",
        "    df_group = sentence_group.get_group(sen)\n",
        "    sentence_list.append(df_group['Word'].tolist())\n",
        "    tag_list.append(df_group['Tag'].tolist())"
      ],
      "execution_count": null,
      "outputs": [
        {
          "output_type": "stream",
          "text": [
            "iter: 5000\n",
            "iter: 10000\n",
            "iter: 15000\n",
            "iter: 20000\n",
            "iter: 25000\n",
            "iter: 30000\n",
            "iter: 35000\n",
            "iter: 40000\n",
            "iter: 45000\n"
          ],
          "name": "stdout"
        }
      ]
    },
    {
      "cell_type": "code",
      "metadata": {
        "colab": {
          "base_uri": "https://localhost:8080/"
        },
        "id": "8AwZfJD-06Ex",
        "outputId": "04cc82c0-547c-4870-a3e0-4ed10fc9548f"
      },
      "source": [
        "# pick the appropriate sentence length. Here we want to make sure that the majority of our sentences is shorter than our picked length.\n",
        "# evectually we land on the 99.75% percentile.\n",
        "max_length = int(np.percentile([len(sen) for sen in sentence_list], 99.75))\n",
        "num_long_length = len([sen for sen in sentence_list if len(sen) > 40])\n",
        "print(f'Picked max length for one sentence: {max_length}')\n",
        "print(f'Number of sentences being trimmed: {num_long_length}')"
      ],
      "execution_count": null,
      "outputs": [
        {
          "output_type": "stream",
          "text": [
            "Picked max length for one sentence: 50\n",
            "Number of sentences being trimmed: 772\n"
          ],
          "name": "stdout"
        }
      ]
    },
    {
      "cell_type": "code",
      "metadata": {
        "id": "A7OZLyfrMqsx"
      },
      "source": [
        "# set max_length\n",
        "max_length = 50"
      ],
      "execution_count": null,
      "outputs": []
    },
    {
      "cell_type": "markdown",
      "metadata": {
        "id": "AncWxAD3Of_5"
      },
      "source": [
        "## Train Test Split"
      ]
    },
    {
      "cell_type": "code",
      "metadata": {
        "id": "aJFliV0rKWoW"
      },
      "source": [
        "# split train-test with ratio 0.1\n",
        "sent_tr, sent_te, tag_tr, tag_te = train_test_split(sentence_list, tag_list, test_size=0.1, random_state=42)"
      ],
      "execution_count": null,
      "outputs": []
    },
    {
      "cell_type": "markdown",
      "metadata": {
        "id": "JAVBsU75PpgN"
      },
      "source": [
        "## LSTM Pre-Processing"
      ]
    },
    {
      "cell_type": "code",
      "metadata": {
        "id": "s0T1V_Dazm0u"
      },
      "source": [
        "# create list of list where each inner list is the list of word indices for each sentences\n",
        "# create list of list where each inner list is the list of tag indices for each sentences\n",
        "X_tr = []\n",
        "y_tr = []\n",
        "for i in range(len(sent_tr)):\n",
        "    X_tr.append(list(map(word2idx.get, sent_tr[i])))\n",
        "    y_tr.append(list(map(tag2idx.get, tag_tr[i])))\n",
        "\n",
        "X_te = []\n",
        "y_te = []\n",
        "for i in range(len(sent_te)):\n",
        "    X_te.append(list(map(word2idx.get, sent_te[i])))\n",
        "    y_te.append(list(map(tag2idx.get, tag_te[i])))"
      ],
      "execution_count": null,
      "outputs": []
    },
    {
      "cell_type": "code",
      "metadata": {
        "id": "Ahwtu2bE2-0U"
      },
      "source": [
        "# pad both our X and y \n",
        "X_tr_pad = pad_sequences(sequences = X_tr, maxlen = max_length, padding = 'post', value = word2idx['ENDPAD'])\n",
        "y_tr_pad = pad_sequences(sequences = y_tr, maxlen = max_length, padding = 'post', value = tag2idx[\"PAD\"])\n",
        "\n",
        "X_te_pad = pad_sequences(sequences = X_te, maxlen = max_length, padding = 'post', value = word2idx['ENDPAD'])\n",
        "y_te_pad = pad_sequences(sequences = y_te, maxlen = max_length, padding = 'post', value = tag2idx[\"PAD\"])"
      ],
      "execution_count": null,
      "outputs": []
    },
    {
      "cell_type": "code",
      "metadata": {
        "colab": {
          "base_uri": "https://localhost:8080/"
        },
        "id": "R1DAW16ArjSY",
        "outputId": "1ad8d688-1a43-4d40-f7b2-308ca4ab4779"
      },
      "source": [
        "# examine class imbalance in training data\n",
        "s, count = np.unique(list(np.concatenate(y_tr_pad).flat), return_counts=True)\n",
        "print(pd.DataFrame(count, index = tags, columns = ['Count']))"
      ],
      "execution_count": null,
      "outputs": [
        {
          "output_type": "stream",
          "text": [
            "         Count\n",
            "B-art      355\n",
            "B-eve      272\n",
            "B-geo    33836\n",
            "B-gpe    14267\n",
            "B-nat      179\n",
            "B-org    18075\n",
            "B-per    15311\n",
            "B-tim    18285\n",
            "I-art      257\n",
            "I-eve      213\n",
            "I-geo     6697\n",
            "I-gpe      182\n",
            "I-nat       42\n",
            "I-org    15075\n",
            "I-per    15584\n",
            "I-tim     5931\n",
            "O       798806\n",
            "PAD    1214783\n"
          ],
          "name": "stdout"
        }
      ]
    },
    {
      "cell_type": "code",
      "metadata": {
        "colab": {
          "base_uri": "https://localhost:8080/"
        },
        "id": "fJ5kixgmzRb-",
        "outputId": "7d2a84cb-9d71-4b45-f432-1242dbe1e6e1"
      },
      "source": [
        "# calculate average count per class\n",
        "np.mean(count)"
      ],
      "execution_count": null,
      "outputs": [
        {
          "output_type": "execute_result",
          "data": {
            "text/plain": [
              "119897.22222222222"
            ]
          },
          "metadata": {
            "tags": []
          },
          "execution_count": 175
        }
      ]
    },
    {
      "cell_type": "code",
      "metadata": {
        "id": "TlBWO8yvqU7k"
      },
      "source": [
        "# one hot encode our target variable\n",
        "y_tr_pad = to_categorical(y_tr_pad, num_classes=tags_size)\n",
        "\n",
        "y_te_pad = to_categorical(y_te_pad, num_classes=tags_size)"
      ],
      "execution_count": null,
      "outputs": []
    },
    {
      "cell_type": "markdown",
      "metadata": {
        "id": "1MO8erkpHP9c"
      },
      "source": [
        "## Build Bidirectional LSTM Model"
      ]
    },
    {
      "cell_type": "code",
      "metadata": {
        "id": "DhRgrgS7IqY-"
      },
      "source": [
        "# set parameters for Bidirectional LSTM\n",
        "n_units = 100\n",
        "drop_rate = .1\n",
        "dim_embed = 50\n",
        "\n",
        "optimizer = \"rmsprop\"\n",
        "metrics = ['categorical_accuracy']\n",
        "\n",
        "batch_size = 32\n",
        "epochs = 20\n",
        "validation_split = 0.1\n",
        "verbose = 1"
      ],
      "execution_count": null,
      "outputs": []
    },
    {
      "cell_type": "code",
      "metadata": {
        "id": "tKyoVvS_gE2p"
      },
      "source": [
        "# calculate potential class weights for loss based on class imbalance\n",
        "# didn't use this part eventually\n",
        "y_tr_int = np.argmax(y_tr_pad, axis=2).flatten()\n",
        "class_weights = compute_class_weight('balanced', np.unique(y_tr_int), y_tr_int)\n",
        "class_weights = np.asarray(class_weights)"
      ],
      "execution_count": null,
      "outputs": []
    },
    {
      "cell_type": "code",
      "metadata": {
        "id": "VaATzl2Abdp2"
      },
      "source": [
        "# to calculate the standard categorical cross entropy, we set the class weight to all ones\n",
        "weights = [1,1,1,1,1,1,1,1,1,1,1,1,1,1,1,1,1,1]"
      ],
      "execution_count": null,
      "outputs": []
    },
    {
      "cell_type": "code",
      "metadata": {
        "id": "2W9FrAmqbWWv"
      },
      "source": [
        "# define a custom loss function that combines class weights with categorical cross entropy loss\n",
        "def custom_loss(y_true, y_pred):\n",
        "\n",
        "  # get the first two dimensions from y_pred\n",
        "  if y_pred.shape[0] is None:\n",
        "    x = 1\n",
        "  else:\n",
        "    x = int(y_pred.shape[0])\n",
        "  y = y_pred.shape[1]\n",
        "\n",
        "  # reshape weight for each batch\n",
        "  batch_weights = np.array([np.array(weights)] * (x*y))\n",
        "  batch_weights = batch_weights.reshape(x,y,18)\n",
        "  batch_weights = tf.cast(batch_weights, tf.float64)\n",
        "\n",
        "  # cast y_true and y_pred into tf.float64\n",
        "  y_true = tf.cast(y_true, tf.float64)\n",
        "  y_pred = tf.cast(y_pred, tf.float64)\n",
        "\n",
        "  # return weighted categorical cross entropy\n",
        "  return tf.math.reduce_sum(y_true * batch_weights, axis=-1) * tf.keras.losses.categorical_crossentropy(y_true, y_pred)"
      ],
      "execution_count": null,
      "outputs": []
    },
    {
      "cell_type": "code",
      "metadata": {
        "id": "vBSvIjC_3_K8"
      },
      "source": [
        "# Build BiLSTM model\n",
        "model_title = \"BiLSTM\"\n",
        "lstm = Sequential()\n",
        "lstm.add(\n",
        "    Embedding(\n",
        "        input_dim = words_size, output_dim = dim_embed, input_length = max_length\n",
        "    )\n",
        ")\n",
        "lstm.add(Dropout(drop_rate))\n",
        "lstm.add(Bidirectional(LSTM(n_units, return_sequences = True)))\n",
        "lstm.add(TimeDistributed(Dense(tags_size, activation = 'softmax')))\n",
        "\n",
        "# Compile model\n",
        "lstm.compile(optimizer=optimizer, loss=custom_loss, metrics=metrics)"
      ],
      "execution_count": null,
      "outputs": []
    },
    {
      "cell_type": "code",
      "metadata": {
        "id": "IyoIJgi4mUCB",
        "colab": {
          "base_uri": "https://localhost:8080/"
        },
        "outputId": "64bb60bb-c9e6-4fe6-f233-98ea7d53044b"
      },
      "source": [
        "print(lstm.summary())"
      ],
      "execution_count": null,
      "outputs": [
        {
          "output_type": "stream",
          "text": [
            "Model: \"sequential_3\"\n",
            "_________________________________________________________________\n",
            "Layer (type)                 Output Shape              Param #   \n",
            "=================================================================\n",
            "embedding_3 (Embedding)      (None, 50, 50)            1758950   \n",
            "_________________________________________________________________\n",
            "dropout_79 (Dropout)         (None, 50, 50)            0         \n",
            "_________________________________________________________________\n",
            "bidirectional_3 (Bidirection (None, 50, 200)           120800    \n",
            "_________________________________________________________________\n",
            "time_distributed_3 (TimeDist (None, 50, 18)            3618      \n",
            "=================================================================\n",
            "Total params: 1,883,368\n",
            "Trainable params: 1,883,368\n",
            "Non-trainable params: 0\n",
            "_________________________________________________________________\n",
            "None\n"
          ],
          "name": "stdout"
        }
      ]
    },
    {
      "cell_type": "code",
      "metadata": {
        "id": "vwUHY9vARMqz"
      },
      "source": [
        "# set early stopping for model\n",
        "early_stopping = tf.keras.callbacks.EarlyStopping(\n",
        "    monitor='val_loss', min_delta=0, patience=3, verbose=0, mode='auto'\n",
        ")\n",
        "\n",
        "callbacks = [early_stopping]"
      ],
      "execution_count": null,
      "outputs": []
    },
    {
      "cell_type": "code",
      "metadata": {
        "colab": {
          "base_uri": "https://localhost:8080/"
        },
        "id": "ztk1y9rJKPdj",
        "outputId": "d5cbfb12-51ca-4bd0-dfbf-db56b4f0ce70"
      },
      "source": [
        "# fit the model\n",
        "history = lstm.fit(X_tr_pad, y_tr_pad, batch_size=batch_size, epochs=epochs, \n",
        "                  validation_split=validation_split, callbacks=callbacks, verbose=verbose)"
      ],
      "execution_count": null,
      "outputs": [
        {
          "output_type": "stream",
          "text": [
            "Epoch 1/20\n",
            "1214/1214 [==============================] - 20s 15ms/step - loss: 0.3041 - categorical_accuracy: 0.9265 - val_loss: 0.0626 - val_categorical_accuracy: 0.9816\n",
            "Epoch 2/20\n",
            "1214/1214 [==============================] - 17s 14ms/step - loss: 0.0557 - categorical_accuracy: 0.9838 - val_loss: 0.0521 - val_categorical_accuracy: 0.9846\n",
            "Epoch 3/20\n",
            "1214/1214 [==============================] - 17s 14ms/step - loss: 0.0446 - categorical_accuracy: 0.9869 - val_loss: 0.0490 - val_categorical_accuracy: 0.9853\n",
            "Epoch 4/20\n",
            "1214/1214 [==============================] - 17s 14ms/step - loss: 0.0398 - categorical_accuracy: 0.9882 - val_loss: 0.0476 - val_categorical_accuracy: 0.9857\n",
            "Epoch 5/20\n",
            "1214/1214 [==============================] - 17s 14ms/step - loss: 0.0368 - categorical_accuracy: 0.9891 - val_loss: 0.0469 - val_categorical_accuracy: 0.9859\n",
            "Epoch 6/20\n",
            "1214/1214 [==============================] - 17s 14ms/step - loss: 0.0339 - categorical_accuracy: 0.9899 - val_loss: 0.0476 - val_categorical_accuracy: 0.9857\n",
            "Epoch 7/20\n",
            "1214/1214 [==============================] - 17s 14ms/step - loss: 0.0314 - categorical_accuracy: 0.9905 - val_loss: 0.0466 - val_categorical_accuracy: 0.9860\n",
            "Epoch 8/20\n",
            "1214/1214 [==============================] - 17s 14ms/step - loss: 0.0298 - categorical_accuracy: 0.9910 - val_loss: 0.0486 - val_categorical_accuracy: 0.9858\n",
            "Epoch 9/20\n",
            "1214/1214 [==============================] - 18s 14ms/step - loss: 0.0276 - categorical_accuracy: 0.9917 - val_loss: 0.0474 - val_categorical_accuracy: 0.9860\n",
            "Epoch 10/20\n",
            "1214/1214 [==============================] - 17s 14ms/step - loss: 0.0257 - categorical_accuracy: 0.9921 - val_loss: 0.0496 - val_categorical_accuracy: 0.9855\n"
          ],
          "name": "stdout"
        }
      ]
    },
    {
      "cell_type": "code",
      "metadata": {
        "colab": {
          "base_uri": "https://localhost:8080/"
        },
        "id": "-eqnSdQSLRXs",
        "outputId": "c08ba263-06ec-47e3-e7d2-6ab9e8f5185e"
      },
      "source": [
        "# Examine performance for  \n",
        "lstm_pred = lstm.predict(X_te_pad, batch_size = batch_size, verbose = verbose)\n",
        "lstm_pred_flat = np.argmax(lstm_pred, axis = 2).flatten()\n",
        "y_te_flat = np.argmax(y_te_pad, axis = 2).flatten()\n",
        "\n",
        "# display f1 score for each class and \n",
        "f1_lstm = f1_score(y_te_flat, lstm_pred_flat, average = None)\n",
        "print(pd.DataFrame(f1_lstm, index = tags))\n",
        "print('Mean F1 across classes: ',np.mean(f1_lstm))"
      ],
      "execution_count": null,
      "outputs": [
        {
          "output_type": "stream",
          "text": [
            "150/150 [==============================] - 1s 4ms/step\n",
            "              0\n",
            "B-art  0.000000\n",
            "B-eve  0.266667\n",
            "B-geo  0.873587\n",
            "B-gpe  0.950192\n",
            "B-nat  0.320000\n",
            "B-org  0.725926\n",
            "B-per  0.835412\n",
            "B-tim  0.900000\n",
            "I-art  0.000000\n",
            "I-eve  0.000000\n",
            "I-geo  0.813031\n",
            "I-gpe  0.666667\n",
            "I-nat  0.000000\n",
            "I-org  0.769581\n",
            "I-per  0.872978\n",
            "I-tim  0.784965\n",
            "O      0.990783\n",
            "PAD    1.000000\n",
            "Mean F1 across classes:  0.5983215588987709\n"
          ],
          "name": "stdout"
        }
      ]
    },
    {
      "cell_type": "markdown",
      "metadata": {
        "id": "YYF0X9Lx8ZQK"
      },
      "source": [
        "### Entity-level for LSTM"
      ]
    },
    {
      "cell_type": "code",
      "metadata": {
        "id": "KApgBXSN9Meg"
      },
      "source": [
        "lstm_pred_decode = np.argmax(lstm_pred, axis = 2)"
      ],
      "execution_count": null,
      "outputs": []
    },
    {
      "cell_type": "code",
      "metadata": {
        "id": "JMhlVd5m8pkb"
      },
      "source": [
        "lstm_pred_tag = []\n",
        "y_true_tag_lstm = []\n",
        "\n",
        "y_true_te = np.argmax(y_te_pad, axis = 2)\n",
        "\n",
        "for i in range(len(y_true_te)):\n",
        "  lstm_pred_tag.append(list(map(idx2tag.get, lstm_pred_decode[i])))\n",
        "  y_true_tag_lstm.append(list(map(idx2tag.get, y_true_te[i])))"
      ],
      "execution_count": null,
      "outputs": []
    },
    {
      "cell_type": "code",
      "metadata": {
        "id": "S5AYsIxs8xM2"
      },
      "source": [
        "entity_tag = ['art', 'eve', 'geo', 'gpe', 'nat', 'org', 'per', 'tim']"
      ],
      "execution_count": null,
      "outputs": []
    },
    {
      "cell_type": "code",
      "metadata": {
        "id": "zRM257bH80ph"
      },
      "source": [
        "from copy import deepcopy\n",
        "\n",
        "metrics_results = {'correct': 0, 'incorrect': 0, 'partial': 0,\n",
        "                   'missed': 0, 'spurious': 0, 'possible': 0, 'actual': 0, 'precision': 0,'recall': 0,}\n",
        "\n",
        "# overall results\n",
        "results = {'strict': deepcopy(metrics_results),\n",
        "           'ent_type': deepcopy(metrics_results),\n",
        "           \n",
        "           }\n",
        "\n",
        "# results aggregated by entity type\n",
        "evaluation_agg_entities_type_lstm = {e: deepcopy(results) for e in entity_tag}\n",
        "\n",
        "for true_ents, pred_ents in zip(y_true_tag_lstm, lstm_pred_tag):    \n",
        "    # compute results for one message\n",
        "    tmp_results, tmp_agg_results = compute_metrics(collect_named_entities(true_ents),collect_named_entities(pred_ents), entity_tag)\n",
        "\n",
        "    # aggregate overall results\n",
        "    for eval_schema in results.keys():\n",
        "        for metric in metrics_results.keys():\n",
        "            results[eval_schema][metric] += tmp_results[eval_schema][metric]\n",
        "\n",
        "\n",
        "    # aggregate results by entity type\n",
        "    for e_type in entity_tag:\n",
        "        for eval_schema in evaluation_agg_entities_type_lstm[e_type]:\n",
        "            for metric in tmp_agg_results[e_type][eval_schema]:\n",
        "                evaluation_agg_entities_type_lstm[e_type][eval_schema][metric] += tmp_agg_results[e_type][eval_schema][metric]"
      ],
      "execution_count": null,
      "outputs": []
    },
    {
      "cell_type": "code",
      "metadata": {
        "colab": {
          "base_uri": "https://localhost:8080/"
        },
        "id": "PhDwodOV89Wt",
        "outputId": "6dfb5afd-0efe-4361-b3e5-e62776b725cd"
      },
      "source": [
        "f1_lstm_entity = make_precision_recall(evaluation_agg_entities_type_lstm,'strict')\n",
        "f1_lstm_entity"
      ],
      "execution_count": null,
      "outputs": [
        {
          "output_type": "execute_result",
          "data": {
            "text/plain": [
              "{'art': {'f1': 0, 'precision': 0.0, 'recall': 0.0},\n",
              " 'eve': {'f1': 0.010498687664041995,\n",
              "  'precision': 0.005415162454873646,\n",
              "  'recall': 0.17142857142857143},\n",
              " 'geo': {'f1': 0.7960410038882997,\n",
              "  'precision': 0.7201023235983799,\n",
              "  'recall': 0.8898840885142255},\n",
              " 'gpe': {'f1': 0.6989424206815511,\n",
              "  'precision': 0.5583927900863688,\n",
              "  'recall': 0.9340452261306532},\n",
              " 'nat': {'f1': 0.0071492403932082215,\n",
              "  'precision': 0.003639672429481347,\n",
              "  'recall': 0.2},\n",
              " 'org': {'f1': 0.5622977346278317,\n",
              "  'precision': 0.48280653004515456,\n",
              "  'recall': 0.6731234866828087},\n",
              " 'per': {'f1': 0.592280701754386,\n",
              "  'precision': 0.4863618901267768,\n",
              "  'recall': 0.757177033492823},\n",
              " 'tim': {'f1': 0.7002858309514088,\n",
              "  'precision': 0.5983949755757153,\n",
              "  'recall': 0.843996062992126}}"
            ]
          },
          "metadata": {
            "tags": []
          },
          "execution_count": 223
        }
      ]
    },
    {
      "cell_type": "markdown",
      "metadata": {
        "id": "jyRUQHNH7zXZ"
      },
      "source": [
        "## Build BERT"
      ]
    },
    {
      "cell_type": "code",
      "metadata": {
        "id": "9c8TzOwK74ad",
        "colab": {
          "base_uri": "https://localhost:8080/",
          "height": 684,
          "referenced_widgets": [
            "cd5caa00a4ac4bc38bbbceb48b2dd33b",
            "56f46e1f97174a72b15adb00b53fbc94",
            "cdecdd737d6541b6b2b596596127e5d4",
            "b49d1b626e6b4335baa37597330ce1cf",
            "def1a1a70ecc41dbbccb2d7e97f17c80",
            "7214cadeca1f45018a7f0d4a0ee1bf13",
            "44cbe0778c474e87b6dfceb9d03727f4",
            "13e2a4811a604e1c9de14d84329bbef7",
            "5c2a9302425e4766908660c7637b885c",
            "ed1dd66ee1374d2ea93c20f03b999fb4",
            "b68194bd675948f1944ce6f95a12706d",
            "980968ab978844d392b370683f3d9e79",
            "f1770cb9caea470696bd5c2c555e6bf5",
            "e30fde9f88924cbf9869a316f7a7a9b5",
            "6624932985a749128afaf884314fc1b7",
            "0b858a65db17449d8d90478ad8d0188e",
            "842fb8ba40d847afae3f78c72370c983",
            "f1b240eee4d54d34bf8fb341914cffe8",
            "adc5e8af724b47bba6e03f4ed4153e75",
            "2593628d5fb74c8a841b2f11f7ed5972",
            "1771d64202454854b08f9a712ecfb9f1",
            "be58fb6e06504375935c76e27408aecb",
            "4713b8c4e3074f219e8686d9e024ee3d",
            "e175f1b5102a4498b8dd083fe5f6dcc2"
          ]
        },
        "outputId": "2030bab8-d995-4380-df80-02f60303d90b"
      },
      "source": [
        "tokenizer = BertTokenizer.from_pretrained('bert-base-cased', do_lower_case=False)"
      ],
      "execution_count": null,
      "outputs": [
        {
          "output_type": "stream",
          "text": [
            "2021-04-21 00:44:19 urllib3.connectionpool DEBUG: Starting new HTTPS connection (1): huggingface.co:443\n",
            "2021-04-21 00:44:19 urllib3.connectionpool DEBUG: https://huggingface.co:443 \"HEAD /bert-base-cased/resolve/main/vocab.txt HTTP/1.1\" 200 0\n",
            "2021-04-21 00:44:19 filelock DEBUG: Attempting to acquire lock 140519708703888 on /root/.cache/huggingface/transformers/6508e60ab3c1200bffa26c95f4b58ac6b6d95fba4db1f195f632fa3cd7bc64cc.437aa611e89f6fc6675a049d2b5545390adbc617e7d655286421c191d2be2791.lock\n",
            "2021-04-21 00:44:19 filelock INFO: Lock 140519708703888 acquired on /root/.cache/huggingface/transformers/6508e60ab3c1200bffa26c95f4b58ac6b6d95fba4db1f195f632fa3cd7bc64cc.437aa611e89f6fc6675a049d2b5545390adbc617e7d655286421c191d2be2791.lock\n",
            "2021-04-21 00:44:19 urllib3.connectionpool DEBUG: Starting new HTTPS connection (1): huggingface.co:443\n",
            "2021-04-21 00:44:19 urllib3.connectionpool DEBUG: https://huggingface.co:443 \"GET /bert-base-cased/resolve/main/vocab.txt HTTP/1.1\" 200 213450\n"
          ],
          "name": "stderr"
        },
        {
          "output_type": "display_data",
          "data": {
            "application/vnd.jupyter.widget-view+json": {
              "model_id": "cd5caa00a4ac4bc38bbbceb48b2dd33b",
              "version_minor": 0,
              "version_major": 2
            },
            "text/plain": [
              "HBox(children=(FloatProgress(value=0.0, description='Downloading', max=213450.0, style=ProgressStyle(descripti…"
            ]
          },
          "metadata": {
            "tags": []
          }
        },
        {
          "output_type": "stream",
          "text": [
            "2021-04-21 00:44:20 filelock DEBUG: Attempting to release lock 140519708703888 on /root/.cache/huggingface/transformers/6508e60ab3c1200bffa26c95f4b58ac6b6d95fba4db1f195f632fa3cd7bc64cc.437aa611e89f6fc6675a049d2b5545390adbc617e7d655286421c191d2be2791.lock\n",
            "2021-04-21 00:44:20 filelock INFO: Lock 140519708703888 released on /root/.cache/huggingface/transformers/6508e60ab3c1200bffa26c95f4b58ac6b6d95fba4db1f195f632fa3cd7bc64cc.437aa611e89f6fc6675a049d2b5545390adbc617e7d655286421c191d2be2791.lock\n",
            "2021-04-21 00:44:20 urllib3.connectionpool DEBUG: Starting new HTTPS connection (1): huggingface.co:443\n"
          ],
          "name": "stderr"
        },
        {
          "output_type": "stream",
          "text": [
            "\n"
          ],
          "name": "stdout"
        },
        {
          "output_type": "stream",
          "text": [
            "2021-04-21 00:44:20 urllib3.connectionpool DEBUG: https://huggingface.co:443 \"HEAD /bert-base-cased/resolve/main/added_tokens.json HTTP/1.1\" 404 0\n",
            "2021-04-21 00:44:20 urllib3.connectionpool DEBUG: Starting new HTTPS connection (1): huggingface.co:443\n",
            "2021-04-21 00:44:20 urllib3.connectionpool DEBUG: https://huggingface.co:443 \"HEAD /bert-base-cased/resolve/main/special_tokens_map.json HTTP/1.1\" 404 0\n",
            "2021-04-21 00:44:20 urllib3.connectionpool DEBUG: Starting new HTTPS connection (1): huggingface.co:443\n",
            "2021-04-21 00:44:20 urllib3.connectionpool DEBUG: https://huggingface.co:443 \"HEAD /bert-base-cased/resolve/main/tokenizer_config.json HTTP/1.1\" 200 0\n",
            "2021-04-21 00:44:20 filelock DEBUG: Attempting to acquire lock 140517862472912 on /root/.cache/huggingface/transformers/ec84e86ee39bfe112543192cf981deebf7e6cbe8c91b8f7f8f63c9be44366158.ec5c189f89475aac7d8cbd243960a0655cfadc3d0474da8ff2ed0bf1699c2a5f.lock\n",
            "2021-04-21 00:44:20 filelock INFO: Lock 140517862472912 acquired on /root/.cache/huggingface/transformers/ec84e86ee39bfe112543192cf981deebf7e6cbe8c91b8f7f8f63c9be44366158.ec5c189f89475aac7d8cbd243960a0655cfadc3d0474da8ff2ed0bf1699c2a5f.lock\n",
            "2021-04-21 00:44:20 urllib3.connectionpool DEBUG: Starting new HTTPS connection (1): huggingface.co:443\n",
            "2021-04-21 00:44:21 urllib3.connectionpool DEBUG: https://huggingface.co:443 \"GET /bert-base-cased/resolve/main/tokenizer_config.json HTTP/1.1\" 200 29\n"
          ],
          "name": "stderr"
        },
        {
          "output_type": "display_data",
          "data": {
            "application/vnd.jupyter.widget-view+json": {
              "model_id": "5c2a9302425e4766908660c7637b885c",
              "version_minor": 0,
              "version_major": 2
            },
            "text/plain": [
              "HBox(children=(FloatProgress(value=0.0, description='Downloading', max=29.0, style=ProgressStyle(description_w…"
            ]
          },
          "metadata": {
            "tags": []
          }
        },
        {
          "output_type": "stream",
          "text": [
            "2021-04-21 00:44:21 filelock DEBUG: Attempting to release lock 140517862472912 on /root/.cache/huggingface/transformers/ec84e86ee39bfe112543192cf981deebf7e6cbe8c91b8f7f8f63c9be44366158.ec5c189f89475aac7d8cbd243960a0655cfadc3d0474da8ff2ed0bf1699c2a5f.lock\n",
            "2021-04-21 00:44:21 filelock INFO: Lock 140517862472912 released on /root/.cache/huggingface/transformers/ec84e86ee39bfe112543192cf981deebf7e6cbe8c91b8f7f8f63c9be44366158.ec5c189f89475aac7d8cbd243960a0655cfadc3d0474da8ff2ed0bf1699c2a5f.lock\n",
            "2021-04-21 00:44:21 urllib3.connectionpool DEBUG: Starting new HTTPS connection (1): huggingface.co:443\n"
          ],
          "name": "stderr"
        },
        {
          "output_type": "stream",
          "text": [
            "\n"
          ],
          "name": "stdout"
        },
        {
          "output_type": "stream",
          "text": [
            "2021-04-21 00:44:21 urllib3.connectionpool DEBUG: https://huggingface.co:443 \"HEAD /bert-base-cased/resolve/main/tokenizer.json HTTP/1.1\" 200 0\n",
            "2021-04-21 00:44:21 filelock DEBUG: Attempting to acquire lock 140519709519248 on /root/.cache/huggingface/transformers/226a307193a9f4344264cdc76a12988448a25345ba172f2c7421f3b6810fddad.3dab63143af66769bbb35e3811f75f7e16b2320e12b7935e216bd6159ce6d9a6.lock\n",
            "2021-04-21 00:44:21 filelock INFO: Lock 140519709519248 acquired on /root/.cache/huggingface/transformers/226a307193a9f4344264cdc76a12988448a25345ba172f2c7421f3b6810fddad.3dab63143af66769bbb35e3811f75f7e16b2320e12b7935e216bd6159ce6d9a6.lock\n",
            "2021-04-21 00:44:21 urllib3.connectionpool DEBUG: Starting new HTTPS connection (1): huggingface.co:443\n",
            "2021-04-21 00:44:21 urllib3.connectionpool DEBUG: https://huggingface.co:443 \"GET /bert-base-cased/resolve/main/tokenizer.json HTTP/1.1\" 200 435797\n"
          ],
          "name": "stderr"
        },
        {
          "output_type": "display_data",
          "data": {
            "application/vnd.jupyter.widget-view+json": {
              "model_id": "842fb8ba40d847afae3f78c72370c983",
              "version_minor": 0,
              "version_major": 2
            },
            "text/plain": [
              "HBox(children=(FloatProgress(value=0.0, description='Downloading', max=435797.0, style=ProgressStyle(descripti…"
            ]
          },
          "metadata": {
            "tags": []
          }
        },
        {
          "output_type": "stream",
          "text": [
            "2021-04-21 00:44:22 filelock DEBUG: Attempting to release lock 140519709519248 on /root/.cache/huggingface/transformers/226a307193a9f4344264cdc76a12988448a25345ba172f2c7421f3b6810fddad.3dab63143af66769bbb35e3811f75f7e16b2320e12b7935e216bd6159ce6d9a6.lock\n",
            "2021-04-21 00:44:22 filelock INFO: Lock 140519709519248 released on /root/.cache/huggingface/transformers/226a307193a9f4344264cdc76a12988448a25345ba172f2c7421f3b6810fddad.3dab63143af66769bbb35e3811f75f7e16b2320e12b7935e216bd6159ce6d9a6.lock\n"
          ],
          "name": "stderr"
        },
        {
          "output_type": "stream",
          "text": [
            "\n"
          ],
          "name": "stdout"
        }
      ]
    },
    {
      "cell_type": "code",
      "metadata": {
        "id": "OfZ3LE4eTuTo"
      },
      "source": [
        "def tokenize_and_preserve_labels(sentence, text_labels):\n",
        "    tokenized_sentence = []\n",
        "    labels = []\n",
        "\n",
        "    for word, label in zip(sentence, text_labels):\n",
        "\n",
        "        # Tokenize the word and count # of subwords the word is broken into\n",
        "        tokenized_word = tokenizer.tokenize(word)\n",
        "        n_subwords = len(tokenized_word)\n",
        "\n",
        "        # Add the tokenized word to the final tokenized word list\n",
        "        tokenized_sentence.extend(tokenized_word)\n",
        "\n",
        "        # Add the same label to the new list of labels `n_subwords` times\n",
        "        labels.extend([label] * n_subwords)\n",
        "\n",
        "    return tokenized_sentence, labels"
      ],
      "execution_count": null,
      "outputs": []
    },
    {
      "cell_type": "code",
      "metadata": {
        "id": "DP9vWye08n7S"
      },
      "source": [
        "def make_precision_recall(entity_level_dict, scheme):\n",
        "  bert_entity_result = {}\n",
        "  for tag in entity_level_dict.keys():\n",
        "    if tag not in bert_entity_result.keys():\n",
        "      bert_entity_result[tag] = {}\n",
        "    bert_entity_result[tag]['precision'] = entity_level_dict[tag][scheme]['correct'] / entity_level_dict[tag][scheme]['actual'] \n",
        "    bert_entity_result[tag]['recall'] = entity_level_dict[tag][scheme]['correct'] / entity_level_dict[tag][scheme]['possible']\n",
        "    if bert_entity_result[tag]['recall'] + bert_entity_result[tag]['precision'] != 0:\n",
        "      bert_entity_result[tag]['f1'] = 2 * bert_entity_result[tag]['precision'] * bert_entity_result[tag]['recall'] / (bert_entity_result[tag]['recall'] + bert_entity_result[tag]['precision'])\n",
        "    else:\n",
        "      bert_entity_result[tag]['f1'] = 0\n",
        "  return bert_entity_result"
      ],
      "execution_count": null,
      "outputs": []
    },
    {
      "cell_type": "code",
      "metadata": {
        "id": "7hCTaJ5xUHHq"
      },
      "source": [
        "tokenized_texts_and_labels_tr = [\n",
        "    tokenize_and_preserve_labels(sent, labs)\n",
        "    for sent, labs in zip(sent_tr, tag_tr)\n",
        "]\n",
        "\n",
        "tokenized_texts_and_labels_te = [\n",
        "    tokenize_and_preserve_labels(sent, labs)\n",
        "    for sent, labs in zip(sent_te, tag_te)\n",
        "]"
      ],
      "execution_count": null,
      "outputs": []
    },
    {
      "cell_type": "code",
      "metadata": {
        "id": "wtnIoZqTWTZL"
      },
      "source": [
        "tokenized_texts_tr = [token_label_pair[0] for token_label_pair in tokenized_texts_and_labels_tr]\n",
        "labels_tr = [token_label_pair[1] for token_label_pair in tokenized_texts_and_labels_tr]\n",
        "\n",
        "tokenized_texts_te = [token_label_pair[0] for token_label_pair in tokenized_texts_and_labels_te]\n",
        "labels_te = [token_label_pair[1] for token_label_pair in tokenized_texts_and_labels_te]"
      ],
      "execution_count": null,
      "outputs": []
    },
    {
      "cell_type": "code",
      "metadata": {
        "id": "WR7U63XRXcnL"
      },
      "source": [
        "tr_inputs = pad_sequences([tokenizer.convert_tokens_to_ids(txt) for txt in tokenized_texts_tr],\n",
        "                          maxlen=max_length, dtype=\"long\", value=word2idx['ENDPAD'],\n",
        "                          truncating=\"post\", padding=\"post\")\n",
        "\n",
        "te_inputs = pad_sequences([tokenizer.convert_tokens_to_ids(txt) for txt in tokenized_texts_te],\n",
        "                          maxlen=max_length, dtype=\"long\", value=word2idx['ENDPAD'],\n",
        "                          truncating=\"post\", padding=\"post\")"
      ],
      "execution_count": null,
      "outputs": []
    },
    {
      "cell_type": "code",
      "metadata": {
        "id": "3cpzJkm9YFBr"
      },
      "source": [
        "tr_tags = pad_sequences([[tag2idx.get(l) for l in lab] for lab in labels_tr],\n",
        "                     maxlen=max_length, value=tag2idx[\"PAD\"], padding=\"post\",\n",
        "                     dtype=\"long\", truncating=\"post\")\n",
        "\n",
        "te_tags = pad_sequences([[tag2idx.get(l) for l in lab] for lab in labels_te],\n",
        "                     maxlen=max_length, value=tag2idx[\"PAD\"], padding=\"post\",\n",
        "                     dtype=\"long\", truncating=\"post\")"
      ],
      "execution_count": null,
      "outputs": []
    },
    {
      "cell_type": "code",
      "metadata": {
        "id": "iya47bT1Yi1H"
      },
      "source": [
        "tr_masks = [[float(i != word2idx['ENDPAD']) for i in ii] for ii in tr_inputs]\n",
        "\n",
        "te_masks = [[float(i != word2idx['ENDPAD']) for i in ii] for ii in te_inputs]"
      ],
      "execution_count": null,
      "outputs": []
    },
    {
      "cell_type": "code",
      "metadata": {
        "id": "bhp-p9GdYj40"
      },
      "source": [
        "tr_inputs = tf.convert_to_tensor(tr_inputs)\n",
        "te_inputs = tf.convert_to_tensor(te_inputs)\n",
        "tr_tags = tf.convert_to_tensor(tr_tags)\n",
        "te_tags = tf.convert_to_tensor(te_tags)\n",
        "tr_masks = tf.convert_to_tensor(tr_masks)\n",
        "te_masks = tf.convert_to_tensor(te_masks)"
      ],
      "execution_count": null,
      "outputs": []
    },
    {
      "cell_type": "code",
      "metadata": {
        "id": "EcEVUnHQbIdT"
      },
      "source": [
        "# train_data = tf.data.Dataset(tr_inputs, tr_masks, tr_tags)\n",
        "# train_sampler = RandomSampler(train_data)\n",
        "# train_dataloader = DataLoader(train_data, sampler=train_sampler, batch_size=bs)\n",
        "\n",
        "# valid_data = TensorDataset(val_inputs, val_masks, val_tags)\n",
        "# valid_sampler = SequentialSampler(valid_data)\n",
        "# valid_dataloader = DataLoader(valid_data, sampler=valid_sampler, batch_size=bs)"
      ],
      "execution_count": null,
      "outputs": []
    },
    {
      "cell_type": "code",
      "metadata": {
        "id": "kLFs72uNcAlp"
      },
      "source": [
        "train_data = tf.data.Dataset.from_tensor_slices(((tr_inputs, \n",
        "                                                  tr_masks), \n",
        "                                                 tr_tags))\n",
        "\n",
        "val_data = tf.data.Dataset.from_tensor_slices(((te_inputs, \n",
        "                                                  te_masks), \n",
        "                                               te_tags))"
      ],
      "execution_count": null,
      "outputs": []
    },
    {
      "cell_type": "code",
      "metadata": {
        "colab": {
          "base_uri": "https://localhost:8080/"
        },
        "id": "3Zr7Niz8e6lA",
        "outputId": "2076c199-cc3f-4af8-85f6-d03f8d552d21"
      },
      "source": [
        "BATCH_SIZE = 32\n",
        "TRAIN_SHUFFLE_BUFFER_SIZE = len(tr_tags)\n",
        "VAL_SHUFFLE_BUFFER_SIZE = len(te_tags)\n",
        "PREFETCH_BUFFER_SIZE = 100\n",
        "\n",
        "# Transfer training data\n",
        "train_data = train_data.shuffle(buffer_size=TRAIN_SHUFFLE_BUFFER_SIZE)\n",
        "train_data = train_data.batch(batch_size=BATCH_SIZE)\n",
        "train_data = train_data.prefetch(buffer_size=PREFETCH_BUFFER_SIZE)\n",
        "\n",
        "# Transfer validation data\n",
        "val_data = val_data.batch(batch_size=BATCH_SIZE)\n",
        "val_data = val_data.prefetch(buffer_size=PREFETCH_BUFFER_SIZE)\n",
        "\n",
        "print('train_data: ', train_data)\n",
        "print('val_data: ', val_data)"
      ],
      "execution_count": null,
      "outputs": [
        {
          "output_type": "stream",
          "text": [
            "train_data:  <PrefetchDataset shapes: (((None, 50), (None, 50)), (None, 50)), types: ((tf.int64, tf.float32), tf.int64)>\n",
            "val_data:  <PrefetchDataset shapes: (((None, 50), (None, 50)), (None, 50)), types: ((tf.int64, tf.float32), tf.int64)>\n"
          ],
          "name": "stdout"
        }
      ]
    },
    {
      "cell_type": "code",
      "metadata": {
        "colab": {
          "base_uri": "https://localhost:8080/"
        },
        "id": "ShqUD2_gffUS",
        "outputId": "a13f5ba9-9057-44e1-b83b-14f1b66381cb"
      },
      "source": [
        "bert = TFBertForTokenClassification.from_pretrained(\n",
        "    \"bert-base-cased\",\n",
        "    num_labels=len(tag2idx),\n",
        "    output_attentions = False,\n",
        "    output_hidden_states = False\n",
        ")"
      ],
      "execution_count": null,
      "outputs": [
        {
          "output_type": "stream",
          "text": [
            "2021-04-21 01:32:23 urllib3.connectionpool DEBUG: Starting new HTTPS connection (1): huggingface.co:443\n",
            "2021-04-21 01:32:24 urllib3.connectionpool DEBUG: https://huggingface.co:443 \"HEAD /bert-base-cased/resolve/main/config.json HTTP/1.1\" 200 0\n",
            "2021-04-21 01:32:24 urllib3.connectionpool DEBUG: Starting new HTTPS connection (1): huggingface.co:443\n",
            "2021-04-21 01:32:24 urllib3.connectionpool DEBUG: https://huggingface.co:443 \"HEAD /bert-base-cased/resolve/main/tf_model.h5 HTTP/1.1\" 302 0\n",
            "All model checkpoint layers were used when initializing TFBertForTokenClassification.\n",
            "\n",
            "Some layers of TFBertForTokenClassification were not initialized from the model checkpoint at bert-base-cased and are newly initialized: ['classifier']\n",
            "You should probably TRAIN this model on a down-stream task to be able to use it for predictions and inference.\n"
          ],
          "name": "stderr"
        }
      ]
    },
    {
      "cell_type": "code",
      "metadata": {
        "id": "dtkcZjqbfjB1"
      },
      "source": [
        "FULL_FINETUNING = True\n",
        "if False:\n",
        "    param_optimizer = list(model.named_parameters())\n",
        "    no_decay = ['bias', 'gamma', 'beta']\n",
        "    optimizer_grouped_parameters = [\n",
        "        {'params': [p for n, p in param_optimizer if not any(nd in n for nd in no_decay)],\n",
        "         'weight_decay_rate': 0.01},\n",
        "        {'params': [p for n, p in param_optimizer if any(nd in n for nd in no_decay)],\n",
        "         'weight_decay_rate': 0.0}\n",
        "    ]\n",
        "else:\n",
        "    param_optimizer = list(model.classifier.named_parameters())\n",
        "    optimizer_grouped_parameters = [{\"params\": [p for n, p in param_optimizer]}]\n",
        "\n",
        "optimizer = AdamW(\n",
        "    optimizer_grouped_parameters,\n",
        "    lr=3e-5,\n",
        "    eps=1e-8\n",
        ")"
      ],
      "execution_count": null,
      "outputs": []
    },
    {
      "cell_type": "code",
      "metadata": {
        "id": "Bsa-6q5yfsRh"
      },
      "source": [
        "from transformers import get_linear_schedule_with_warmup\n",
        "\n",
        "epochs = 10\n",
        "max_grad_norm = 1.0\n",
        "\n",
        "# Total number of training steps is number of batches * number of epochs.\n",
        "# total_steps = len(train_dataloader) * epochs\n",
        "\n",
        "# Create the learning rate scheduler.\n",
        "# scheduler = get_linear_schedule_with_warmup(\n",
        "#     optimizer,\n",
        "#     num_warmup_steps=0\n",
        "#     num_training_steps=total_steps\n",
        "# )"
      ],
      "execution_count": null,
      "outputs": []
    },
    {
      "cell_type": "code",
      "metadata": {
        "id": "PmzOQvwWgOnG"
      },
      "source": [
        "import keras\n",
        "optimizer = keras.optimizers.Adam(lr=3e-5)\n",
        "# Loss\n",
        "loss = keras.losses.SparseCategoricalCrossentropy(from_logits=True)\n",
        "\n",
        "# Compile\n",
        "bert.compile(loss=loss,\n",
        "                  optimizer=optimizer,\n",
        "                  metrics=['accuracy'])\n",
        "\n",
        "# Callbacks\n",
        "# Learning Rate Scheduler: Change learning rates during training epochs\n",
        "def scheduler(epoch, lr):\n",
        "  if epoch < 10:\n",
        "    return lr\n",
        "  else:\n",
        "    return lr * 0.01\n",
        "lr_scheduler = tf.keras.callbacks.LearningRateScheduler(scheduler)\n",
        "# Early Stopping: Stop training when a monitored metric has stopped improving\n",
        "early_stopping = tf.keras.callbacks.EarlyStopping(\n",
        "    monitor='val_loss', min_delta=0, patience=3, verbose=0, mode='auto'\n",
        ")\n",
        "callbacks = [lr_scheduler,early_stopping]\n",
        "\n"
      ],
      "execution_count": null,
      "outputs": []
    },
    {
      "cell_type": "code",
      "metadata": {
        "colab": {
          "base_uri": "https://localhost:8080/"
        },
        "id": "CgwSUpdhgEVV",
        "outputId": "8176d4e6-ee04-41aa-8abf-066682f0a7a6"
      },
      "source": [
        "import time\n",
        "start_time = time.time()\n",
        "training_results = bert.fit(\n",
        "        train_data,\n",
        "        validation_data=val_data,\n",
        "        epochs=epochs, \n",
        "        callbacks=callbacks,\n",
        "        verbose=1)\n",
        "execution_time = (time.time() - start_time)/60.0\n",
        "print(\"Training execution time (mins)\",execution_time)"
      ],
      "execution_count": null,
      "outputs": [
        {
          "output_type": "stream",
          "text": [
            "Epoch 1/10\n",
            "WARNING:tensorflow:The parameters `output_attentions`, `output_hidden_states` and `use_cache` cannot be updated when calling a model.They have to be set to True/False in the config object (i.e.: `config=XConfig.from_pretrained('name', output_attentions=True)`).\n"
          ],
          "name": "stdout"
        },
        {
          "output_type": "stream",
          "text": [
            "2021-04-21 01:32:37 tensorflow WARNING: The parameters `output_attentions`, `output_hidden_states` and `use_cache` cannot be updated when calling a model.They have to be set to True/False in the config object (i.e.: `config=XConfig.from_pretrained('name', output_attentions=True)`).\n"
          ],
          "name": "stderr"
        },
        {
          "output_type": "stream",
          "text": [
            "WARNING:tensorflow:The parameter `return_dict` cannot be set in graph mode and will always be set to `True`.\n"
          ],
          "name": "stdout"
        },
        {
          "output_type": "stream",
          "text": [
            "2021-04-21 01:32:37 tensorflow WARNING: The parameter `return_dict` cannot be set in graph mode and will always be set to `True`.\n"
          ],
          "name": "stderr"
        },
        {
          "output_type": "stream",
          "text": [
            "WARNING:tensorflow:The parameters `output_attentions`, `output_hidden_states` and `use_cache` cannot be updated when calling a model.They have to be set to True/False in the config object (i.e.: `config=XConfig.from_pretrained('name', output_attentions=True)`).\n"
          ],
          "name": "stdout"
        },
        {
          "output_type": "stream",
          "text": [
            "2021-04-21 01:32:43 tensorflow WARNING: The parameters `output_attentions`, `output_hidden_states` and `use_cache` cannot be updated when calling a model.They have to be set to True/False in the config object (i.e.: `config=XConfig.from_pretrained('name', output_attentions=True)`).\n"
          ],
          "name": "stderr"
        },
        {
          "output_type": "stream",
          "text": [
            "WARNING:tensorflow:The parameter `return_dict` cannot be set in graph mode and will always be set to `True`.\n"
          ],
          "name": "stdout"
        },
        {
          "output_type": "stream",
          "text": [
            "2021-04-21 01:32:43 tensorflow WARNING: The parameter `return_dict` cannot be set in graph mode and will always be set to `True`.\n"
          ],
          "name": "stderr"
        },
        {
          "output_type": "stream",
          "text": [
            "1349/1349 [==============================] - ETA: 0s - loss: 0.2557 - accuracy: 0.9348WARNING:tensorflow:The parameters `output_attentions`, `output_hidden_states` and `use_cache` cannot be updated when calling a model.They have to be set to True/False in the config object (i.e.: `config=XConfig.from_pretrained('name', output_attentions=True)`).\n"
          ],
          "name": "stdout"
        },
        {
          "output_type": "stream",
          "text": [
            "2021-04-21 01:35:39 tensorflow WARNING: The parameters `output_attentions`, `output_hidden_states` and `use_cache` cannot be updated when calling a model.They have to be set to True/False in the config object (i.e.: `config=XConfig.from_pretrained('name', output_attentions=True)`).\n"
          ],
          "name": "stderr"
        },
        {
          "output_type": "stream",
          "text": [
            "WARNING:tensorflow:The parameter `return_dict` cannot be set in graph mode and will always be set to `True`.\n"
          ],
          "name": "stdout"
        },
        {
          "output_type": "stream",
          "text": [
            "2021-04-21 01:35:39 tensorflow WARNING: The parameter `return_dict` cannot be set in graph mode and will always be set to `True`.\n"
          ],
          "name": "stderr"
        },
        {
          "output_type": "stream",
          "text": [
            "1349/1349 [==============================] - 192s 130ms/step - loss: 0.2556 - accuracy: 0.9348 - val_loss: 0.0682 - val_accuracy: 0.9789\n",
            "Epoch 2/10\n",
            "1349/1349 [==============================] - 173s 128ms/step - loss: 0.0614 - accuracy: 0.9810 - val_loss: 0.0641 - val_accuracy: 0.9798\n",
            "Epoch 3/10\n",
            "1349/1349 [==============================] - 173s 128ms/step - loss: 0.0459 - accuracy: 0.9850 - val_loss: 0.0637 - val_accuracy: 0.9810\n",
            "Epoch 4/10\n",
            "1349/1349 [==============================] - 173s 128ms/step - loss: 0.0338 - accuracy: 0.9890 - val_loss: 0.0673 - val_accuracy: 0.9803\n",
            "Epoch 5/10\n",
            "1349/1349 [==============================] - 173s 128ms/step - loss: 0.0254 - accuracy: 0.9914 - val_loss: 0.0753 - val_accuracy: 0.9810\n",
            "Epoch 6/10\n",
            "1349/1349 [==============================] - 173s 128ms/step - loss: 0.0204 - accuracy: 0.9931 - val_loss: 0.0773 - val_accuracy: 0.9809\n",
            "Training execution time (mins) 17.63031930923462\n"
          ],
          "name": "stdout"
        }
      ]
    },
    {
      "cell_type": "code",
      "metadata": {
        "colab": {
          "base_uri": "https://localhost:8080/"
        },
        "id": "wPkLAxpCkTrd",
        "outputId": "f36b044d-416b-4fbf-e0dd-ce2fd885f88d"
      },
      "source": [
        "bert_logit = bert.predict(val_data)\n",
        "bert_pred_flat = bert_logit[0].argmax(axis=2).flatten()"
      ],
      "execution_count": null,
      "outputs": [
        {
          "output_type": "stream",
          "text": [
            "WARNING:tensorflow:The parameters `output_attentions`, `output_hidden_states` and `use_cache` cannot be updated when calling a model.They have to be set to True/False in the config object (i.e.: `config=XConfig.from_pretrained('name', output_attentions=True)`).\n"
          ],
          "name": "stdout"
        },
        {
          "output_type": "stream",
          "text": [
            "2021-04-21 03:20:49 tensorflow WARNING: The parameters `output_attentions`, `output_hidden_states` and `use_cache` cannot be updated when calling a model.They have to be set to True/False in the config object (i.e.: `config=XConfig.from_pretrained('name', output_attentions=True)`).\n"
          ],
          "name": "stderr"
        },
        {
          "output_type": "stream",
          "text": [
            "WARNING:tensorflow:The parameter `return_dict` cannot be set in graph mode and will always be set to `True`.\n"
          ],
          "name": "stdout"
        },
        {
          "output_type": "stream",
          "text": [
            "2021-04-21 03:20:49 tensorflow WARNING: The parameter `return_dict` cannot be set in graph mode and will always be set to `True`.\n"
          ],
          "name": "stderr"
        }
      ]
    },
    {
      "cell_type": "code",
      "metadata": {
        "colab": {
          "base_uri": "https://localhost:8080/"
        },
        "id": "E4SRCQzRlYr4",
        "outputId": "ff508e78-0599-43fc-a2cb-fe64cc4d569c"
      },
      "source": [
        "f1_bert = f1_score(te_tags.numpy().flatten(), bert_pred_flat, average = None)\n",
        "print(pd.DataFrame(f1_bert, index = tags))\n",
        "print('Mean F1 across classes: ',np.mean(f1_bert))"
      ],
      "execution_count": null,
      "outputs": [
        {
          "output_type": "stream",
          "text": [
            "              0\n",
            "B-art  0.236842\n",
            "B-eve  0.354430\n",
            "B-geo  0.885323\n",
            "B-gpe  0.944633\n",
            "B-nat  0.232558\n",
            "B-org  0.770604\n",
            "B-per  0.853482\n",
            "B-tim  0.889844\n",
            "I-art  0.065574\n",
            "I-eve  0.225806\n",
            "I-geo  0.782937\n",
            "I-gpe  0.789474\n",
            "I-nat  0.444444\n",
            "I-org  0.772833\n",
            "I-per  0.887477\n",
            "I-tim  0.800646\n",
            "O      0.990599\n",
            "PAD    1.000000\n",
            "Mean F1 across classes:  0.6626392942881936\n"
          ],
          "name": "stdout"
        }
      ]
    },
    {
      "cell_type": "markdown",
      "metadata": {
        "id": "o4YyTqSto5Ux"
      },
      "source": [
        "### Entity Level F-1 for BERT"
      ]
    },
    {
      "cell_type": "code",
      "metadata": {
        "id": "GffNIhrYpA7S"
      },
      "source": [
        "bert_pred = bert_logit[0].argmax(axis=2)"
      ],
      "execution_count": null,
      "outputs": []
    },
    {
      "cell_type": "code",
      "metadata": {
        "id": "tigVlw10rNUs"
      },
      "source": [
        "bert_pred_tag = []\n",
        "y_true_tag = []\n",
        "y_true_te = te_tags.numpy()\n",
        "\n",
        "for i in range(len(bert_pred)):\n",
        "  bert_pred_tag.append(list(map(idx2tag.get, bert_pred[i])))\n",
        "  y_true_tag.append(list(map(idx2tag.get, y_true_te[i])))"
      ],
      "execution_count": null,
      "outputs": []
    },
    {
      "cell_type": "code",
      "metadata": {
        "id": "HQEZyp1ts-06"
      },
      "source": [
        "entity_tag = ['art', 'eve', 'geo', 'gpe', 'nat', 'org', 'per', 'tim']"
      ],
      "execution_count": null,
      "outputs": []
    },
    {
      "cell_type": "code",
      "metadata": {
        "id": "xYWJTJ0ypkzm"
      },
      "source": [
        "from copy import deepcopy\n",
        "\n",
        "metrics_results = {'correct': 0, 'incorrect': 0, 'partial': 0,\n",
        "                   'missed': 0, 'spurious': 0, 'possible': 0, 'actual': 0, 'precision': 0,'recall': 0,}\n",
        "\n",
        "# overall results\n",
        "results = {'strict': deepcopy(metrics_results),\n",
        "           'ent_type': deepcopy(metrics_results),\n",
        "           \n",
        "           }\n",
        "\n",
        "# results aggregated by entity type\n",
        "evaluation_agg_entities_type = {e: deepcopy(results) for e in entity_tag}\n",
        "\n",
        "for true_ents, pred_ents in zip(y_true_tag, bert_pred_tag):    \n",
        "    # compute results for one message\n",
        "    tmp_results, tmp_agg_results = compute_metrics(collect_named_entities(true_ents),collect_named_entities(pred_ents), entity_tag)\n",
        "\n",
        "    # aggregate overall results\n",
        "    for eval_schema in results.keys():\n",
        "        for metric in metrics_results.keys():\n",
        "            results[eval_schema][metric] += tmp_results[eval_schema][metric]\n",
        "\n",
        "\n",
        "    # aggregate results by entity type\n",
        "    for e_type in entity_tag:\n",
        "        for eval_schema in evaluation_agg_entities_type[e_type]:\n",
        "            for metric in tmp_agg_results[e_type][eval_schema]:\n",
        "                evaluation_agg_entities_type[e_type][eval_schema][metric] += tmp_agg_results[e_type][eval_schema][metric]"
      ],
      "execution_count": null,
      "outputs": []
    },
    {
      "cell_type": "code",
      "metadata": {
        "colab": {
          "base_uri": "https://localhost:8080/"
        },
        "id": "prxCAgactuc0",
        "outputId": "bc29fb14-f093-40ba-d11c-e0c21ce1e038"
      },
      "source": [
        "f1_bert_entity = make_precision_recall(evaluation_agg_entities_type,'strict')\n",
        "f1_bert_entity"
      ],
      "execution_count": null,
      "outputs": [
        {
          "output_type": "execute_result",
          "data": {
            "text/plain": [
              "{'art': {'f1': 0.01937046004842615,\n",
              "  'precision': 0.010462074978204011,\n",
              "  'recall': 0.13043478260869565},\n",
              " 'eve': {'f1': 0.018787361229718195,\n",
              "  'precision': 0.00975177304964539,\n",
              "  'recall': 0.2558139534883721},\n",
              " 'geo': {'f1': 0.8403898872982029,\n",
              "  'precision': 0.7894134477825465,\n",
              "  'recall': 0.8984044285249104},\n",
              " 'gpe': {'f1': 0.7182462927143778,\n",
              "  'precision': 0.5826359832635983,\n",
              "  'recall': 0.9361344537815126},\n",
              " 'nat': {'f1': 0.01054481546572935,\n",
              "  'precision': 0.005385996409335727,\n",
              "  'recall': 0.25},\n",
              " 'org': {'f1': 0.6558954119388258,\n",
              "  'precision': 0.5984695025883412,\n",
              "  'recall': 0.7255115961800819},\n",
              " 'per': {'f1': 0.7037150752225975,\n",
              "  'precision': 0.6154672395273899,\n",
              "  'recall': 0.821505376344086},\n",
              " 'tim': {'f1': 0.7075579187238892,\n",
              "  'precision': 0.6130306021717671,\n",
              "  'recall': 0.8365514144589133}}"
            ]
          },
          "metadata": {
            "tags": []
          },
          "execution_count": 222
        }
      ]
    },
    {
      "cell_type": "code",
      "metadata": {
        "colab": {
          "base_uri": "https://localhost:8080/"
        },
        "id": "arQcMwWY82qI",
        "outputId": "549a89a0-bf1a-4a18-80a7-53812956c76a"
      },
      "source": [
        "f1_word_level = {}\n",
        "\n",
        "y_te_flat = np.argmax(y_te_pad, axis = 2).flatten()\n",
        "\n",
        "# Baseline model\n",
        "f1_word_level['Bi-LSTM'] = f1_lstm\n",
        "f1_word_level['BERT'] = f1_bert\n",
        "\n",
        "print(f1_word_level['Bi-LSTM'])\n",
        "print(f1_word_level['BERT'])"
      ],
      "execution_count": null,
      "outputs": [
        {
          "output_type": "stream",
          "text": [
            "[0.         0.26666667 0.87358684 0.95019157 0.32       0.72592593\n",
            " 0.83541223 0.9        0.         0.         0.81303116 0.66666667\n",
            " 0.         0.76958132 0.87297783 0.78496503 0.99078281 1.        ]\n",
            "[0.23684211 0.35443038 0.88532258 0.94463277 0.23255814 0.7706044\n",
            " 0.8534825  0.88984393 0.06557377 0.22580645 0.78293737 0.78947368\n",
            " 0.44444444 0.77283264 0.88747706 0.80064568 0.99059941 1.        ]\n"
          ],
          "name": "stdout"
        }
      ]
    },
    {
      "cell_type": "code",
      "metadata": {
        "colab": {
          "base_uri": "https://localhost:8080/",
          "height": 715
        },
        "id": "K0_S_Avj2-4W",
        "outputId": "e80d6fc9-85c8-46a6-e8f2-82ae9a63a326"
      },
      "source": [
        "labels = list(idx2tag.values())\n",
        "\n",
        "x = np.arange(len(labels))  # the label locations\n",
        "width = 0.25  # the width of the bars\n",
        "\n",
        "fig, ax = plt.subplots(figsize=(12,12))\n",
        "rects1 = ax.bar(x - width * 0.5, f1_word_level['Bi-LSTM'], width, label = 'Bi-LSTM')\n",
        "rects2 = ax.bar(x + width * 0.5, f1_word_level['BERT'], width, label = 'BERT')\n",
        "ax.plot(np.arange(-1, 20, step = 1), [0.6] * 21, '--', label = 'F1 = 0.6')\n",
        "\n",
        "ax.set_ylabel('F1 Scores')\n",
        "ax.set_title('Word Level F1 Scores per Tag and per Model')\n",
        "ax.set_xticks(x)\n",
        "ax.set_xticklabels(labels)\n",
        "ax.legend()\n",
        "plt.savefig('wrd_f1.png')\n",
        "plt.show()"
      ],
      "execution_count": null,
      "outputs": [
        {
          "output_type": "display_data",
          "data": {
            "image/png": "[encoded data removed]",
            "text/plain": [
              "<Figure size 864x864 with 1 Axes>"
            ]
          },
          "metadata": {
            "tags": [],
            "needs_background": "light"
          }
        }
      ]
    },
    {
      "cell_type": "code",
      "metadata": {
        "id": "AnD2pq53BGki"
      },
      "source": [
        "f1_entity_level = {}\n",
        "\n",
        "f1_lstm_entity_list = []\n",
        "f1_bert_entity_list = []\n",
        "for key in f1_lstm_entity.keys():\n",
        "  f1_lstm_entity_list.append(f1_lstm_entity[key]['f1'])\n",
        "  f1_bert_entity_list.append(f1_bert_entity[key]['f1'])\n",
        "\n",
        "\n",
        "# Baseline model\n",
        "f1_entity_level['Bi-LSTM'] = f1_lstm_entity_list\n",
        "f1_entity_level['BERT'] = f1_bert_entity_list"
      ],
      "execution_count": null,
      "outputs": []
    },
    {
      "cell_type": "code",
      "metadata": {
        "colab": {
          "base_uri": "https://localhost:8080/"
        },
        "id": "G1LkkvmFNdjT",
        "outputId": "143cf391-aef7-4b13-d99d-7a36396f4489"
      },
      "source": [
        "np.mean(f1_lstm_entity_list)"
      ],
      "execution_count": null,
      "outputs": [
        {
          "output_type": "execute_result",
          "data": {
            "text/plain": [
              "0.420936952495091"
            ]
          },
          "metadata": {
            "tags": []
          },
          "execution_count": 225
        }
      ]
    },
    {
      "cell_type": "code",
      "metadata": {
        "colab": {
          "base_uri": "https://localhost:8080/"
        },
        "id": "FNTJZjRXJ1S4",
        "outputId": "a33759ed-525b-4bf0-d691-0b83edf28585"
      },
      "source": [
        "np.mean(f1_bert_entity_list)"
      ],
      "execution_count": null,
      "outputs": [
        {
          "output_type": "execute_result",
          "data": {
            "text/plain": [
              "0.45931340283022093"
            ]
          },
          "metadata": {
            "tags": []
          },
          "execution_count": 226
        }
      ]
    },
    {
      "cell_type": "code",
      "metadata": {
        "colab": {
          "base_uri": "https://localhost:8080/",
          "height": 498
        },
        "id": "HlpyUXRA-HS9",
        "outputId": "4d0ad911-64de-4523-8313-e2de97b09108"
      },
      "source": [
        "entity_tag = ['art', 'eve', 'geo', 'gpe', 'nat', 'org', 'per', 'tim']\n",
        "\n",
        "x = np.arange(len(entity_tag))  # the label locations\n",
        "width = 0.3  # the width of the bars\n",
        "\n",
        "fig, ax = plt.subplots(figsize=(8,8))\n",
        "rects1 = ax.bar(x - width * 0.5, f1_entity_level['Bi-LSTM'], width, label = 'Bi-LSTM')\n",
        "rects2 = ax.bar(x + width * 0.5, f1_entity_level['BERT'], width, label = 'BERT')\n",
        "ax.plot(np.arange(-1, 9, step = 1), [0.5] * 10, '--', label = 'F1 = 0.5')\n",
        "\n",
        "ax.set_ylabel('F1 Scores')\n",
        "ax.set_title('Entity Level F1 Scores per Tag and per Model')\n",
        "ax.set_xticks(x)\n",
        "ax.set_xticklabels(entity_tag)\n",
        "ax.legend()\n",
        "plt.savefig('ent_f1.png')\n",
        "plt.show()"
      ],
      "execution_count": null,
      "outputs": [
        {
          "output_type": "display_data",
          "data": {
            "image/png": "[encoded data removed]",
            "text/plain": [
              "<Figure size 576x576 with 1 Axes>"
            ]
          },
          "metadata": {
            "tags": [],
            "needs_background": "light"
          }
        }
      ]
    }
  ]
}