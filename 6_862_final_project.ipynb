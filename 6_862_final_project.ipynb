{
  "nbformat": 4,
  "nbformat_minor": 0,
  "metadata": {
    "colab": {
      "name": "6.862_final_project.ipynb",
      "provenance": [],
      "collapsed_sections": [],
      "machine_shape": "hm"
    },
    "kernelspec": {
      "name": "python3",
      "display_name": "Python 3"
    },
    "language_info": {
      "name": "python"
    },
    "accelerator": "GPU"
  },
  "cells": [
    {
      "cell_type": "markdown",
      "metadata": {
        "id": "M6UpxVZHbFwn"
      },
      "source": [
        "# Import Necessary Library"
      ]
    },
    {
      "cell_type": "code",
      "metadata": {
        "id": "LNjEsPJ-UGtW"
      },
      "source": [
        "import json\n",
        "import os\n",
        "import pickle\n",
        "\n",
        "import matplotlib.pyplot as plt\n",
        "import numpy as np\n",
        "import pandas as pd\n",
        "from sklearn.model_selection import train_test_split\n",
        "from sklearn.metrics import f1_score, confusion_matrix\n",
        "from sklearn.utils.class_weight import compute_class_weight\n",
        "import tensorflow as tf\n",
        "from tensorflow.keras import Model, Sequential\n",
        "from tensorflow.keras.layers import Input, Embedding, Dense, \\\n",
        "                            TimeDistributed, LSTM, Dropout, Bidirectional, \\\n",
        "                            Conv1D, BatchNormalization\n",
        "from tensorflow.keras.models import model_from_json\n",
        "from tensorflow.keras.preprocessing.sequence import pad_sequences\n",
        "from tensorflow.keras.utils import to_categorical\n",
        "\n",
        "plt.style.use(\"tableau-colorblind10\")"
      ],
      "execution_count": 68,
      "outputs": []
    },
    {
      "cell_type": "code",
      "metadata": {
        "id": "OsmoQ3SrtVJ3"
      },
      "source": [
        "from google.colab import drive\n",
        "drive.mount('/content/drive')"
      ],
      "execution_count": null,
      "outputs": []
    },
    {
      "cell_type": "code",
      "metadata": {
        "id": "Y0d6SLrgtiDK"
      },
      "source": [
        "os.chdir('drive/MyDrive/MIT_6.862/')"
      ],
      "execution_count": null,
      "outputs": []
    },
    {
      "cell_type": "code",
      "metadata": {
        "id": "TEG3GPhJTI22"
      },
      "source": [
        "import sys\n",
        "sys.path.append('/content/drive/MyDrive/MIT_6.862/')"
      ],
      "execution_count": 69,
      "outputs": []
    },
    {
      "cell_type": "code",
      "metadata": {
        "id": "4NlLWjRETIJ-"
      },
      "source": [
        "from ner_evaluation.ner_eval import collect_named_entities\n",
        "from ner_evaluation.ner_eval import compute_metrics"
      ],
      "execution_count": 70,
      "outputs": []
    },
    {
      "cell_type": "markdown",
      "metadata": {
        "id": "5Tsr3goibUnD"
      },
      "source": [
        "# Load data and EDA"
      ]
    },
    {
      "cell_type": "code",
      "metadata": {
        "id": "74Ds_FwsZLA-"
      },
      "source": [
        "data = pd.read_csv('NER_data/ner_dataset.csv', encoding=\"latin1\")"
      ],
      "execution_count": null,
      "outputs": []
    },
    {
      "cell_type": "code",
      "metadata": {
        "colab": {
          "base_uri": "https://localhost:8080/",
          "height": 167
        },
        "id": "nNBZfyc0edT2",
        "outputId": "640dd9ad-59f2-42c7-ec65-515255590233"
      },
      "source": [
        "data.describe()"
      ],
      "execution_count": null,
      "outputs": [
        {
          "output_type": "execute_result",
          "data": {
            "text/html": [
              "<div>\n",
              "<style scoped>\n",
              "    .dataframe tbody tr th:only-of-type {\n",
              "        vertical-align: middle;\n",
              "    }\n",
              "\n",
              "    .dataframe tbody tr th {\n",
              "        vertical-align: top;\n",
              "    }\n",
              "\n",
              "    .dataframe thead th {\n",
              "        text-align: right;\n",
              "    }\n",
              "</style>\n",
              "<table border=\"1\" class=\"dataframe\">\n",
              "  <thead>\n",
              "    <tr style=\"text-align: right;\">\n",
              "      <th></th>\n",
              "      <th>Sentence #</th>\n",
              "      <th>Word</th>\n",
              "      <th>POS</th>\n",
              "      <th>Tag</th>\n",
              "    </tr>\n",
              "  </thead>\n",
              "  <tbody>\n",
              "    <tr>\n",
              "      <th>count</th>\n",
              "      <td>47959</td>\n",
              "      <td>1048575</td>\n",
              "      <td>1048575</td>\n",
              "      <td>1048575</td>\n",
              "    </tr>\n",
              "    <tr>\n",
              "      <th>unique</th>\n",
              "      <td>47959</td>\n",
              "      <td>35178</td>\n",
              "      <td>42</td>\n",
              "      <td>17</td>\n",
              "    </tr>\n",
              "    <tr>\n",
              "      <th>top</th>\n",
              "      <td>Sentence: 40496</td>\n",
              "      <td>the</td>\n",
              "      <td>NN</td>\n",
              "      <td>O</td>\n",
              "    </tr>\n",
              "    <tr>\n",
              "      <th>freq</th>\n",
              "      <td>1</td>\n",
              "      <td>52573</td>\n",
              "      <td>145807</td>\n",
              "      <td>887908</td>\n",
              "    </tr>\n",
              "  </tbody>\n",
              "</table>\n",
              "</div>"
            ],
            "text/plain": [
              "             Sentence #     Word      POS      Tag\n",
              "count             47959  1048575  1048575  1048575\n",
              "unique            47959    35178       42       17\n",
              "top     Sentence: 40496      the       NN        O\n",
              "freq                  1    52573   145807   887908"
            ]
          },
          "metadata": {
            "tags": []
          },
          "execution_count": 5
        }
      ]
    },
    {
      "cell_type": "code",
      "metadata": {
        "colab": {
          "base_uri": "https://localhost:8080/"
        },
        "id": "ATLmvXqJegHF",
        "outputId": "a5ffc6f2-b3f4-47a1-e719-e513173ca840"
      },
      "source": [
        "data.dtypes"
      ],
      "execution_count": null,
      "outputs": [
        {
          "output_type": "execute_result",
          "data": {
            "text/plain": [
              "Sentence #    object\n",
              "Word          object\n",
              "POS           object\n",
              "Tag           object\n",
              "dtype: object"
            ]
          },
          "metadata": {
            "tags": []
          },
          "execution_count": 6
        }
      ]
    },
    {
      "cell_type": "code",
      "metadata": {
        "colab": {
          "base_uri": "https://localhost:8080/",
          "height": 197
        },
        "id": "avb-_5fiZCsb",
        "outputId": "71666ebf-8f58-4faf-eefb-554f6bb6bc4e"
      },
      "source": [
        "data.head()"
      ],
      "execution_count": null,
      "outputs": [
        {
          "output_type": "execute_result",
          "data": {
            "text/html": [
              "<div>\n",
              "<style scoped>\n",
              "    .dataframe tbody tr th:only-of-type {\n",
              "        vertical-align: middle;\n",
              "    }\n",
              "\n",
              "    .dataframe tbody tr th {\n",
              "        vertical-align: top;\n",
              "    }\n",
              "\n",
              "    .dataframe thead th {\n",
              "        text-align: right;\n",
              "    }\n",
              "</style>\n",
              "<table border=\"1\" class=\"dataframe\">\n",
              "  <thead>\n",
              "    <tr style=\"text-align: right;\">\n",
              "      <th></th>\n",
              "      <th>Sentence #</th>\n",
              "      <th>Word</th>\n",
              "      <th>POS</th>\n",
              "      <th>Tag</th>\n",
              "    </tr>\n",
              "  </thead>\n",
              "  <tbody>\n",
              "    <tr>\n",
              "      <th>0</th>\n",
              "      <td>Sentence: 1</td>\n",
              "      <td>Thousands</td>\n",
              "      <td>NNS</td>\n",
              "      <td>O</td>\n",
              "    </tr>\n",
              "    <tr>\n",
              "      <th>1</th>\n",
              "      <td>NaN</td>\n",
              "      <td>of</td>\n",
              "      <td>IN</td>\n",
              "      <td>O</td>\n",
              "    </tr>\n",
              "    <tr>\n",
              "      <th>2</th>\n",
              "      <td>NaN</td>\n",
              "      <td>demonstrators</td>\n",
              "      <td>NNS</td>\n",
              "      <td>O</td>\n",
              "    </tr>\n",
              "    <tr>\n",
              "      <th>3</th>\n",
              "      <td>NaN</td>\n",
              "      <td>have</td>\n",
              "      <td>VBP</td>\n",
              "      <td>O</td>\n",
              "    </tr>\n",
              "    <tr>\n",
              "      <th>4</th>\n",
              "      <td>NaN</td>\n",
              "      <td>marched</td>\n",
              "      <td>VBN</td>\n",
              "      <td>O</td>\n",
              "    </tr>\n",
              "  </tbody>\n",
              "</table>\n",
              "</div>"
            ],
            "text/plain": [
              "    Sentence #           Word  POS Tag\n",
              "0  Sentence: 1      Thousands  NNS   O\n",
              "1          NaN             of   IN   O\n",
              "2          NaN  demonstrators  NNS   O\n",
              "3          NaN           have  VBP   O\n",
              "4          NaN        marched  VBN   O"
            ]
          },
          "metadata": {
            "tags": []
          },
          "execution_count": 7
        }
      ]
    },
    {
      "cell_type": "code",
      "metadata": {
        "id": "Fo85NaYBaYiy"
      },
      "source": [
        "# fill in the empty positions in column Sentence #\n",
        "sentence_sep = data['Sentence #'].isna()\n",
        "for i in range(data.shape[0]):\n",
        "    if sentence_sep[i]:\n",
        "        data.iloc[i,0] = data.iloc[i-1,0]"
      ],
      "execution_count": null,
      "outputs": []
    },
    {
      "cell_type": "code",
      "metadata": {
        "id": "-98_0ltxhRNk"
      },
      "source": [
        "# save imputed dataset to csv\n",
        "data.to_csv('NER_data/ner_dataset_fill.csv', index=False)"
      ],
      "execution_count": null,
      "outputs": []
    },
    {
      "cell_type": "markdown",
      "metadata": {
        "id": "VkmZJe2Rlgkv"
      },
      "source": [
        "## Start to run from here!"
      ]
    },
    {
      "cell_type": "code",
      "metadata": {
        "id": "acMTy4pklXHW"
      },
      "source": [
        "# read in imputed dataset\n",
        "df = pd.read_csv('NER_data/ner_dataset_fill.csv', index_col=False, encoding=\"latin1\")"
      ],
      "execution_count": null,
      "outputs": []
    },
    {
      "cell_type": "code",
      "metadata": {
        "colab": {
          "base_uri": "https://localhost:8080/",
          "height": 197
        },
        "id": "lOz7WjktmGGh",
        "outputId": "71d1842b-d16e-443b-9b9d-2337d70ee44e"
      },
      "source": [
        "df.head()"
      ],
      "execution_count": null,
      "outputs": [
        {
          "output_type": "execute_result",
          "data": {
            "text/html": [
              "<div>\n",
              "<style scoped>\n",
              "    .dataframe tbody tr th:only-of-type {\n",
              "        vertical-align: middle;\n",
              "    }\n",
              "\n",
              "    .dataframe tbody tr th {\n",
              "        vertical-align: top;\n",
              "    }\n",
              "\n",
              "    .dataframe thead th {\n",
              "        text-align: right;\n",
              "    }\n",
              "</style>\n",
              "<table border=\"1\" class=\"dataframe\">\n",
              "  <thead>\n",
              "    <tr style=\"text-align: right;\">\n",
              "      <th></th>\n",
              "      <th>Sentence #</th>\n",
              "      <th>Word</th>\n",
              "      <th>POS</th>\n",
              "      <th>Tag</th>\n",
              "    </tr>\n",
              "  </thead>\n",
              "  <tbody>\n",
              "    <tr>\n",
              "      <th>0</th>\n",
              "      <td>Sentence: 1</td>\n",
              "      <td>Thousands</td>\n",
              "      <td>NNS</td>\n",
              "      <td>O</td>\n",
              "    </tr>\n",
              "    <tr>\n",
              "      <th>1</th>\n",
              "      <td>Sentence: 1</td>\n",
              "      <td>of</td>\n",
              "      <td>IN</td>\n",
              "      <td>O</td>\n",
              "    </tr>\n",
              "    <tr>\n",
              "      <th>2</th>\n",
              "      <td>Sentence: 1</td>\n",
              "      <td>demonstrators</td>\n",
              "      <td>NNS</td>\n",
              "      <td>O</td>\n",
              "    </tr>\n",
              "    <tr>\n",
              "      <th>3</th>\n",
              "      <td>Sentence: 1</td>\n",
              "      <td>have</td>\n",
              "      <td>VBP</td>\n",
              "      <td>O</td>\n",
              "    </tr>\n",
              "    <tr>\n",
              "      <th>4</th>\n",
              "      <td>Sentence: 1</td>\n",
              "      <td>marched</td>\n",
              "      <td>VBN</td>\n",
              "      <td>O</td>\n",
              "    </tr>\n",
              "  </tbody>\n",
              "</table>\n",
              "</div>"
            ],
            "text/plain": [
              "    Sentence #           Word  POS Tag\n",
              "0  Sentence: 1      Thousands  NNS   O\n",
              "1  Sentence: 1             of   IN   O\n",
              "2  Sentence: 1  demonstrators  NNS   O\n",
              "3  Sentence: 1           have  VBP   O\n",
              "4  Sentence: 1        marched  VBN   O"
            ]
          },
          "metadata": {
            "tags": []
          },
          "execution_count": 6
        }
      ]
    },
    {
      "cell_type": "code",
      "metadata": {
        "colab": {
          "base_uri": "https://localhost:8080/"
        },
        "id": "l99hJuJ7m5j0",
        "outputId": "18c8a1a3-64c5-4d12-dbe2-718d2907423d"
      },
      "source": [
        "# check if there are any NAs left\n",
        "df.isna().any()"
      ],
      "execution_count": null,
      "outputs": [
        {
          "output_type": "execute_result",
          "data": {
            "text/plain": [
              "Sentence #    False\n",
              "Word          False\n",
              "POS           False\n",
              "Tag           False\n",
              "dtype: bool"
            ]
          },
          "metadata": {
            "tags": []
          },
          "execution_count": 7
        }
      ]
    },
    {
      "cell_type": "code",
      "metadata": {
        "id": "vMdhLvsZlpPa"
      },
      "source": [
        "# Create unique word list, store the list and its length\n",
        "words = sorted(df['Word'].unique())\n",
        "words.append('ENDPAD')\n",
        "words_size = len(words)\n",
        "\n",
        "# Create unique tag list, store the list and its length\n",
        "tags = sorted(df['Tag'].unique())\n",
        "tags.append('PAD')\n",
        "tags_size = len(tags)\n",
        "\n",
        "# Create two dictionaries word:word_idx and word_idx:word\n",
        "word2idx = {value: count for count, value in enumerate(words)}\n",
        "idx2word = {count: value for value, count in word2idx.items()}\n",
        "\n",
        "# Create two dictionaries tag:tag_idx and tag_idx:tag\n",
        "tag2idx = {value: count for count, value in enumerate(tags)}\n",
        "idx2tag = {count: value for value, count in tag2idx.items()}"
      ],
      "execution_count": null,
      "outputs": []
    },
    {
      "cell_type": "code",
      "metadata": {
        "colab": {
          "base_uri": "https://localhost:8080/"
        },
        "id": "6KJ9JA6byRGL",
        "outputId": "b9558528-c73d-4ae7-8685-ed72ce03afbb"
      },
      "source": [
        "# create list of list where each inner list is the list of word for each sentences\n",
        "# create list of list where each inner list is the list of tag for each sentences\n",
        "sentence_group = df.groupby('Sentence #')\n",
        "sentence_list = []\n",
        "tag_list = []\n",
        "count = 1\n",
        "for sen in sentence_group.groups.keys():\n",
        "    if count % 5000 == 0:\n",
        "        print(f'iter: {count}')\n",
        "    count += 1\n",
        "    df_group = sentence_group.get_group(sen)\n",
        "    sentence_list.append(df_group['Word'].tolist())\n",
        "    tag_list.append(df_group['Tag'].tolist())"
      ],
      "execution_count": null,
      "outputs": [
        {
          "output_type": "stream",
          "text": [
            "iter: 5000\n",
            "iter: 10000\n",
            "iter: 15000\n",
            "iter: 20000\n",
            "iter: 25000\n",
            "iter: 30000\n",
            "iter: 35000\n",
            "iter: 40000\n",
            "iter: 45000\n"
          ],
          "name": "stdout"
        }
      ]
    },
    {
      "cell_type": "code",
      "metadata": {
        "id": "s0T1V_Dazm0u"
      },
      "source": [
        "# create list of list where each inner list is the list of word indices for each sentences\n",
        "# create list of list where each inner list is the list of tag indices for each sentences\n",
        "X = []\n",
        "y = []\n",
        "for i in range(len(sentence_list)):\n",
        "    X.append(list(map(word2idx.get, sentence_list[i])))\n",
        "    y.append(list(map(tag2idx.get, tag_list[i])))"
      ],
      "execution_count": null,
      "outputs": []
    },
    {
      "cell_type": "code",
      "metadata": {
        "colab": {
          "base_uri": "https://localhost:8080/"
        },
        "id": "8AwZfJD-06Ex",
        "outputId": "962e7215-3122-4799-b79c-0ec2538f5cfe"
      },
      "source": [
        "# pick the appropriate sentence length. Here we want to make sure that the majority of our sentences is shorter than our picked length.\n",
        "# evectually we land on the 99.75% percentile.\n",
        "max_length = int(np.percentile([len(sen) for sen in sentence_list], 99.75))\n",
        "num_long_length = len([sen for sen in sentence_list if len(sen) > 40])\n",
        "print(f'Picked max length for one sentence: {max_length}')\n",
        "print(f'Number of sentences being trimmed: {num_long_length}')"
      ],
      "execution_count": null,
      "outputs": [
        {
          "output_type": "stream",
          "text": [
            "Picked max length for one sentence: 50\n",
            "Number of sentences being trimmed: 772\n"
          ],
          "name": "stdout"
        }
      ]
    },
    {
      "cell_type": "code",
      "metadata": {
        "id": "A7OZLyfrMqsx"
      },
      "source": [
        "# set max_length\n",
        "max_length = 50"
      ],
      "execution_count": null,
      "outputs": []
    },
    {
      "cell_type": "code",
      "metadata": {
        "id": "Ahwtu2bE2-0U"
      },
      "source": [
        "# pad both our X and y \n",
        "X_pad = pad_sequences(sequences = X, maxlen = max_length, padding = 'post', value = word2idx['ENDPAD'])\n",
        "y_pad = pad_sequences(sequences = y, maxlen = max_length, padding = 'post', value = tag2idx[\"PAD\"])"
      ],
      "execution_count": null,
      "outputs": []
    },
    {
      "cell_type": "code",
      "metadata": {
        "id": "TlBWO8yvqU7k"
      },
      "source": [
        "# one hot encode our target variable\n",
        "y_pad = to_categorical(y_pad, num_classes=tags_size)"
      ],
      "execution_count": null,
      "outputs": []
    },
    {
      "cell_type": "markdown",
      "metadata": {
        "id": "5gQHZNTuKWMg"
      },
      "source": [
        "## Train Test Split"
      ]
    },
    {
      "cell_type": "code",
      "metadata": {
        "id": "aJFliV0rKWoW"
      },
      "source": [
        "# split train-test with ratio 0.1\n",
        "X_tr, X_te, y_tr, y_te = train_test_split(X_pad, y_pad, test_size=0.1, random_state=42)"
      ],
      "execution_count": null,
      "outputs": []
    },
    {
      "cell_type": "markdown",
      "metadata": {
        "id": "1MO8erkpHP9c"
      },
      "source": [
        "## Build Bidirectional LSTM Model"
      ]
    },
    {
      "cell_type": "code",
      "metadata": {
        "id": "DhRgrgS7IqY-"
      },
      "source": [
        "# set parameters for Bidirectional LSTM\n",
        "n_units = 100\n",
        "drop_rate = .1\n",
        "dim_embed = 50\n",
        "\n",
        "optimizer = \"rmsprop\"\n",
        "metrics = ['categorical_accuracy']\n",
        "\n",
        "batch_size = 32\n",
        "epochs = 20\n",
        "validation_split = 0.1\n",
        "verbose = 1"
      ],
      "execution_count": null,
      "outputs": []
    },
    {
      "cell_type": "code",
      "metadata": {
        "id": "tKyoVvS_gE2p"
      },
      "source": [
        "# calculate potential class weights for loss based on class imbalance\n",
        "# didn't use this part eventually\n",
        "y_tr_int = np.argmax(y_tr, axis=2).flatten()\n",
        "class_weights = compute_class_weight('balanced', np.unique(y_tr_int), y_tr_int)\n",
        "class_weights = np.asarray(class_weights)"
      ],
      "execution_count": null,
      "outputs": []
    },
    {
      "cell_type": "code",
      "metadata": {
        "id": "VaATzl2Abdp2"
      },
      "source": [
        "# to calculate the standard categorical cross entropy, we set the class weight to all ones\n",
        "weights = [1,1,1,1,1,1,1,1,1,1,1,1,1,1,1,1,1,1]"
      ],
      "execution_count": null,
      "outputs": []
    },
    {
      "cell_type": "code",
      "metadata": {
        "id": "2W9FrAmqbWWv"
      },
      "source": [
        "# define a custom loss function that combines class weights with categorical cross entropy loss\n",
        "def custom_loss(y_true, y_pred):\n",
        "\n",
        "  # get the first two dimensions from y_pred\n",
        "  if y_pred.shape[0] is None:\n",
        "    x = 1\n",
        "  else:\n",
        "    x = int(y_pred.shape[0])\n",
        "  y = y_pred.shape[1]\n",
        "\n",
        "  # reshape weight for each batch\n",
        "  batch_weights = np.array([np.array(weights)] * (x*y))\n",
        "  batch_weights = batch_weights.reshape(x,y,18)\n",
        "  batch_weights = tf.cast(batch_weights, tf.float64)\n",
        "\n",
        "  # cast y_true and y_pred into tf.float64\n",
        "  y_true = tf.cast(y_true, tf.float64)\n",
        "  y_pred = tf.cast(y_pred, tf.float64)\n",
        "\n",
        "  # return weighted categorical cross entropy\n",
        "  return tf.math.reduce_sum(y_true * batch_weights, axis=-1) * tf.keras.losses.categorical_crossentropy(y_true, y_pred)"
      ],
      "execution_count": null,
      "outputs": []
    },
    {
      "cell_type": "code",
      "metadata": {
        "id": "vBSvIjC_3_K8"
      },
      "source": [
        "# Build BiLSTM model\n",
        "model_title = \"BiLSTM\"\n",
        "model = Sequential()\n",
        "model.add(\n",
        "    Embedding(\n",
        "        input_dim = words_size, output_dim = dim_embed, input_length = max_length\n",
        "    )\n",
        ")\n",
        "model.add(Dropout(drop_rate))\n",
        "model.add(Bidirectional(LSTM(n_units, return_sequences = True)))\n",
        "model.add(TimeDistributed(Dense(tags_size, activation = 'softmax')))\n",
        "\n",
        "# Compile model\n",
        "model.compile(optimizer=optimizer, loss=custom_loss, metrics=metrics)"
      ],
      "execution_count": null,
      "outputs": []
    },
    {
      "cell_type": "code",
      "metadata": {
        "id": "IyoIJgi4mUCB",
        "colab": {
          "base_uri": "https://localhost:8080/"
        },
        "outputId": "60566182-b5f7-4f38-df5d-57e05d51f751"
      },
      "source": [
        "print(model.summary())"
      ],
      "execution_count": null,
      "outputs": [
        {
          "output_type": "stream",
          "text": [
            "Model: \"sequential_1\"\n",
            "_________________________________________________________________\n",
            "Layer (type)                 Output Shape              Param #   \n",
            "=================================================================\n",
            "embedding_1 (Embedding)      (None, 50, 50)            1758950   \n",
            "_________________________________________________________________\n",
            "dropout_1 (Dropout)          (None, 50, 50)            0         \n",
            "_________________________________________________________________\n",
            "bidirectional_1 (Bidirection (None, 50, 200)           120800    \n",
            "_________________________________________________________________\n",
            "time_distributed_1 (TimeDist (None, 50, 18)            3618      \n",
            "=================================================================\n",
            "Total params: 1,883,368\n",
            "Trainable params: 1,883,368\n",
            "Non-trainable params: 0\n",
            "_________________________________________________________________\n",
            "None\n"
          ],
          "name": "stdout"
        }
      ]
    },
    {
      "cell_type": "code",
      "metadata": {
        "id": "vwUHY9vARMqz"
      },
      "source": [
        "# set early stopping for model\n",
        "early_stopping = tf.keras.callbacks.EarlyStopping(\n",
        "    monitor='val_loss', min_delta=0, patience=3, verbose=0, mode='auto'\n",
        ")\n",
        "\n",
        "callbacks = [early_stopping]"
      ],
      "execution_count": null,
      "outputs": []
    },
    {
      "cell_type": "code",
      "metadata": {
        "colab": {
          "base_uri": "https://localhost:8080/"
        },
        "id": "ztk1y9rJKPdj",
        "outputId": "111996d6-4438-4651-dc69-0f483a2fe511"
      },
      "source": [
        "# fit the model\n",
        "history = model.fit(X_tr, y_tr, batch_size=batch_size, epochs=epochs, \n",
        "                  validation_split=validation_split, callbacks=callbacks, verbose=verbose)"
      ],
      "execution_count": null,
      "outputs": [
        {
          "output_type": "stream",
          "text": [
            "Epoch 1/20\n",
            "Tensor(\"custom_loss/Sum:0\", shape=(None, 50), dtype=float64)\n",
            "Tensor(\"custom_loss/Sum:0\", shape=(None, 50), dtype=float64)\n",
            "1212/1214 [============================>.] - ETA: 0s - loss: 0.2974 - categorical_accuracy: 0.9297Tensor(\"custom_loss/Sum:0\", shape=(None, 50), dtype=float64)\n",
            "1214/1214 [==============================] - 20s 14ms/step - loss: 0.2970 - categorical_accuracy: 0.9297 - val_loss: 0.0636 - val_categorical_accuracy: 0.9815\n",
            "Epoch 2/20\n",
            "1214/1214 [==============================] - 16s 13ms/step - loss: 0.0552 - categorical_accuracy: 0.9839 - val_loss: 0.0529 - val_categorical_accuracy: 0.9842\n",
            "Epoch 3/20\n",
            "1214/1214 [==============================] - 16s 13ms/step - loss: 0.0454 - categorical_accuracy: 0.9866 - val_loss: 0.0496 - val_categorical_accuracy: 0.9852\n",
            "Epoch 4/20\n",
            "1214/1214 [==============================] - 15s 13ms/step - loss: 0.0403 - categorical_accuracy: 0.9881 - val_loss: 0.0479 - val_categorical_accuracy: 0.9855\n",
            "Epoch 5/20\n",
            "1214/1214 [==============================] - 15s 13ms/step - loss: 0.0367 - categorical_accuracy: 0.9891 - val_loss: 0.0469 - val_categorical_accuracy: 0.9856\n",
            "Epoch 6/20\n",
            "1214/1214 [==============================] - 16s 13ms/step - loss: 0.0345 - categorical_accuracy: 0.9898 - val_loss: 0.0472 - val_categorical_accuracy: 0.9857\n",
            "Epoch 7/20\n",
            "1214/1214 [==============================] - 16s 13ms/step - loss: 0.0322 - categorical_accuracy: 0.9903 - val_loss: 0.0466 - val_categorical_accuracy: 0.9859\n",
            "Epoch 8/20\n",
            "1214/1214 [==============================] - 16s 13ms/step - loss: 0.0307 - categorical_accuracy: 0.9907 - val_loss: 0.0472 - val_categorical_accuracy: 0.9856\n",
            "Epoch 9/20\n",
            "1214/1214 [==============================] - 16s 13ms/step - loss: 0.0281 - categorical_accuracy: 0.9916 - val_loss: 0.0480 - val_categorical_accuracy: 0.9855\n",
            "Epoch 10/20\n",
            "1214/1214 [==============================] - 16s 13ms/step - loss: 0.0269 - categorical_accuracy: 0.9919 - val_loss: 0.0481 - val_categorical_accuracy: 0.9856\n"
          ],
          "name": "stdout"
        }
      ]
    },
    {
      "cell_type": "code",
      "metadata": {
        "colab": {
          "base_uri": "https://localhost:8080/"
        },
        "id": "-eqnSdQSLRXs",
        "outputId": "4a490edc-cc39-4f3e-a78e-55d7f929991b"
      },
      "source": [
        "# Examine performance for  \n",
        "y_pred = model.predict(X_te, batch_size = batch_size, verbose = verbose)\n",
        "y_pred_flat = np.argmax(y_pred, axis = 2).flatten()\n",
        "y_te_flat = np.argmax(y_te, axis = 2).flatten()\n",
        "\n",
        "# display f1 score for each class and \n",
        "f1 = f1_score(y_te_flat, y_pred_flat, average = None)\n",
        "print(pd.DataFrame(f1, index = tags))\n",
        "print('Mean F1 across classes: ',np.mean(f1))"
      ],
      "execution_count": 76,
      "outputs": [
        {
          "output_type": "stream",
          "text": [
            "150/150 [==============================] - 1s 4ms/step\n",
            "              0\n",
            "B-art  0.076923\n",
            "B-eve  0.408163\n",
            "B-geo  0.881101\n",
            "B-gpe  0.951531\n",
            "B-nat  0.296296\n",
            "B-org  0.740595\n",
            "B-per  0.834279\n",
            "B-tim  0.903162\n",
            "I-art  0.000000\n",
            "I-eve  0.285714\n",
            "I-geo  0.800275\n",
            "I-gpe  0.720000\n",
            "I-nat  0.000000\n",
            "I-org  0.779620\n",
            "I-per  0.870602\n",
            "I-tim  0.782074\n",
            "O      0.991321\n",
            "PAD    1.000000\n",
            "Mean F1 across classes:  0.628980921059854\n"
          ],
          "name": "stdout"
        }
      ]
    }
  ]
}